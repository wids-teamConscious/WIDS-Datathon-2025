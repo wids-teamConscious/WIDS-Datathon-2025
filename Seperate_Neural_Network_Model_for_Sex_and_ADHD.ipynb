{
  "nbformat": 4,
  "nbformat_minor": 0,
  "metadata": {
    "colab": {
      "provenance": [],
      "collapsed_sections": [
        "ddIcW8Hgn0_C",
        "O2fP8z6GVMcv"
      ]
    },
    "kernelspec": {
      "name": "python3",
      "display_name": "Python 3"
    },
    "language_info": {
      "name": "python"
    }
  },
  "cells": [
    {
      "cell_type": "markdown",
      "source": [
        "### Import Libaries"
      ],
      "metadata": {
        "id": "OO2fSn7-njsG"
      }
    },
    {
      "cell_type": "code",
      "source": [
        "import pandas as pd\n",
        "import numpy as np\n",
        "import matplotlib.pyplot as plt\n",
        "import seaborn as sns\n",
        "import warnings\n",
        "from sklearn.model_selection import train_test_split\n",
        "from sklearn.metrics import accuracy_score, confusion_matrix, precision_score, recall_score, ConfusionMatrixDisplay, f1_score\n",
        "warnings.filterwarnings('ignore')\n",
        "\n",
        "from google.colab import drive\n",
        "drive.mount('/content/drive')"
      ],
      "metadata": {
        "id": "yVeIc1RXnm0i",
        "colab": {
          "base_uri": "https://localhost:8080/"
        },
        "outputId": "dd6e5521-1e2c-4c28-e2cb-d03f84cb8785"
      },
      "execution_count": null,
      "outputs": [
        {
          "output_type": "stream",
          "name": "stdout",
          "text": [
            "Mounted at /content/drive\n"
          ]
        }
      ]
    },
    {
      "cell_type": "markdown",
      "source": [
        "### Import Data"
      ],
      "metadata": {
        "id": "VjXZCyrUngWc"
      }
    },
    {
      "cell_type": "code",
      "execution_count": 173,
      "metadata": {
        "id": "rfQjCQBqncc6"
      },
      "outputs": [],
      "source": [
        "df_categorical = pd.read_excel('/content/drive/MyDrive/WiDS/TRAIN_CATEGORICAL_METADATA.xlsx')\n",
        "df_functional = pd.read_csv('/content/drive/MyDrive/WiDS/TRAIN_FUNCTIONAL_CONNECTOME_MATRICES.csv')\n",
        "df_quantitative = pd.read_excel('/content/drive/MyDrive/WiDS/TRAIN_QUANTITATIVE_METADATA.xlsx')\n",
        "df_target = pd.read_excel('/content/drive/MyDrive/WiDS/TRAINING_SOLUTIONS.xlsx')"
      ]
    },
    {
      "cell_type": "markdown",
      "source": [
        "### Data Exploration"
      ],
      "metadata": {
        "id": "ddIcW8Hgn0_C"
      }
    },
    {
      "cell_type": "code",
      "source": [
        "print('target shape: ', df_target.shape)\n",
        "print('target head: \\n', df_target.head())\n",
        "print('target columns: \\n', df_target.columns)"
      ],
      "metadata": {
        "colab": {
          "base_uri": "https://localhost:8080/"
        },
        "id": "y73jAJVFn32E",
        "outputId": "b4e46950-924d-4caa-c72c-45c5af036c26"
      },
      "execution_count": null,
      "outputs": [
        {
          "output_type": "stream",
          "name": "stdout",
          "text": [
            "target shape:  (1213, 3)\n",
            "target head: \n",
            "   participant_id  ADHD_Outcome  Sex_F\n",
            "0   UmrK0vMLopoR             1      1\n",
            "1   CPaeQkhcjg7d             1      0\n",
            "2   Nb4EetVPm3gs             1      0\n",
            "3   p4vPhVu91o4b             1      1\n",
            "4   M09PXs7arQ5E             1      1\n",
            "target columns: \n",
            " Index(['participant_id', 'ADHD_Outcome', 'Sex_F'], dtype='object')\n"
          ]
        }
      ]
    },
    {
      "cell_type": "code",
      "source": [
        "print('categorcial shape: ', df_categorical.shape)\n",
        "print('categorical head: \\n', df_categorical.head())\n",
        "print('categorical columns: \\n', df_categorical.columns)"
      ],
      "metadata": {
        "colab": {
          "base_uri": "https://localhost:8080/"
        },
        "id": "_F-n-vpwn7p6",
        "outputId": "7e04a7fc-7597-4aed-f0d1-9c2a5df91dd2",
        "collapsed": true
      },
      "execution_count": null,
      "outputs": [
        {
          "output_type": "stream",
          "name": "stdout",
          "text": [
            "categorcial shape:  (1213, 10)\n",
            "categorical head: \n",
            "   participant_id  Basic_Demos_Enroll_Year  Basic_Demos_Study_Site  \\\n",
            "0   UmrK0vMLopoR                     2016                       1   \n",
            "1   CPaeQkhcjg7d                     2019                       3   \n",
            "2   Nb4EetVPm3gs                     2016                       1   \n",
            "3   p4vPhVu91o4b                     2018                       3   \n",
            "4   M09PXs7arQ5E                     2019                       3   \n",
            "\n",
            "   PreInt_Demos_Fam_Child_Ethnicity  PreInt_Demos_Fam_Child_Race  \\\n",
            "0                               0.0                            0   \n",
            "1                               1.0                            2   \n",
            "2                               1.0                            8   \n",
            "3                               0.0                            8   \n",
            "4                               0.0                            1   \n",
            "\n",
            "   MRI_Track_Scan_Location  Barratt_Barratt_P1_Edu  Barratt_Barratt_P1_Occ  \\\n",
            "0                        1                      21                      45   \n",
            "1                        3                      15                      15   \n",
            "2                        1                      18                      40   \n",
            "3                        3                      15                      30   \n",
            "4                        3                      15                      20   \n",
            "\n",
            "   Barratt_Barratt_P2_Edu  Barratt_Barratt_P2_Occ  \n",
            "0                      21                      45  \n",
            "1                       0                       0  \n",
            "2                       0                       0  \n",
            "3                      18                       0  \n",
            "4                       0                       0  \n",
            "categorical columns: \n",
            " Index(['participant_id', 'Basic_Demos_Enroll_Year', 'Basic_Demos_Study_Site',\n",
            "       'PreInt_Demos_Fam_Child_Ethnicity', 'PreInt_Demos_Fam_Child_Race',\n",
            "       'MRI_Track_Scan_Location', 'Barratt_Barratt_P1_Edu',\n",
            "       'Barratt_Barratt_P1_Occ', 'Barratt_Barratt_P2_Edu',\n",
            "       'Barratt_Barratt_P2_Occ'],\n",
            "      dtype='object')\n"
          ]
        }
      ]
    },
    {
      "cell_type": "code",
      "source": [
        "print('functional shape: ', df_functional.shape)\n",
        "print('functional head: \\n', df_functional.head())\n",
        "print('functional columns: \\n', df_functional.columns)"
      ],
      "metadata": {
        "colab": {
          "base_uri": "https://localhost:8080/"
        },
        "id": "zlSZ4WR1n9c-",
        "outputId": "eb2f41b9-9af0-495a-8934-611a8f74a687",
        "collapsed": true
      },
      "execution_count": null,
      "outputs": [
        {
          "output_type": "stream",
          "name": "stdout",
          "text": [
            "functional shape:  (1213, 19901)\n",
            "functional head: \n",
            "   participant_id  0throw_1thcolumn  0throw_2thcolumn  0throw_3thcolumn  \\\n",
            "0   70z8Q2xdTXM3          0.093473          0.146902          0.067893   \n",
            "1   WHWymJu6zNZi          0.029580          0.179323          0.112933   \n",
            "2   4PAQp1M6EyAo         -0.051580          0.139734          0.068295   \n",
            "3   obEacy4Of68I          0.016273          0.204702          0.115980   \n",
            "4   s7WzzDcmDOhF          0.065771          0.098714          0.097604   \n",
            "\n",
            "   0throw_4thcolumn  0throw_5thcolumn  0throw_6thcolumn  0throw_7thcolumn  \\\n",
            "0          0.015141          0.070221          0.063997          0.055382   \n",
            "1          0.038291          0.104899          0.064250          0.008488   \n",
            "2          0.046991          0.111085          0.026978          0.151377   \n",
            "3          0.043103          0.056431          0.057615          0.055773   \n",
            "4          0.112988          0.071139          0.085607          0.019392   \n",
            "\n",
            "   0throw_8thcolumn  0throw_9thcolumn  ...  195throw_196thcolumn  \\\n",
            "0         -0.035335          0.068583  ...              0.003404   \n",
            "1          0.077505         -0.004750  ...             -0.008409   \n",
            "2          0.021198          0.083721  ...              0.053245   \n",
            "3          0.075030          0.001033  ...             -0.023918   \n",
            "4         -0.036403         -0.020375  ...              0.066439   \n",
            "\n",
            "   195throw_197thcolumn  195throw_198thcolumn  195throw_199thcolumn  \\\n",
            "0             -0.010359             -0.050968             -0.014365   \n",
            "1             -0.008479              0.020891              0.017754   \n",
            "2             -0.028003              0.028773              0.024556   \n",
            "3             -0.005356              0.018607              0.016193   \n",
            "4             -0.076680             -0.047530             -0.031443   \n",
            "\n",
            "   196throw_197thcolumn  196throw_198thcolumn  196throw_199thcolumn  \\\n",
            "0              0.128066              0.112646             -0.058980   \n",
            "1              0.094040              0.035141              0.032537   \n",
            "2              0.166343              0.058925              0.035485   \n",
            "3              0.072955              0.130135              0.056120   \n",
            "4              0.221213              0.007343              0.005763   \n",
            "\n",
            "   197throw_198thcolumn  197throw_199thcolumn  198throw_199thcolumn  \n",
            "0              0.028228              0.133582              0.143372  \n",
            "1              0.075007              0.115350              0.138200  \n",
            "2              0.063661              0.042862              0.162162  \n",
            "3              0.084784              0.114148              0.190584  \n",
            "4              0.083820              0.079582              0.067269  \n",
            "\n",
            "[5 rows x 19901 columns]\n",
            "functional columns: \n",
            " Index(['participant_id', '0throw_1thcolumn', '0throw_2thcolumn',\n",
            "       '0throw_3thcolumn', '0throw_4thcolumn', '0throw_5thcolumn',\n",
            "       '0throw_6thcolumn', '0throw_7thcolumn', '0throw_8thcolumn',\n",
            "       '0throw_9thcolumn',\n",
            "       ...\n",
            "       '195throw_196thcolumn', '195throw_197thcolumn', '195throw_198thcolumn',\n",
            "       '195throw_199thcolumn', '196throw_197thcolumn', '196throw_198thcolumn',\n",
            "       '196throw_199thcolumn', '197throw_198thcolumn', '197throw_199thcolumn',\n",
            "       '198throw_199thcolumn'],\n",
            "      dtype='object', length=19901)\n"
          ]
        }
      ]
    },
    {
      "cell_type": "code",
      "source": [
        "print('quantitative shape: ', df_quantitative.shape)\n",
        "print('quantitative head: \\n', df_quantitative.head())\n",
        "print('quantitative columns: \\n', df_quantitative.columns)"
      ],
      "metadata": {
        "colab": {
          "base_uri": "https://localhost:8080/"
        },
        "collapsed": true,
        "id": "il0CkCuVoDA4",
        "outputId": "c187daf9-fd28-4448-b472-a061d0a712a9"
      },
      "execution_count": null,
      "outputs": [
        {
          "output_type": "stream",
          "name": "stdout",
          "text": [
            "quantitative shape:  (1213, 19)\n",
            "quantitative head: \n",
            "   participant_id  EHQ_EHQ_Total  ColorVision_CV_Score  APQ_P_APQ_P_CP  \\\n",
            "0   UmrK0vMLopoR          40.00                    13               3   \n",
            "1   CPaeQkhcjg7d         -94.47                    14               3   \n",
            "2   Nb4EetVPm3gs         -46.67                    14               4   \n",
            "3   p4vPhVu91o4b         -26.68                    10               5   \n",
            "4   M09PXs7arQ5E           0.00                    14               5   \n",
            "\n",
            "   APQ_P_APQ_P_ID  APQ_P_APQ_P_INV  APQ_P_APQ_P_OPD  APQ_P_APQ_P_PM  \\\n",
            "0              10               47               13              11   \n",
            "1              13               34               18              23   \n",
            "2              10               35               16              10   \n",
            "3              12               39               19              16   \n",
            "4              15               40               20              24   \n",
            "\n",
            "   APQ_P_APQ_P_PP  SDQ_SDQ_Conduct_Problems  SDQ_SDQ_Difficulties_Total  \\\n",
            "0              28                         0                           6   \n",
            "1              30                         0                          18   \n",
            "2              29                         1                          14   \n",
            "3              28                         6                          24   \n",
            "4              28                         1                          18   \n",
            "\n",
            "   SDQ_SDQ_Emotional_Problems  SDQ_SDQ_Externalizing  \\\n",
            "0                           1                      5   \n",
            "1                           6                      8   \n",
            "2                           2                      8   \n",
            "3                           4                     16   \n",
            "4                           4                     11   \n",
            "\n",
            "   SDQ_SDQ_Generating_Impact  SDQ_SDQ_Hyperactivity  SDQ_SDQ_Internalizing  \\\n",
            "0                          0                      5                      1   \n",
            "1                          7                      8                     10   \n",
            "2                          5                      7                      6   \n",
            "3                          9                     10                      8   \n",
            "4                          4                     10                      7   \n",
            "\n",
            "   SDQ_SDQ_Peer_Problems  SDQ_SDQ_Prosocial  MRI_Track_Age_at_Scan  \n",
            "0                      0                 10                    NaN  \n",
            "1                      4                  5                    NaN  \n",
            "2                      4                  9               8.239904  \n",
            "3                      4                  6                    NaN  \n",
            "4                      3                  9               8.940679  \n",
            "quantitative columns: \n",
            " Index(['participant_id', 'EHQ_EHQ_Total', 'ColorVision_CV_Score',\n",
            "       'APQ_P_APQ_P_CP', 'APQ_P_APQ_P_ID', 'APQ_P_APQ_P_INV',\n",
            "       'APQ_P_APQ_P_OPD', 'APQ_P_APQ_P_PM', 'APQ_P_APQ_P_PP',\n",
            "       'SDQ_SDQ_Conduct_Problems', 'SDQ_SDQ_Difficulties_Total',\n",
            "       'SDQ_SDQ_Emotional_Problems', 'SDQ_SDQ_Externalizing',\n",
            "       'SDQ_SDQ_Generating_Impact', 'SDQ_SDQ_Hyperactivity',\n",
            "       'SDQ_SDQ_Internalizing', 'SDQ_SDQ_Peer_Problems', 'SDQ_SDQ_Prosocial',\n",
            "       'MRI_Track_Age_at_Scan'],\n",
            "      dtype='object')\n"
          ]
        }
      ]
    },
    {
      "cell_type": "markdown",
      "source": [
        "Checking null value in datasets"
      ],
      "metadata": {
        "id": "DIT1miuMor2o"
      }
    },
    {
      "cell_type": "code",
      "source": [
        "print(\"na in quantitative: \", df_quantitative.isna().sum())"
      ],
      "metadata": {
        "colab": {
          "base_uri": "https://localhost:8080/"
        },
        "id": "oI1RyWvIoE2Q",
        "outputId": "10e84bdd-ea15-4304-9caf-08b1035a7730"
      },
      "execution_count": null,
      "outputs": [
        {
          "output_type": "stream",
          "name": "stdout",
          "text": [
            "na in quantitative:  participant_id                  0\n",
            "EHQ_EHQ_Total                   0\n",
            "ColorVision_CV_Score            0\n",
            "APQ_P_APQ_P_CP                  0\n",
            "APQ_P_APQ_P_ID                  0\n",
            "APQ_P_APQ_P_INV                 0\n",
            "APQ_P_APQ_P_OPD                 0\n",
            "APQ_P_APQ_P_PM                  0\n",
            "APQ_P_APQ_P_PP                  0\n",
            "SDQ_SDQ_Conduct_Problems        0\n",
            "SDQ_SDQ_Difficulties_Total      0\n",
            "SDQ_SDQ_Emotional_Problems      0\n",
            "SDQ_SDQ_Externalizing           0\n",
            "SDQ_SDQ_Generating_Impact       0\n",
            "SDQ_SDQ_Hyperactivity           0\n",
            "SDQ_SDQ_Internalizing           0\n",
            "SDQ_SDQ_Peer_Problems           0\n",
            "SDQ_SDQ_Prosocial               0\n",
            "MRI_Track_Age_at_Scan         360\n",
            "dtype: int64\n"
          ]
        }
      ]
    },
    {
      "cell_type": "code",
      "source": [
        "print(\"na in target: \", df_target.isna().sum())"
      ],
      "metadata": {
        "colab": {
          "base_uri": "https://localhost:8080/"
        },
        "id": "egP1Ek43oLkG",
        "outputId": "1e7c307b-3555-4fe1-d614-8a1c9358e1b9"
      },
      "execution_count": null,
      "outputs": [
        {
          "output_type": "stream",
          "name": "stdout",
          "text": [
            "na in target:  participant_id    0\n",
            "ADHD_Outcome      0\n",
            "Sex_F             0\n",
            "dtype: int64\n"
          ]
        }
      ]
    },
    {
      "cell_type": "code",
      "source": [
        "print(\"na in categorical: \", df_categorical.isna().sum())"
      ],
      "metadata": {
        "colab": {
          "base_uri": "https://localhost:8080/"
        },
        "id": "-jZGy8NEoRaL",
        "outputId": "a00b2cbf-efee-43d6-e3a8-eb2d43eafb91"
      },
      "execution_count": null,
      "outputs": [
        {
          "output_type": "stream",
          "name": "stdout",
          "text": [
            "na in categorical:  participant_id                       0\n",
            "Basic_Demos_Enroll_Year              0\n",
            "Basic_Demos_Study_Site               0\n",
            "PreInt_Demos_Fam_Child_Ethnicity    11\n",
            "PreInt_Demos_Fam_Child_Race          0\n",
            "MRI_Track_Scan_Location              0\n",
            "Barratt_Barratt_P1_Edu               0\n",
            "Barratt_Barratt_P1_Occ               0\n",
            "Barratt_Barratt_P2_Edu               0\n",
            "Barratt_Barratt_P2_Occ               0\n",
            "dtype: int64\n"
          ]
        }
      ]
    },
    {
      "cell_type": "code",
      "source": [
        "na_list = df_functional.isna().sum()\n",
        "print(\"na in functional: \", na_list)\n",
        "if na_list.any():\n",
        "  print(\"there are null values in functional\")\n",
        "else:\n",
        "  print(\"there are no null values in functional\")"
      ],
      "metadata": {
        "colab": {
          "base_uri": "https://localhost:8080/"
        },
        "id": "j4VpKw3YqOhC",
        "outputId": "7b2db1d9-805d-430a-b0cb-e673551a889c",
        "collapsed": true
      },
      "execution_count": null,
      "outputs": [
        {
          "output_type": "stream",
          "name": "stdout",
          "text": [
            "na in functional:  participant_id          0\n",
            "0throw_1thcolumn        0\n",
            "0throw_2thcolumn        0\n",
            "0throw_3thcolumn        0\n",
            "0throw_4thcolumn        0\n",
            "                       ..\n",
            "196throw_198thcolumn    0\n",
            "196throw_199thcolumn    0\n",
            "197throw_198thcolumn    0\n",
            "197throw_199thcolumn    0\n",
            "198throw_199thcolumn    0\n",
            "Length: 19901, dtype: int64\n",
            "there are no null values in functional\n"
          ]
        }
      ]
    },
    {
      "cell_type": "markdown",
      "source": [
        "### Feature Engineering"
      ],
      "metadata": {
        "id": "GQ5w5CUpo6Jj"
      }
    },
    {
      "cell_type": "code",
      "source": [
        "# drop unnecessary columns in categoricals\n",
        "print(df_categorical.columns)\n",
        "columns = {'Basic_Demos_Enroll_Year', 'Basic_Demos_Study_Site','MRI_Track_Scan_Location','Barratt_Barratt_P1_Edu','Barratt_Barratt_P1_Occ', 'Barratt_Barratt_P2_Edu','Barratt_Barratt_P2_Occ'}\n",
        "df_categorical.drop(columns, axis=1, inplace=True)\n",
        "# new df_categorical with less columns\n",
        "print(df_categorical.columns)\n",
        "print(df_categorical.head())\n",
        "# check null again\n",
        "print(\"na in categorical: \", df_categorical.isna().sum())"
      ],
      "metadata": {
        "colab": {
          "base_uri": "https://localhost:8080/"
        },
        "collapsed": true,
        "id": "HTN1DAvDo8S4",
        "outputId": "a6524b42-e209-4425-ca0b-5c7bbbe217cc"
      },
      "execution_count": 25,
      "outputs": [
        {
          "output_type": "stream",
          "name": "stdout",
          "text": [
            "Index(['participant_id', 'Basic_Demos_Enroll_Year', 'Basic_Demos_Study_Site',\n",
            "       'PreInt_Demos_Fam_Child_Ethnicity', 'PreInt_Demos_Fam_Child_Race',\n",
            "       'MRI_Track_Scan_Location', 'Barratt_Barratt_P1_Edu',\n",
            "       'Barratt_Barratt_P1_Occ', 'Barratt_Barratt_P2_Edu',\n",
            "       'Barratt_Barratt_P2_Occ'],\n",
            "      dtype='object')\n",
            "Index(['participant_id', 'PreInt_Demos_Fam_Child_Ethnicity',\n",
            "       'PreInt_Demos_Fam_Child_Race'],\n",
            "      dtype='object')\n",
            "  participant_id  PreInt_Demos_Fam_Child_Ethnicity  \\\n",
            "0   UmrK0vMLopoR                               0.0   \n",
            "1   CPaeQkhcjg7d                               1.0   \n",
            "2   Nb4EetVPm3gs                               1.0   \n",
            "3   p4vPhVu91o4b                               0.0   \n",
            "4   M09PXs7arQ5E                               0.0   \n",
            "\n",
            "   PreInt_Demos_Fam_Child_Race  \n",
            "0                            0  \n",
            "1                            2  \n",
            "2                            8  \n",
            "3                            8  \n",
            "4                            1  \n",
            "na in categorical:  participant_id                       0\n",
            "PreInt_Demos_Fam_Child_Ethnicity    11\n",
            "PreInt_Demos_Fam_Child_Race          0\n",
            "dtype: int64\n"
          ]
        }
      ]
    },
    {
      "cell_type": "code",
      "source": [
        "# handle null values. There are 360 NA MRI_Track_Age_at_Scan in quantitative, and 11 NA PreInt_Demos_Fam_Child_Ethnicity in categorical\n",
        "print(df_quantitative['MRI_Track_Age_at_Scan'])\n",
        "unique_MRI_age = df_quantitative['MRI_Track_Age_at_Scan'].unique()\n",
        "print(\"num of rows: \", df_quantitative.shape[0])\n",
        "print(\"unique MRI age:\", unique_MRI_age.size)\n",
        "\n",
        "non_na_mri_age = df_quantitative['MRI_Track_Age_at_Scan'].dropna()\n",
        "\n",
        "plt.hist(non_na_mri_age, bins=20, edgecolor='black')\n",
        "plt.xlabel('MRI Age at Scan')\n",
        "plt.ylabel('Frequency')\n",
        "plt.title('Distribution of MRI Age at Scan')\n",
        "plt.show()"
      ],
      "metadata": {
        "colab": {
          "base_uri": "https://localhost:8080/",
          "height": 722
        },
        "collapsed": true,
        "id": "p4EuVJ9VpoC1",
        "outputId": "571548a8-405f-4bed-ebe2-8c7d1a74e3c0"
      },
      "execution_count": 26,
      "outputs": [
        {
          "output_type": "stream",
          "name": "stdout",
          "text": [
            "0             NaN\n",
            "1             NaN\n",
            "2        8.239904\n",
            "3             NaN\n",
            "4        8.940679\n",
            "          ...    \n",
            "1208    10.697923\n",
            "1209    13.964750\n",
            "1210          NaN\n",
            "1211    12.089094\n",
            "1212    12.595710\n",
            "Name: MRI_Track_Age_at_Scan, Length: 1213, dtype: float64\n",
            "num of rows:  1213\n",
            "unique MRI age: 839\n"
          ]
        },
        {
          "output_type": "display_data",
          "data": {
            "text/plain": [
              "<Figure size 640x480 with 1 Axes>"
            ],
            "image/png": "[encoded data removed]"
          },
          "metadata": {}
        }
      ]
    },
    {
      "cell_type": "code",
      "source": [
        "#finding median and mean of MRI age since the age are skewed to the right.\n",
        "print(\"median: \", np.median(non_na_mri_age))\n",
        "print(\"mean: \", np.mean(non_na_mri_age))"
      ],
      "metadata": {
        "colab": {
          "base_uri": "https://localhost:8080/"
        },
        "id": "Zb-iSvL7sNRZ",
        "outputId": "536aff32-247b-48d6-886a-c89629fb2451",
        "collapsed": true
      },
      "execution_count": 27,
      "outputs": [
        {
          "output_type": "stream",
          "name": "stdout",
          "text": [
            "median:  10.739219\n",
            "mean:  11.245678424384526\n"
          ]
        }
      ]
    },
    {
      "cell_type": "code",
      "source": [
        "#using median since the available MRI age plot is skewed to the right\n",
        "df_quantitative['MRI_Track_Age_at_Scan'].fillna(np.median(non_na_mri_age), inplace=True)\n",
        "print(df_quantitative.isna().sum())"
      ],
      "metadata": {
        "colab": {
          "base_uri": "https://localhost:8080/"
        },
        "collapsed": true,
        "id": "BJnOfE3Is7qw",
        "outputId": "edaa8930-454a-4313-aff3-0ec9f27d60f9"
      },
      "execution_count": 28,
      "outputs": [
        {
          "output_type": "stream",
          "name": "stdout",
          "text": [
            "participant_id                0\n",
            "EHQ_EHQ_Total                 0\n",
            "ColorVision_CV_Score          0\n",
            "APQ_P_APQ_P_CP                0\n",
            "APQ_P_APQ_P_ID                0\n",
            "APQ_P_APQ_P_INV               0\n",
            "APQ_P_APQ_P_OPD               0\n",
            "APQ_P_APQ_P_PM                0\n",
            "APQ_P_APQ_P_PP                0\n",
            "SDQ_SDQ_Conduct_Problems      0\n",
            "SDQ_SDQ_Difficulties_Total    0\n",
            "SDQ_SDQ_Emotional_Problems    0\n",
            "SDQ_SDQ_Externalizing         0\n",
            "SDQ_SDQ_Generating_Impact     0\n",
            "SDQ_SDQ_Hyperactivity         0\n",
            "SDQ_SDQ_Internalizing         0\n",
            "SDQ_SDQ_Peer_Problems         0\n",
            "SDQ_SDQ_Prosocial             0\n",
            "MRI_Track_Age_at_Scan         0\n",
            "dtype: int64\n"
          ]
        }
      ]
    },
    {
      "cell_type": "code",
      "source": [
        "# handle 11 NA PreInt_Demos_Fam_Child_Ethnicity in categorical\n",
        "child_ethnicity = df_categorical['PreInt_Demos_Fam_Child_Ethnicity'].dropna()\n",
        "child_ethnicity_unique = child_ethnicity.unique()\n",
        "print(child_ethnicity_unique)\n",
        "# check distribution\n",
        "plt.hist(child_ethnicity, bins=20, edgecolor='black')\n",
        "plt.xlabel('Child Ethnicity')\n",
        "plt.ylabel('Frequency')\n",
        "plt.title('Distribution of Child Ethnicity')\n",
        "plt.show()"
      ],
      "metadata": {
        "colab": {
          "base_uri": "https://localhost:8080/",
          "height": 490
        },
        "id": "8qdQ8IuOuY7e",
        "outputId": "5bf7b144-a132-4884-a35b-941865124ed0",
        "collapsed": true
      },
      "execution_count": 29,
      "outputs": [
        {
          "output_type": "stream",
          "name": "stdout",
          "text": [
            "[0. 1. 3. 2.]\n"
          ]
        },
        {
          "output_type": "display_data",
          "data": {
            "text/plain": [
              "<Figure size 640x480 with 1 Axes>"
            ],
            "image/png": "[encoded data removed]"
          },
          "metadata": {}
        }
      ]
    },
    {
      "cell_type": "markdown",
      "source": [
        "0= Not Hispanic or Latino \\\\\n",
        "1= Hispanic or Latino \\\\\n",
        "2= Decline to specify \\\\\n",
        "3= Unknown \\\\"
      ],
      "metadata": {
        "id": "amZ_vz7OvRAx"
      }
    },
    {
      "cell_type": "code",
      "source": [
        "# decline to specify and unknown is the same thing, so merge the 2 column together\n",
        "df_categorical['PreInt_Demos_Fam_Child_Ethnicity'].replace(2, 3, inplace=True)"
      ],
      "metadata": {
        "id": "-3IOJwTPvjMT"
      },
      "execution_count": 30,
      "outputs": []
    },
    {
      "cell_type": "code",
      "source": [
        "# since null value means not specifified. Replace all null with not specified.\n",
        "df_categorical['PreInt_Demos_Fam_Child_Ethnicity'].fillna(3, inplace=True)\n",
        "# check null value again\n",
        "print(df_categorical.isna().sum())"
      ],
      "metadata": {
        "colab": {
          "base_uri": "https://localhost:8080/"
        },
        "id": "wMFYoEwFv9I1",
        "outputId": "abdc815f-4cb9-4ac2-9df8-d29edb4c9264"
      },
      "execution_count": 31,
      "outputs": [
        {
          "output_type": "stream",
          "name": "stdout",
          "text": [
            "participant_id                      0\n",
            "PreInt_Demos_Fam_Child_Ethnicity    0\n",
            "PreInt_Demos_Fam_Child_Race         0\n",
            "dtype: int64\n"
          ]
        }
      ]
    },
    {
      "cell_type": "code",
      "source": [
        "# merging the datasets (categorical, quantitative, functional)\n",
        "\n",
        "print(\"categorical columns\", df_categorical.columns)\n",
        "print(\"quantitative columns\", df_quantitative.columns)\n",
        "print(\"functional columns\", df_functional.columns)"
      ],
      "metadata": {
        "colab": {
          "base_uri": "https://localhost:8080/"
        },
        "collapsed": true,
        "id": "yrgcXjBiw3WL",
        "outputId": "da03e8a7-3ffe-4f4c-a2fa-5d47558a7902"
      },
      "execution_count": 32,
      "outputs": [
        {
          "output_type": "stream",
          "name": "stdout",
          "text": [
            "categorical columns Index(['participant_id', 'PreInt_Demos_Fam_Child_Ethnicity',\n",
            "       'PreInt_Demos_Fam_Child_Race'],\n",
            "      dtype='object')\n",
            "quantitative columns Index(['participant_id', 'EHQ_EHQ_Total', 'ColorVision_CV_Score',\n",
            "       'APQ_P_APQ_P_CP', 'APQ_P_APQ_P_ID', 'APQ_P_APQ_P_INV',\n",
            "       'APQ_P_APQ_P_OPD', 'APQ_P_APQ_P_PM', 'APQ_P_APQ_P_PP',\n",
            "       'SDQ_SDQ_Conduct_Problems', 'SDQ_SDQ_Difficulties_Total',\n",
            "       'SDQ_SDQ_Emotional_Problems', 'SDQ_SDQ_Externalizing',\n",
            "       'SDQ_SDQ_Generating_Impact', 'SDQ_SDQ_Hyperactivity',\n",
            "       'SDQ_SDQ_Internalizing', 'SDQ_SDQ_Peer_Problems', 'SDQ_SDQ_Prosocial',\n",
            "       'MRI_Track_Age_at_Scan'],\n",
            "      dtype='object')\n",
            "functional columns Index(['participant_id', '0throw_1thcolumn', '0throw_2thcolumn',\n",
            "       '0throw_3thcolumn', '0throw_4thcolumn', '0throw_5thcolumn',\n",
            "       '0throw_6thcolumn', '0throw_7thcolumn', '0throw_8thcolumn',\n",
            "       '0throw_9thcolumn',\n",
            "       ...\n",
            "       '195throw_196thcolumn', '195throw_197thcolumn', '195throw_198thcolumn',\n",
            "       '195throw_199thcolumn', '196throw_197thcolumn', '196throw_198thcolumn',\n",
            "       '196throw_199thcolumn', '197throw_198thcolumn', '197throw_199thcolumn',\n",
            "       '198throw_199thcolumn'],\n",
            "      dtype='object', length=19901)\n"
          ]
        }
      ]
    },
    {
      "cell_type": "code",
      "source": [
        "# check if all the partiicpant ids are the same\n",
        "\n",
        "#sort all the participant_id in each dataset\n",
        "df_categorical['participant_id'] = df_categorical['participant_id'].sort_values()\n",
        "df_quantitative['participant_id'] = df_quantitative['participant_id'].sort_values()\n",
        "df_functional['participant_id'] = df_functional['participant_id'].sort_values()"
      ],
      "metadata": {
        "id": "fy9AUAjDyJxv"
      },
      "execution_count": 33,
      "outputs": []
    },
    {
      "cell_type": "code",
      "source": [
        "print(df_categorical['participant_id'].equals(df_quantitative['participant_id']))\n",
        "df_functional['participant_id_in_categorical'] = df_functional['participant_id'].isin(df_categorical['participant_id'])\n",
        "if not df_functional['participant_id_in_categorical'].all():\n",
        "    print(\"There are participant_id values in functional that are not in categorical.\")\n",
        "else:\n",
        "    print(\"There are no participant_id values in functional that are not in categorical.\")"
      ],
      "metadata": {
        "colab": {
          "base_uri": "https://localhost:8080/"
        },
        "id": "GKx-Lqfqya4D",
        "outputId": "6a8bb2a9-d988-4bd5-d7a7-9185bc44b08a"
      },
      "execution_count": 34,
      "outputs": [
        {
          "output_type": "stream",
          "name": "stdout",
          "text": [
            "True\n",
            "There are no participant_id values in functional that are not in categorical.\n"
          ]
        }
      ]
    },
    {
      "cell_type": "code",
      "source": [
        "# the participant_id in each datasets align -> ready to merge\n",
        "merged_df = pd.merge(df_quantitative, df_categorical, on='participant_id', how='outer')\n",
        "merged_df = pd.merge(merged_df, df_functional, on='participant_id', how='outer')\n",
        "merged_df = pd.merge(merged_df, df_target, on='participant_id', how='outer')\n",
        "merged_df.head()"
      ],
      "metadata": {
        "colab": {
          "base_uri": "https://localhost:8080/",
          "height": 256
        },
        "id": "IZL4jBv2zTYO",
        "outputId": "d6c7f75e-2452-4088-d463-4d18f20896d9",
        "collapsed": true
      },
      "execution_count": 35,
      "outputs": [
        {
          "output_type": "execute_result",
          "data": {
            "text/plain": [
              "  participant_id  EHQ_EHQ_Total  ColorVision_CV_Score  APQ_P_APQ_P_CP  \\\n",
              "0   00aIpNTbG5uh         100.00                    13               3   \n",
              "1   00fV0OyyoLfw          92.27                    14               3   \n",
              "2   04X1eiS79T4B          86.67                    14               3   \n",
              "3   05ocQutkURd6          93.34                    14               3   \n",
              "4   06YUNBA9ZRLq           0.00                    14               8   \n",
              "\n",
              "   APQ_P_APQ_P_ID  APQ_P_APQ_P_INV  APQ_P_APQ_P_OPD  APQ_P_APQ_P_PM  \\\n",
              "0              15               44               14              20   \n",
              "1              12               35               25              28   \n",
              "2              21               37               18              26   \n",
              "3              11               42               15              20   \n",
              "4              12               35               22              12   \n",
              "\n",
              "   APQ_P_APQ_P_PP  SDQ_SDQ_Conduct_Problems  ...  195throw_199thcolumn  \\\n",
              "0              27                         3  ...              0.032986   \n",
              "1              30                         5  ...             -0.042040   \n",
              "2              28                         3  ...             -0.057094   \n",
              "3              28                         0  ...             -0.029209   \n",
              "4              24                         6  ...             -0.001515   \n",
              "\n",
              "   196throw_197thcolumn  196throw_198thcolumn  196throw_199thcolumn  \\\n",
              "0              0.081980              0.093708              0.021903   \n",
              "1              0.125651              0.127045              0.142448   \n",
              "2              0.084471              0.075582              0.093687   \n",
              "3              0.087122              0.009254              0.114800   \n",
              "4              0.166933              0.005170              0.005126   \n",
              "\n",
              "   197throw_198thcolumn  197throw_199thcolumn  198throw_199thcolumn  \\\n",
              "0              0.029458             -0.016072              0.169368   \n",
              "1              0.051943              0.138729              0.168951   \n",
              "2              0.091592              0.114817              0.157812   \n",
              "3              0.218728              0.090305              0.159943   \n",
              "4              0.126259             -0.038223              0.181322   \n",
              "\n",
              "   participant_id_in_categorical  ADHD_Outcome  Sex_F  \n",
              "0                           True             1      0  \n",
              "1                           True             1      0  \n",
              "2                           True             0      1  \n",
              "3                           True             0      1  \n",
              "4                           True             1      0  \n",
              "\n",
              "[5 rows x 19924 columns]"
            ],
            "text/html": [
              "\n",
              "  <div id=\"df-57b0a5e5-5d98-4bff-83d8-6c14d22a9a0e\" class=\"colab-df-container\">\n",
              "    <div>\n",
              "<style scoped>\n",
              "    .dataframe tbody tr th:only-of-type {\n",
              "        vertical-align: middle;\n",
              "    }\n",
              "\n",
              "    .dataframe tbody tr th {\n",
              "        vertical-align: top;\n",
              "    }\n",
              "\n",
              "    .dataframe thead th {\n",
              "        text-align: right;\n",
              "    }\n",
              "</style>\n",
              "<table border=\"1\" class=\"dataframe\">\n",
              "  <thead>\n",
              "    <tr style=\"text-align: right;\">\n",
              "      <th></th>\n",
              "      <th>participant_id</th>\n",
              "      <th>EHQ_EHQ_Total</th>\n",
              "      <th>ColorVision_CV_Score</th>\n",
              "      <th>APQ_P_APQ_P_CP</th>\n",
              "      <th>APQ_P_APQ_P_ID</th>\n",
              "      <th>APQ_P_APQ_P_INV</th>\n",
              "      <th>APQ_P_APQ_P_OPD</th>\n",
              "      <th>APQ_P_APQ_P_PM</th>\n",
              "      <th>APQ_P_APQ_P_PP</th>\n",
              "      <th>SDQ_SDQ_Conduct_Problems</th>\n",
              "      <th>...</th>\n",
              "      <th>195throw_199thcolumn</th>\n",
              "      <th>196throw_197thcolumn</th>\n",
              "      <th>196throw_198thcolumn</th>\n",
              "      <th>196throw_199thcolumn</th>\n",
              "      <th>197throw_198thcolumn</th>\n",
              "      <th>197throw_199thcolumn</th>\n",
              "      <th>198throw_199thcolumn</th>\n",
              "      <th>participant_id_in_categorical</th>\n",
              "      <th>ADHD_Outcome</th>\n",
              "      <th>Sex_F</th>\n",
              "    </tr>\n",
              "  </thead>\n",
              "  <tbody>\n",
              "    <tr>\n",
              "      <th>0</th>\n",
              "      <td>00aIpNTbG5uh</td>\n",
              "      <td>100.00</td>\n",
              "      <td>13</td>\n",
              "      <td>3</td>\n",
              "      <td>15</td>\n",
              "      <td>44</td>\n",
              "      <td>14</td>\n",
              "      <td>20</td>\n",
              "      <td>27</td>\n",
              "      <td>3</td>\n",
              "      <td>...</td>\n",
              "      <td>0.032986</td>\n",
              "      <td>0.081980</td>\n",
              "      <td>0.093708</td>\n",
              "      <td>0.021903</td>\n",
              "      <td>0.029458</td>\n",
              "      <td>-0.016072</td>\n",
              "      <td>0.169368</td>\n",
              "      <td>True</td>\n",
              "      <td>1</td>\n",
              "      <td>0</td>\n",
              "    </tr>\n",
              "    <tr>\n",
              "      <th>1</th>\n",
              "      <td>00fV0OyyoLfw</td>\n",
              "      <td>92.27</td>\n",
              "      <td>14</td>\n",
              "      <td>3</td>\n",
              "      <td>12</td>\n",
              "      <td>35</td>\n",
              "      <td>25</td>\n",
              "      <td>28</td>\n",
              "      <td>30</td>\n",
              "      <td>5</td>\n",
              "      <td>...</td>\n",
              "      <td>-0.042040</td>\n",
              "      <td>0.125651</td>\n",
              "      <td>0.127045</td>\n",
              "      <td>0.142448</td>\n",
              "      <td>0.051943</td>\n",
              "      <td>0.138729</td>\n",
              "      <td>0.168951</td>\n",
              "      <td>True</td>\n",
              "      <td>1</td>\n",
              "      <td>0</td>\n",
              "    </tr>\n",
              "    <tr>\n",
              "      <th>2</th>\n",
              "      <td>04X1eiS79T4B</td>\n",
              "      <td>86.67</td>\n",
              "      <td>14</td>\n",
              "      <td>3</td>\n",
              "      <td>21</td>\n",
              "      <td>37</td>\n",
              "      <td>18</td>\n",
              "      <td>26</td>\n",
              "      <td>28</td>\n",
              "      <td>3</td>\n",
              "      <td>...</td>\n",
              "      <td>-0.057094</td>\n",
              "      <td>0.084471</td>\n",
              "      <td>0.075582</td>\n",
              "      <td>0.093687</td>\n",
              "      <td>0.091592</td>\n",
              "      <td>0.114817</td>\n",
              "      <td>0.157812</td>\n",
              "      <td>True</td>\n",
              "      <td>0</td>\n",
              "      <td>1</td>\n",
              "    </tr>\n",
              "    <tr>\n",
              "      <th>3</th>\n",
              "      <td>05ocQutkURd6</td>\n",
              "      <td>93.34</td>\n",
              "      <td>14</td>\n",
              "      <td>3</td>\n",
              "      <td>11</td>\n",
              "      <td>42</td>\n",
              "      <td>15</td>\n",
              "      <td>20</td>\n",
              "      <td>28</td>\n",
              "      <td>0</td>\n",
              "      <td>...</td>\n",
              "      <td>-0.029209</td>\n",
              "      <td>0.087122</td>\n",
              "      <td>0.009254</td>\n",
              "      <td>0.114800</td>\n",
              "      <td>0.218728</td>\n",
              "      <td>0.090305</td>\n",
              "      <td>0.159943</td>\n",
              "      <td>True</td>\n",
              "      <td>0</td>\n",
              "      <td>1</td>\n",
              "    </tr>\n",
              "    <tr>\n",
              "      <th>4</th>\n",
              "      <td>06YUNBA9ZRLq</td>\n",
              "      <td>0.00</td>\n",
              "      <td>14</td>\n",
              "      <td>8</td>\n",
              "      <td>12</td>\n",
              "      <td>35</td>\n",
              "      <td>22</td>\n",
              "      <td>12</td>\n",
              "      <td>24</td>\n",
              "      <td>6</td>\n",
              "      <td>...</td>\n",
              "      <td>-0.001515</td>\n",
              "      <td>0.166933</td>\n",
              "      <td>0.005170</td>\n",
              "      <td>0.005126</td>\n",
              "      <td>0.126259</td>\n",
              "      <td>-0.038223</td>\n",
              "      <td>0.181322</td>\n",
              "      <td>True</td>\n",
              "      <td>1</td>\n",
              "      <td>0</td>\n",
              "    </tr>\n",
              "  </tbody>\n",
              "</table>\n",
              "<p>5 rows × 19924 columns</p>\n",
              "</div>\n",
              "    <div class=\"colab-df-buttons\">\n",
              "\n",
              "  <div class=\"colab-df-container\">\n",
              "    <button class=\"colab-df-convert\" onclick=\"convertToInteractive('df-57b0a5e5-5d98-4bff-83d8-6c14d22a9a0e')\"\n",
              "            title=\"Convert this dataframe to an interactive table.\"\n",
              "            style=\"display:none;\">\n",
              "\n",
              "  <svg xmlns=\"http://www.w3.org/2000/svg\" height=\"24px\" viewBox=\"0 -960 960 960\">\n",
              "    <path d=\"M120-120v-720h720v720H120Zm60-500h600v-160H180v160Zm220 220h160v-160H400v160Zm0 220h160v-160H400v160ZM180-400h160v-160H180v160Zm440 0h160v-160H620v160ZM180-180h160v-160H180v160Zm440 0h160v-160H620v160Z\"/>\n",
              "  </svg>\n",
              "    </button>\n",
              "\n",
              "  <style>\n",
              "    .colab-df-container {\n",
              "      display:flex;\n",
              "      gap: 12px;\n",
              "    }\n",
              "\n",
              "    .colab-df-convert {\n",
              "      background-color: #E8F0FE;\n",
              "      border: none;\n",
              "      border-radius: 50%;\n",
              "      cursor: pointer;\n",
              "      display: none;\n",
              "      fill: #1967D2;\n",
              "      height: 32px;\n",
              "      padding: 0 0 0 0;\n",
              "      width: 32px;\n",
              "    }\n",
              "\n",
              "    .colab-df-convert:hover {\n",
              "      background-color: #E2EBFA;\n",
              "      box-shadow: 0px 1px 2px rgba(60, 64, 67, 0.3), 0px 1px 3px 1px rgba(60, 64, 67, 0.15);\n",
              "      fill: #174EA6;\n",
              "    }\n",
              "\n",
              "    .colab-df-buttons div {\n",
              "      margin-bottom: 4px;\n",
              "    }\n",
              "\n",
              "    [theme=dark] .colab-df-convert {\n",
              "      background-color: #3B4455;\n",
              "      fill: #D2E3FC;\n",
              "    }\n",
              "\n",
              "    [theme=dark] .colab-df-convert:hover {\n",
              "      background-color: #434B5C;\n",
              "      box-shadow: 0px 1px 3px 1px rgba(0, 0, 0, 0.15);\n",
              "      filter: drop-shadow(0px 1px 2px rgba(0, 0, 0, 0.3));\n",
              "      fill: #FFFFFF;\n",
              "    }\n",
              "  </style>\n",
              "\n",
              "    <script>\n",
              "      const buttonEl =\n",
              "        document.querySelector('#df-57b0a5e5-5d98-4bff-83d8-6c14d22a9a0e button.colab-df-convert');\n",
              "      buttonEl.style.display =\n",
              "        google.colab.kernel.accessAllowed ? 'block' : 'none';\n",
              "\n",
              "      async function convertToInteractive(key) {\n",
              "        const element = document.querySelector('#df-57b0a5e5-5d98-4bff-83d8-6c14d22a9a0e');\n",
              "        const dataTable =\n",
              "          await google.colab.kernel.invokeFunction('convertToInteractive',\n",
              "                                                    [key], {});\n",
              "        if (!dataTable) return;\n",
              "\n",
              "        const docLinkHtml = 'Like what you see? Visit the ' +\n",
              "          '<a target=\"_blank\" href=https://colab.research.google.com/notebooks/data_table.ipynb>data table notebook</a>'\n",
              "          + ' to learn more about interactive tables.';\n",
              "        element.innerHTML = '';\n",
              "        dataTable['output_type'] = 'display_data';\n",
              "        await google.colab.output.renderOutput(dataTable, element);\n",
              "        const docLink = document.createElement('div');\n",
              "        docLink.innerHTML = docLinkHtml;\n",
              "        element.appendChild(docLink);\n",
              "      }\n",
              "    </script>\n",
              "  </div>\n",
              "\n",
              "\n",
              "<div id=\"df-64d337e2-31d0-457e-a1d8-c8a5a7990f3a\">\n",
              "  <button class=\"colab-df-quickchart\" onclick=\"quickchart('df-64d337e2-31d0-457e-a1d8-c8a5a7990f3a')\"\n",
              "            title=\"Suggest charts\"\n",
              "            style=\"display:none;\">\n",
              "\n",
              "<svg xmlns=\"http://www.w3.org/2000/svg\" height=\"24px\"viewBox=\"0 0 24 24\"\n",
              "     width=\"24px\">\n",
              "    <g>\n",
              "        <path d=\"M19 3H5c-1.1 0-2 .9-2 2v14c0 1.1.9 2 2 2h14c1.1 0 2-.9 2-2V5c0-1.1-.9-2-2-2zM9 17H7v-7h2v7zm4 0h-2V7h2v10zm4 0h-2v-4h2v4z\"/>\n",
              "    </g>\n",
              "</svg>\n",
              "  </button>\n",
              "\n",
              "<style>\n",
              "  .colab-df-quickchart {\n",
              "      --bg-color: #E8F0FE;\n",
              "      --fill-color: #1967D2;\n",
              "      --hover-bg-color: #E2EBFA;\n",
              "      --hover-fill-color: #174EA6;\n",
              "      --disabled-fill-color: #AAA;\n",
              "      --disabled-bg-color: #DDD;\n",
              "  }\n",
              "\n",
              "  [theme=dark] .colab-df-quickchart {\n",
              "      --bg-color: #3B4455;\n",
              "      --fill-color: #D2E3FC;\n",
              "      --hover-bg-color: #434B5C;\n",
              "      --hover-fill-color: #FFFFFF;\n",
              "      --disabled-bg-color: #3B4455;\n",
              "      --disabled-fill-color: #666;\n",
              "  }\n",
              "\n",
              "  .colab-df-quickchart {\n",
              "    background-color: var(--bg-color);\n",
              "    border: none;\n",
              "    border-radius: 50%;\n",
              "    cursor: pointer;\n",
              "    display: none;\n",
              "    fill: var(--fill-color);\n",
              "    height: 32px;\n",
              "    padding: 0;\n",
              "    width: 32px;\n",
              "  }\n",
              "\n",
              "  .colab-df-quickchart:hover {\n",
              "    background-color: var(--hover-bg-color);\n",
              "    box-shadow: 0 1px 2px rgba(60, 64, 67, 0.3), 0 1px 3px 1px rgba(60, 64, 67, 0.15);\n",
              "    fill: var(--button-hover-fill-color);\n",
              "  }\n",
              "\n",
              "  .colab-df-quickchart-complete:disabled,\n",
              "  .colab-df-quickchart-complete:disabled:hover {\n",
              "    background-color: var(--disabled-bg-color);\n",
              "    fill: var(--disabled-fill-color);\n",
              "    box-shadow: none;\n",
              "  }\n",
              "\n",
              "  .colab-df-spinner {\n",
              "    border: 2px solid var(--fill-color);\n",
              "    border-color: transparent;\n",
              "    border-bottom-color: var(--fill-color);\n",
              "    animation:\n",
              "      spin 1s steps(1) infinite;\n",
              "  }\n",
              "\n",
              "  @keyframes spin {\n",
              "    0% {\n",
              "      border-color: transparent;\n",
              "      border-bottom-color: var(--fill-color);\n",
              "      border-left-color: var(--fill-color);\n",
              "    }\n",
              "    20% {\n",
              "      border-color: transparent;\n",
              "      border-left-color: var(--fill-color);\n",
              "      border-top-color: var(--fill-color);\n",
              "    }\n",
              "    30% {\n",
              "      border-color: transparent;\n",
              "      border-left-color: var(--fill-color);\n",
              "      border-top-color: var(--fill-color);\n",
              "      border-right-color: var(--fill-color);\n",
              "    }\n",
              "    40% {\n",
              "      border-color: transparent;\n",
              "      border-right-color: var(--fill-color);\n",
              "      border-top-color: var(--fill-color);\n",
              "    }\n",
              "    60% {\n",
              "      border-color: transparent;\n",
              "      border-right-color: var(--fill-color);\n",
              "    }\n",
              "    80% {\n",
              "      border-color: transparent;\n",
              "      border-right-color: var(--fill-color);\n",
              "      border-bottom-color: var(--fill-color);\n",
              "    }\n",
              "    90% {\n",
              "      border-color: transparent;\n",
              "      border-bottom-color: var(--fill-color);\n",
              "    }\n",
              "  }\n",
              "</style>\n",
              "\n",
              "  <script>\n",
              "    async function quickchart(key) {\n",
              "      const quickchartButtonEl =\n",
              "        document.querySelector('#' + key + ' button');\n",
              "      quickchartButtonEl.disabled = true;  // To prevent multiple clicks.\n",
              "      quickchartButtonEl.classList.add('colab-df-spinner');\n",
              "      try {\n",
              "        const charts = await google.colab.kernel.invokeFunction(\n",
              "            'suggestCharts', [key], {});\n",
              "      } catch (error) {\n",
              "        console.error('Error during call to suggestCharts:', error);\n",
              "      }\n",
              "      quickchartButtonEl.classList.remove('colab-df-spinner');\n",
              "      quickchartButtonEl.classList.add('colab-df-quickchart-complete');\n",
              "    }\n",
              "    (() => {\n",
              "      let quickchartButtonEl =\n",
              "        document.querySelector('#df-64d337e2-31d0-457e-a1d8-c8a5a7990f3a button');\n",
              "      quickchartButtonEl.style.display =\n",
              "        google.colab.kernel.accessAllowed ? 'block' : 'none';\n",
              "    })();\n",
              "  </script>\n",
              "</div>\n",
              "\n",
              "    </div>\n",
              "  </div>\n"
            ],
            "application/vnd.google.colaboratory.intrinsic+json": {
              "type": "dataframe",
              "variable_name": "merged_df"
            }
          },
          "metadata": {},
          "execution_count": 35
        }
      ]
    },
    {
      "cell_type": "code",
      "source": [
        "#check if null value exist in the list\n",
        "na_check = merged_df.isna().sum()\n",
        "if (na_check > 0).any():\n",
        "  print(\"there are null values in merged_df\")\n",
        "else:\n",
        "  print(\"there are no null values in merged_df\")\n"
      ],
      "metadata": {
        "colab": {
          "base_uri": "https://localhost:8080/"
        },
        "id": "mZUf3J6wzikS",
        "outputId": "6503b0cd-8429-4554-b780-e1435ef4acc6",
        "collapsed": true
      },
      "execution_count": 36,
      "outputs": [
        {
          "output_type": "stream",
          "name": "stdout",
          "text": [
            "there are no null values in merged_df\n"
          ]
        }
      ]
    },
    {
      "cell_type": "code",
      "source": [
        "merged_df.drop(\"participant_id_in_categorical\", axis=1, inplace=True)"
      ],
      "metadata": {
        "id": "hpCYyjDjWdzB"
      },
      "execution_count": 37,
      "outputs": []
    },
    {
      "cell_type": "code",
      "source": [
        "# Create X and Y for modeling\n",
        "\n",
        "# Y is the target (we need 2, ADHD and Sex)\n",
        "# X is the rest of the columns except target\n",
        "\n",
        "target_columns = df_target.columns\n",
        "print(target_columns)\n",
        "\n",
        "#dropping the target columns in X\n",
        "X = merged_df.drop(['ADHD_Outcome', 'Sex_F'], axis=1)\n",
        "participants_list = merged_df['participant_id']\n",
        "print(\"X shape: \", X.shape)\n",
        "print(\"length of participants_list: \", len(participants_list))"
      ],
      "metadata": {
        "colab": {
          "base_uri": "https://localhost:8080/"
        },
        "id": "wXJ8Ha_80lFB",
        "outputId": "ea541c67-9048-41cb-eb68-3071444229ca"
      },
      "execution_count": 38,
      "outputs": [
        {
          "output_type": "stream",
          "name": "stdout",
          "text": [
            "Index(['participant_id', 'ADHD_Outcome', 'Sex_F'], dtype='object')\n",
            "X shape:  (1213, 19921)\n",
            "length of participants_list:  1213\n"
          ]
        }
      ]
    },
    {
      "cell_type": "code",
      "source": [
        "X.columns"
      ],
      "metadata": {
        "colab": {
          "base_uri": "https://localhost:8080/"
        },
        "id": "Rpk28utzSN6a",
        "outputId": "679197b7-eab7-4e95-bd01-5a7bc2b790aa"
      },
      "execution_count": 39,
      "outputs": [
        {
          "output_type": "execute_result",
          "data": {
            "text/plain": [
              "Index(['participant_id', 'EHQ_EHQ_Total', 'ColorVision_CV_Score',\n",
              "       'APQ_P_APQ_P_CP', 'APQ_P_APQ_P_ID', 'APQ_P_APQ_P_INV',\n",
              "       'APQ_P_APQ_P_OPD', 'APQ_P_APQ_P_PM', 'APQ_P_APQ_P_PP',\n",
              "       'SDQ_SDQ_Conduct_Problems',\n",
              "       ...\n",
              "       '195throw_196thcolumn', '195throw_197thcolumn', '195throw_198thcolumn',\n",
              "       '195throw_199thcolumn', '196throw_197thcolumn', '196throw_198thcolumn',\n",
              "       '196throw_199thcolumn', '197throw_198thcolumn', '197throw_199thcolumn',\n",
              "       '198throw_199thcolumn'],\n",
              "      dtype='object', length=19921)"
            ]
          },
          "metadata": {},
          "execution_count": 39
        }
      ]
    },
    {
      "cell_type": "code",
      "source": [
        "# y training set for sex and ADHD\n",
        "y_sex = merged_df['Sex_F']\n",
        "y_adhd = merged_df['ADHD_Outcome']"
      ],
      "metadata": {
        "id": "H6bsajGQ4Ayh"
      },
      "execution_count": 40,
      "outputs": []
    },
    {
      "cell_type": "markdown",
      "source": [
        "### Model Building (original)"
      ],
      "metadata": {
        "id": "u-Cwsd88m32V"
      }
    },
    {
      "cell_type": "code",
      "source": [
        "import tensorflow as tf\n",
        "from tensorflow.keras.models import Sequential\n",
        "from tensorflow.keras.layers import Dense\n",
        "from sklearn.model_selection import train_test_split\n",
        "from sklearn.preprocessing import StandardScaler"
      ],
      "metadata": {
        "id": "KFnC5QemXF2I"
      },
      "execution_count": null,
      "outputs": []
    },
    {
      "cell_type": "code",
      "source": [
        "participant_list = X['participant_id']\n",
        "X = X.drop('participant_id', axis=1)"
      ],
      "metadata": {
        "id": "mLx_6MulXxvN"
      },
      "execution_count": null,
      "outputs": []
    },
    {
      "cell_type": "code",
      "source": [
        "from tensorflow.keras.models import Model\n",
        "from tensorflow.keras.layers import Input, Dense\n",
        "from tensorflow.keras.optimizers import Adam\n",
        "from sklearn.preprocessing import StandardScaler\n",
        "from sklearn.model_selection import train_test_split\n",
        "\n",
        "# Standardize the data\n",
        "scaler = StandardScaler()\n",
        "X_scaled = scaler.fit_transform(X)\n",
        "\n",
        "# Split data into training and test sets (70% training, 30% test)\n",
        "X_train, X_test, y_train_adhd, y_test_adhd, y_train_sex, y_test_sex = train_test_split(\n",
        "    X_scaled, y_adhd, y_sex, test_size=0.3, random_state=1234)\n",
        "\n",
        "# Build the model using Functional API\n",
        "inputs = Input(shape=(X_train.shape[1],))  # Define input layer\n",
        "\n",
        "# Shared hidden layers\n",
        "x = Dense(512, activation='relu')(inputs)\n",
        "x = Dense(256, activation='relu')(x)\n",
        "x = Dense(128, activation='relu')(x)\n",
        "\n",
        "# Output layers for ADHD and Sex\n",
        "adhd_output = Dense(1, activation='sigmoid', name='adhd_output')(x)\n",
        "sex_output = Dense(1, activation='sigmoid', name='sex_output')(x)\n",
        "\n",
        "# Create the model\n",
        "model = Model(inputs=inputs, outputs=[adhd_output, sex_output])\n",
        "\n",
        "# Compile the model\n",
        "model.compile(optimizer=Adam(),\n",
        "              loss={'adhd_output': 'binary_crossentropy', 'sex_output': 'binary_crossentropy'},\n",
        "              metrics={'adhd_output': 'accuracy', 'sex_output': 'accuracy'})\n",
        "\n",
        "# Train the model\n",
        "history = model.fit(X_train, [y_train_adhd, y_train_sex],\n",
        "                    epochs=50, batch_size=32, validation_split=0.2, verbose=1)"
      ],
      "metadata": {
        "colab": {
          "base_uri": "https://localhost:8080/",
          "height": 1000
        },
        "id": "O_x_MI-ZXNwC",
        "outputId": "0f599e72-1a4f-4031-bb40-7ae028e1dce0",
        "collapsed": true
      },
      "execution_count": null,
      "outputs": [
        {
          "output_type": "stream",
          "name": "stdout",
          "text": [
            "Epoch 1/50\n",
            "\u001b[1m22/22\u001b[0m \u001b[32m━━━━━━━━━━━━━━━━━━━━\u001b[0m\u001b[37m\u001b[0m \u001b[1m8s\u001b[0m 225ms/step - adhd_output_accuracy: 0.6192 - adhd_output_loss: 0.7296 - loss: 1.4451 - sex_output_accuracy: 0.6208 - sex_output_loss: 0.7142 - val_adhd_output_accuracy: 0.6706 - val_adhd_output_loss: 0.6945 - val_loss: 1.2753 - val_sex_output_accuracy: 0.6176 - val_sex_output_loss: 0.6279\n",
            "Epoch 2/50\n",
            "\u001b[1m22/22\u001b[0m \u001b[32m━━━━━━━━━━━━━━━━━━━━\u001b[0m\u001b[37m\u001b[0m \u001b[1m10s\u001b[0m 213ms/step - adhd_output_accuracy: 0.9464 - adhd_output_loss: 0.1452 - loss: 0.2341 - sex_output_accuracy: 0.9732 - sex_output_loss: 0.0885 - val_adhd_output_accuracy: 0.6176 - val_adhd_output_loss: 0.7596 - val_loss: 1.3455 - val_sex_output_accuracy: 0.7118 - val_sex_output_loss: 0.6527\n",
            "Epoch 3/50\n",
            "\u001b[1m22/22\u001b[0m \u001b[32m━━━━━━━━━━━━━━━━━━━━\u001b[0m\u001b[37m\u001b[0m \u001b[1m5s\u001b[0m 225ms/step - adhd_output_accuracy: 1.0000 - adhd_output_loss: 0.0053 - loss: 0.0152 - sex_output_accuracy: 0.9949 - sex_output_loss: 0.0099 - val_adhd_output_accuracy: 0.6412 - val_adhd_output_loss: 0.8373 - val_loss: 1.4351 - val_sex_output_accuracy: 0.7118 - val_sex_output_loss: 0.6790\n",
            "Epoch 4/50\n",
            "\u001b[1m22/22\u001b[0m \u001b[32m━━━━━━━━━━━━━━━━━━━━\u001b[0m\u001b[37m\u001b[0m \u001b[1m6s\u001b[0m 262ms/step - adhd_output_accuracy: 1.0000 - adhd_output_loss: 6.0549e-04 - loss: 0.0013 - sex_output_accuracy: 1.0000 - sex_output_loss: 6.5184e-04 - val_adhd_output_accuracy: 0.6176 - val_adhd_output_loss: 0.8578 - val_loss: 1.4591 - val_sex_output_accuracy: 0.7118 - val_sex_output_loss: 0.6805\n",
            "Epoch 5/50\n",
            "\u001b[1m22/22\u001b[0m \u001b[32m━━━━━━━━━━━━━━━━━━━━\u001b[0m\u001b[37m\u001b[0m \u001b[1m10s\u001b[0m 256ms/step - adhd_output_accuracy: 1.0000 - adhd_output_loss: 3.9235e-04 - loss: 7.3955e-04 - sex_output_accuracy: 1.0000 - sex_output_loss: 3.4738e-04 - val_adhd_output_accuracy: 0.6176 - val_adhd_output_loss: 0.8707 - val_loss: 1.4766 - val_sex_output_accuracy: 0.7294 - val_sex_output_loss: 0.6886\n",
            "Epoch 6/50\n",
            "\u001b[1m22/22\u001b[0m \u001b[32m━━━━━━━━━━━━━━━━━━━━\u001b[0m\u001b[37m\u001b[0m \u001b[1m9s\u001b[0m 209ms/step - adhd_output_accuracy: 1.0000 - adhd_output_loss: 3.2263e-04 - loss: 5.8621e-04 - sex_output_accuracy: 1.0000 - sex_output_loss: 2.6265e-04 - val_adhd_output_accuracy: 0.6176 - val_adhd_output_loss: 0.8809 - val_loss: 1.4911 - val_sex_output_accuracy: 0.7353 - val_sex_output_loss: 0.6958\n",
            "Epoch 7/50\n",
            "\u001b[1m22/22\u001b[0m \u001b[32m━━━━━━━━━━━━━━━━━━━━\u001b[0m\u001b[37m\u001b[0m \u001b[1m7s\u001b[0m 288ms/step - adhd_output_accuracy: 1.0000 - adhd_output_loss: 2.4686e-04 - loss: 4.3419e-04 - sex_output_accuracy: 1.0000 - sex_output_loss: 1.8767e-04 - val_adhd_output_accuracy: 0.6176 - val_adhd_output_loss: 0.8893 - val_loss: 1.5033 - val_sex_output_accuracy: 0.7412 - val_sex_output_loss: 0.7018\n",
            "Epoch 8/50\n",
            "\u001b[1m22/22\u001b[0m \u001b[32m━━━━━━━━━━━━━━━━━━━━\u001b[0m\u001b[37m\u001b[0m \u001b[1m5s\u001b[0m 208ms/step - adhd_output_accuracy: 1.0000 - adhd_output_loss: 2.0344e-04 - loss: 3.7355e-04 - sex_output_accuracy: 1.0000 - sex_output_loss: 1.7045e-04 - val_adhd_output_accuracy: 0.6235 - val_adhd_output_loss: 0.8973 - val_loss: 1.5144 - val_sex_output_accuracy: 0.7412 - val_sex_output_loss: 0.7068\n",
            "Epoch 9/50\n",
            "\u001b[1m22/22\u001b[0m \u001b[32m━━━━━━━━━━━━━━━━━━━━\u001b[0m\u001b[37m\u001b[0m \u001b[1m5s\u001b[0m 208ms/step - adhd_output_accuracy: 1.0000 - adhd_output_loss: 1.5993e-04 - loss: 2.8030e-04 - sex_output_accuracy: 1.0000 - sex_output_loss: 1.2068e-04 - val_adhd_output_accuracy: 0.6235 - val_adhd_output_loss: 0.9046 - val_loss: 1.5250 - val_sex_output_accuracy: 0.7412 - val_sex_output_loss: 0.7118\n",
            "Epoch 10/50\n",
            "\u001b[1m22/22\u001b[0m \u001b[32m━━━━━━━━━━━━━━━━━━━━\u001b[0m\u001b[37m\u001b[0m \u001b[1m7s\u001b[0m 328ms/step - adhd_output_accuracy: 1.0000 - adhd_output_loss: 1.4584e-04 - loss: 2.6753e-04 - sex_output_accuracy: 1.0000 - sex_output_loss: 1.2129e-04 - val_adhd_output_accuracy: 0.6235 - val_adhd_output_loss: 0.9111 - val_loss: 1.5342 - val_sex_output_accuracy: 0.7412 - val_sex_output_loss: 0.7157\n",
            "Epoch 11/50\n",
            "\u001b[1m22/22\u001b[0m \u001b[32m━━━━━━━━━━━━━━━━━━━━\u001b[0m\u001b[37m\u001b[0m \u001b[1m5s\u001b[0m 211ms/step - adhd_output_accuracy: 1.0000 - adhd_output_loss: 1.2810e-04 - loss: 2.3119e-04 - sex_output_accuracy: 1.0000 - sex_output_loss: 1.0256e-04 - val_adhd_output_accuracy: 0.6235 - val_adhd_output_loss: 0.9173 - val_loss: 1.5431 - val_sex_output_accuracy: 0.7412 - val_sex_output_loss: 0.7195\n",
            "Epoch 12/50\n",
            "\u001b[1m22/22\u001b[0m \u001b[32m━━━━━━━━━━━━━━━━━━━━\u001b[0m\u001b[37m\u001b[0m \u001b[1m6s\u001b[0m 269ms/step - adhd_output_accuracy: 1.0000 - adhd_output_loss: 1.0793e-04 - loss: 2.0528e-04 - sex_output_accuracy: 1.0000 - sex_output_loss: 9.7373e-05 - val_adhd_output_accuracy: 0.6176 - val_adhd_output_loss: 0.9233 - val_loss: 1.5516 - val_sex_output_accuracy: 0.7412 - val_sex_output_loss: 0.7231\n",
            "Epoch 13/50\n",
            "\u001b[1m22/22\u001b[0m \u001b[32m━━━━━━━━━━━━━━━━━━━━\u001b[0m\u001b[37m\u001b[0m \u001b[1m9s\u001b[0m 212ms/step - adhd_output_accuracy: 1.0000 - adhd_output_loss: 1.0640e-04 - loss: 1.9736e-04 - sex_output_accuracy: 1.0000 - sex_output_loss: 9.1241e-05 - val_adhd_output_accuracy: 0.6176 - val_adhd_output_loss: 0.9293 - val_loss: 1.5600 - val_sex_output_accuracy: 0.7412 - val_sex_output_loss: 0.7264\n",
            "Epoch 14/50\n",
            "\u001b[1m22/22\u001b[0m \u001b[32m━━━━━━━━━━━━━━━━━━━━\u001b[0m\u001b[37m\u001b[0m \u001b[1m7s\u001b[0m 314ms/step - adhd_output_accuracy: 1.0000 - adhd_output_loss: 9.9890e-05 - loss: 1.8241e-04 - sex_output_accuracy: 1.0000 - sex_output_loss: 8.2244e-05 - val_adhd_output_accuracy: 0.6176 - val_adhd_output_loss: 0.9351 - val_loss: 1.5682 - val_sex_output_accuracy: 0.7412 - val_sex_output_loss: 0.7300\n",
            "Epoch 15/50\n",
            "\u001b[1m22/22\u001b[0m \u001b[32m━━━━━━━━━━━━━━━━━━━━\u001b[0m\u001b[37m\u001b[0m \u001b[1m5s\u001b[0m 211ms/step - adhd_output_accuracy: 1.0000 - adhd_output_loss: 8.3114e-05 - loss: 1.4576e-04 - sex_output_accuracy: 1.0000 - sex_output_loss: 6.2344e-05 - val_adhd_output_accuracy: 0.6176 - val_adhd_output_loss: 0.9402 - val_loss: 1.5757 - val_sex_output_accuracy: 0.7412 - val_sex_output_loss: 0.7332\n",
            "Epoch 16/50\n",
            "\u001b[1m22/22\u001b[0m \u001b[32m━━━━━━━━━━━━━━━━━━━━\u001b[0m\u001b[37m\u001b[0m \u001b[1m6s\u001b[0m 263ms/step - adhd_output_accuracy: 1.0000 - adhd_output_loss: 8.0083e-05 - loss: 1.4145e-04 - sex_output_accuracy: 1.0000 - sex_output_loss: 6.1671e-05 - val_adhd_output_accuracy: 0.6176 - val_adhd_output_loss: 0.9453 - val_loss: 1.5830 - val_sex_output_accuracy: 0.7471 - val_sex_output_loss: 0.7363\n",
            "Epoch 17/50\n",
            "\u001b[1m22/22\u001b[0m \u001b[32m━━━━━━━━━━━━━━━━━━━━\u001b[0m\u001b[37m\u001b[0m \u001b[1m9s\u001b[0m 212ms/step - adhd_output_accuracy: 1.0000 - adhd_output_loss: 7.1791e-05 - loss: 1.2558e-04 - sex_output_accuracy: 1.0000 - sex_output_loss: 5.3627e-05 - val_adhd_output_accuracy: 0.6176 - val_adhd_output_loss: 0.9504 - val_loss: 1.5903 - val_sex_output_accuracy: 0.7471 - val_sex_output_loss: 0.7394\n",
            "Epoch 18/50\n",
            "\u001b[1m22/22\u001b[0m \u001b[32m━━━━━━━━━━━━━━━━━━━━\u001b[0m\u001b[37m\u001b[0m \u001b[1m7s\u001b[0m 292ms/step - adhd_output_accuracy: 1.0000 - adhd_output_loss: 6.2726e-05 - loss: 1.0931e-04 - sex_output_accuracy: 1.0000 - sex_output_loss: 4.6759e-05 - val_adhd_output_accuracy: 0.6176 - val_adhd_output_loss: 0.9551 - val_loss: 1.5971 - val_sex_output_accuracy: 0.7471 - val_sex_output_loss: 0.7423\n",
            "Epoch 19/50\n",
            "\u001b[1m22/22\u001b[0m \u001b[32m━━━━━━━━━━━━━━━━━━━━\u001b[0m\u001b[37m\u001b[0m \u001b[1m5s\u001b[0m 213ms/step - adhd_output_accuracy: 1.0000 - adhd_output_loss: 5.7796e-05 - loss: 1.0415e-04 - sex_output_accuracy: 1.0000 - sex_output_loss: 4.6236e-05 - val_adhd_output_accuracy: 0.6176 - val_adhd_output_loss: 0.9601 - val_loss: 1.6040 - val_sex_output_accuracy: 0.7471 - val_sex_output_loss: 0.7450\n",
            "Epoch 20/50\n",
            "\u001b[1m22/22\u001b[0m \u001b[32m━━━━━━━━━━━━━━━━━━━━\u001b[0m\u001b[37m\u001b[0m \u001b[1m5s\u001b[0m 212ms/step - adhd_output_accuracy: 1.0000 - adhd_output_loss: 5.3520e-05 - loss: 9.8251e-05 - sex_output_accuracy: 1.0000 - sex_output_loss: 4.4680e-05 - val_adhd_output_accuracy: 0.6176 - val_adhd_output_loss: 0.9644 - val_loss: 1.6102 - val_sex_output_accuracy: 0.7471 - val_sex_output_loss: 0.7476\n",
            "Epoch 21/50\n",
            "\u001b[1m22/22\u001b[0m \u001b[32m━━━━━━━━━━━━━━━━━━━━\u001b[0m\u001b[37m\u001b[0m \u001b[1m6s\u001b[0m 294ms/step - adhd_output_accuracy: 1.0000 - adhd_output_loss: 4.9801e-05 - loss: 8.8599e-05 - sex_output_accuracy: 1.0000 - sex_output_loss: 3.9036e-05 - val_adhd_output_accuracy: 0.6176 - val_adhd_output_loss: 0.9690 - val_loss: 1.6164 - val_sex_output_accuracy: 0.7471 - val_sex_output_loss: 0.7501\n",
            "Epoch 22/50\n",
            "\u001b[1m22/22\u001b[0m \u001b[32m━━━━━━━━━━━━━━━━━━━━\u001b[0m\u001b[37m\u001b[0m \u001b[1m5s\u001b[0m 211ms/step - adhd_output_accuracy: 1.0000 - adhd_output_loss: 4.8510e-05 - loss: 8.5079e-05 - sex_output_accuracy: 1.0000 - sex_output_loss: 3.6379e-05 - val_adhd_output_accuracy: 0.6176 - val_adhd_output_loss: 0.9733 - val_loss: 1.6229 - val_sex_output_accuracy: 0.7412 - val_sex_output_loss: 0.7530\n",
            "Epoch 23/50\n",
            "\u001b[1m22/22\u001b[0m \u001b[32m━━━━━━━━━━━━━━━━━━━━\u001b[0m\u001b[37m\u001b[0m \u001b[1m5s\u001b[0m 246ms/step - adhd_output_accuracy: 1.0000 - adhd_output_loss: 4.6101e-05 - loss: 8.4628e-05 - sex_output_accuracy: 1.0000 - sex_output_loss: 3.8673e-05 - val_adhd_output_accuracy: 0.6176 - val_adhd_output_loss: 0.9772 - val_loss: 1.6289 - val_sex_output_accuracy: 0.7412 - val_sex_output_loss: 0.7556\n",
            "Epoch 24/50\n",
            "\u001b[1m22/22\u001b[0m \u001b[32m━━━━━━━━━━━━━━━━━━━━\u001b[0m\u001b[37m\u001b[0m \u001b[1m10s\u001b[0m 213ms/step - adhd_output_accuracy: 1.0000 - adhd_output_loss: 4.1069e-05 - loss: 7.3489e-05 - sex_output_accuracy: 1.0000 - sex_output_loss: 3.2494e-05 - val_adhd_output_accuracy: 0.6118 - val_adhd_output_loss: 0.9813 - val_loss: 1.6346 - val_sex_output_accuracy: 0.7412 - val_sex_output_loss: 0.7579\n",
            "Epoch 25/50\n",
            "\u001b[1m22/22\u001b[0m \u001b[32m━━━━━━━━━━━━━━━━━━━━\u001b[0m\u001b[37m\u001b[0m \u001b[1m7s\u001b[0m 340ms/step - adhd_output_accuracy: 1.0000 - adhd_output_loss: 3.5883e-05 - loss: 6.5168e-05 - sex_output_accuracy: 1.0000 - sex_output_loss: 2.9294e-05 - val_adhd_output_accuracy: 0.6118 - val_adhd_output_loss: 0.9851 - val_loss: 1.6400 - val_sex_output_accuracy: 0.7412 - val_sex_output_loss: 0.7601\n",
            "Epoch 26/50\n",
            "\u001b[1m22/22\u001b[0m \u001b[32m━━━━━━━━━━━━━━━━━━━━\u001b[0m\u001b[37m\u001b[0m \u001b[1m5s\u001b[0m 213ms/step - adhd_output_accuracy: 1.0000 - adhd_output_loss: 3.7532e-05 - loss: 6.5727e-05 - sex_output_accuracy: 1.0000 - sex_output_loss: 2.8283e-05 - val_adhd_output_accuracy: 0.6118 - val_adhd_output_loss: 0.9887 - val_loss: 1.6455 - val_sex_output_accuracy: 0.7412 - val_sex_output_loss: 0.7626\n",
            "Epoch 27/50\n",
            "\u001b[1m22/22\u001b[0m \u001b[32m━━━━━━━━━━━━━━━━━━━━\u001b[0m\u001b[37m\u001b[0m \u001b[1m5s\u001b[0m 220ms/step - adhd_output_accuracy: 1.0000 - adhd_output_loss: 3.5012e-05 - loss: 6.2647e-05 - sex_output_accuracy: 1.0000 - sex_output_loss: 2.7518e-05 - val_adhd_output_accuracy: 0.6118 - val_adhd_output_loss: 0.9924 - val_loss: 1.6508 - val_sex_output_accuracy: 0.7412 - val_sex_output_loss: 0.7648\n",
            "Epoch 28/50\n",
            "\u001b[1m22/22\u001b[0m \u001b[32m━━━━━━━━━━━━━━━━━━━━\u001b[0m\u001b[37m\u001b[0m \u001b[1m6s\u001b[0m 278ms/step - adhd_output_accuracy: 1.0000 - adhd_output_loss: 3.4702e-05 - loss: 5.9546e-05 - sex_output_accuracy: 1.0000 - sex_output_loss: 2.4999e-05 - val_adhd_output_accuracy: 0.6118 - val_adhd_output_loss: 0.9960 - val_loss: 1.6560 - val_sex_output_accuracy: 0.7412 - val_sex_output_loss: 0.7670\n",
            "Epoch 29/50\n",
            "\u001b[1m22/22\u001b[0m \u001b[32m━━━━━━━━━━━━━━━━━━━━\u001b[0m\u001b[37m\u001b[0m \u001b[1m5s\u001b[0m 212ms/step - adhd_output_accuracy: 1.0000 - adhd_output_loss: 2.8560e-05 - loss: 4.9703e-05 - sex_output_accuracy: 1.0000 - sex_output_loss: 2.1092e-05 - val_adhd_output_accuracy: 0.6118 - val_adhd_output_loss: 0.9993 - val_loss: 1.6611 - val_sex_output_accuracy: 0.7412 - val_sex_output_loss: 0.7693\n",
            "Epoch 30/50\n",
            "\u001b[1m22/22\u001b[0m \u001b[32m━━━━━━━━━━━━━━━━━━━━\u001b[0m\u001b[37m\u001b[0m \u001b[1m6s\u001b[0m 274ms/step - adhd_output_accuracy: 1.0000 - adhd_output_loss: 2.8153e-05 - loss: 5.1113e-05 - sex_output_accuracy: 1.0000 - sex_output_loss: 2.2853e-05 - val_adhd_output_accuracy: 0.6118 - val_adhd_output_loss: 1.0028 - val_loss: 1.6660 - val_sex_output_accuracy: 0.7412 - val_sex_output_loss: 0.7713\n",
            "Epoch 31/50\n",
            "\u001b[1m22/22\u001b[0m \u001b[32m━━━━━━━━━━━━━━━━━━━━\u001b[0m\u001b[37m\u001b[0m \u001b[1m10s\u001b[0m 246ms/step - adhd_output_accuracy: 1.0000 - adhd_output_loss: 2.5423e-05 - loss: 4.5622e-05 - sex_output_accuracy: 1.0000 - sex_output_loss: 2.0171e-05 - val_adhd_output_accuracy: 0.6118 - val_adhd_output_loss: 1.0062 - val_loss: 1.6709 - val_sex_output_accuracy: 0.7412 - val_sex_output_loss: 0.7734\n",
            "Epoch 32/50\n",
            "\u001b[1m22/22\u001b[0m \u001b[32m━━━━━━━━━━━━━━━━━━━━\u001b[0m\u001b[37m\u001b[0m \u001b[1m12s\u001b[0m 559ms/step - adhd_output_accuracy: 1.0000 - adhd_output_loss: 2.3668e-05 - loss: 4.4349e-05 - sex_output_accuracy: 1.0000 - sex_output_loss: 2.0602e-05 - val_adhd_output_accuracy: 0.6118 - val_adhd_output_loss: 1.0095 - val_loss: 1.6760 - val_sex_output_accuracy: 0.7412 - val_sex_output_loss: 0.7757\n",
            "Epoch 33/50\n",
            "\u001b[1m22/22\u001b[0m \u001b[32m━━━━━━━━━━━━━━━━━━━━\u001b[0m\u001b[37m\u001b[0m \u001b[1m5s\u001b[0m 214ms/step - adhd_output_accuracy: 1.0000 - adhd_output_loss: 2.2258e-05 - loss: 3.9646e-05 - sex_output_accuracy: 1.0000 - sex_output_loss: 1.7430e-05 - val_adhd_output_accuracy: 0.6118 - val_adhd_output_loss: 1.0127 - val_loss: 1.6807 - val_sex_output_accuracy: 0.7412 - val_sex_output_loss: 0.7777\n",
            "Epoch 34/50\n",
            "\u001b[1m22/22\u001b[0m \u001b[32m━━━━━━━━━━━━━━━━━━━━\u001b[0m\u001b[37m\u001b[0m \u001b[1m7s\u001b[0m 304ms/step - adhd_output_accuracy: 1.0000 - adhd_output_loss: 2.1070e-05 - loss: 3.8077e-05 - sex_output_accuracy: 1.0000 - sex_output_loss: 1.7017e-05 - val_adhd_output_accuracy: 0.6118 - val_adhd_output_loss: 1.0159 - val_loss: 1.6853 - val_sex_output_accuracy: 0.7412 - val_sex_output_loss: 0.7798\n",
            "Epoch 35/50\n",
            "\u001b[1m22/22\u001b[0m \u001b[32m━━━━━━━━━━━━━━━━━━━━\u001b[0m\u001b[37m\u001b[0m \u001b[1m5s\u001b[0m 216ms/step - adhd_output_accuracy: 1.0000 - adhd_output_loss: 2.2035e-05 - loss: 3.8942e-05 - sex_output_accuracy: 1.0000 - sex_output_loss: 1.6944e-05 - val_adhd_output_accuracy: 0.6118 - val_adhd_output_loss: 1.0191 - val_loss: 1.6900 - val_sex_output_accuracy: 0.7412 - val_sex_output_loss: 0.7817\n",
            "Epoch 36/50\n",
            "\u001b[1m22/22\u001b[0m \u001b[32m━━━━━━━━━━━━━━━━━━━━\u001b[0m\u001b[37m\u001b[0m \u001b[1m5s\u001b[0m 214ms/step - adhd_output_accuracy: 1.0000 - adhd_output_loss: 2.0485e-05 - loss: 3.7482e-05 - sex_output_accuracy: 1.0000 - sex_output_loss: 1.6964e-05 - val_adhd_output_accuracy: 0.6118 - val_adhd_output_loss: 1.0221 - val_loss: 1.6944 - val_sex_output_accuracy: 0.7412 - val_sex_output_loss: 0.7836\n",
            "Epoch 37/50\n",
            "\u001b[1m22/22\u001b[0m \u001b[32m━━━━━━━━━━━━━━━━━━━━\u001b[0m\u001b[37m\u001b[0m \u001b[1m7s\u001b[0m 281ms/step - adhd_output_accuracy: 1.0000 - adhd_output_loss: 1.9352e-05 - loss: 3.4771e-05 - sex_output_accuracy: 1.0000 - sex_output_loss: 1.5488e-05 - val_adhd_output_accuracy: 0.6118 - val_adhd_output_loss: 1.0252 - val_loss: 1.6989 - val_sex_output_accuracy: 0.7412 - val_sex_output_loss: 0.7856\n",
            "Epoch 38/50\n",
            "\u001b[1m22/22\u001b[0m \u001b[32m━━━━━━━━━━━━━━━━━━━━\u001b[0m\u001b[37m\u001b[0m \u001b[1m9s\u001b[0m 250ms/step - adhd_output_accuracy: 1.0000 - adhd_output_loss: 1.8556e-05 - loss: 3.4316e-05 - sex_output_accuracy: 1.0000 - sex_output_loss: 1.5734e-05 - val_adhd_output_accuracy: 0.6118 - val_adhd_output_loss: 1.0283 - val_loss: 1.7035 - val_sex_output_accuracy: 0.7412 - val_sex_output_loss: 0.7875\n",
            "Epoch 39/50\n",
            "\u001b[1m22/22\u001b[0m \u001b[32m━━━━━━━━━━━━━━━━━━━━\u001b[0m\u001b[37m\u001b[0m \u001b[1m9s\u001b[0m 215ms/step - adhd_output_accuracy: 1.0000 - adhd_output_loss: 1.6766e-05 - loss: 2.9946e-05 - sex_output_accuracy: 1.0000 - sex_output_loss: 1.3214e-05 - val_adhd_output_accuracy: 0.6118 - val_adhd_output_loss: 1.0312 - val_loss: 1.7077 - val_sex_output_accuracy: 0.7412 - val_sex_output_loss: 0.7893\n",
            "Epoch 40/50\n",
            "\u001b[1m22/22\u001b[0m \u001b[32m━━━━━━━━━━━━━━━━━━━━\u001b[0m\u001b[37m\u001b[0m \u001b[1m7s\u001b[0m 298ms/step - adhd_output_accuracy: 1.0000 - adhd_output_loss: 1.5171e-05 - loss: 2.7720e-05 - sex_output_accuracy: 1.0000 - sex_output_loss: 1.2510e-05 - val_adhd_output_accuracy: 0.6118 - val_adhd_output_loss: 1.0342 - val_loss: 1.7121 - val_sex_output_accuracy: 0.7412 - val_sex_output_loss: 0.7913\n",
            "Epoch 41/50\n",
            "\u001b[1m22/22\u001b[0m \u001b[32m━━━━━━━━━━━━━━━━━━━━\u001b[0m\u001b[37m\u001b[0m \u001b[1m9s\u001b[0m 217ms/step - adhd_output_accuracy: 1.0000 - adhd_output_loss: 1.5910e-05 - loss: 2.9641e-05 - sex_output_accuracy: 1.0000 - sex_output_loss: 1.3717e-05 - val_adhd_output_accuracy: 0.6118 - val_adhd_output_loss: 1.0372 - val_loss: 1.7164 - val_sex_output_accuracy: 0.7412 - val_sex_output_loss: 0.7931\n",
            "Epoch 42/50\n",
            "\u001b[1m22/22\u001b[0m \u001b[32m━━━━━━━━━━━━━━━━━━━━\u001b[0m\u001b[37m\u001b[0m \u001b[1m7s\u001b[0m 299ms/step - adhd_output_accuracy: 1.0000 - adhd_output_loss: 1.6139e-05 - loss: 2.9780e-05 - sex_output_accuracy: 1.0000 - sex_output_loss: 1.3606e-05 - val_adhd_output_accuracy: 0.6118 - val_adhd_output_loss: 1.0399 - val_loss: 1.7206 - val_sex_output_accuracy: 0.7412 - val_sex_output_loss: 0.7950\n",
            "Epoch 43/50\n",
            "\u001b[1m22/22\u001b[0m \u001b[32m━━━━━━━━━━━━━━━━━━━━\u001b[0m\u001b[37m\u001b[0m \u001b[1m8s\u001b[0m 216ms/step - adhd_output_accuracy: 1.0000 - adhd_output_loss: 1.4402e-05 - loss: 2.5607e-05 - sex_output_accuracy: 1.0000 - sex_output_loss: 1.1199e-05 - val_adhd_output_accuracy: 0.6118 - val_adhd_output_loss: 1.0427 - val_loss: 1.7246 - val_sex_output_accuracy: 0.7412 - val_sex_output_loss: 0.7967\n",
            "Epoch 44/50\n",
            "\u001b[1m22/22\u001b[0m \u001b[32m━━━━━━━━━━━━━━━━━━━━\u001b[0m\u001b[37m\u001b[0m \u001b[1m7s\u001b[0m 294ms/step - adhd_output_accuracy: 1.0000 - adhd_output_loss: 1.4371e-05 - loss: 2.6197e-05 - sex_output_accuracy: 1.0000 - sex_output_loss: 1.1785e-05 - val_adhd_output_accuracy: 0.6118 - val_adhd_output_loss: 1.0454 - val_loss: 1.7286 - val_sex_output_accuracy: 0.7412 - val_sex_output_loss: 0.7985\n",
            "Epoch 45/50\n",
            "\u001b[1m22/22\u001b[0m \u001b[32m━━━━━━━━━━━━━━━━━━━━\u001b[0m\u001b[37m\u001b[0m \u001b[1m9s\u001b[0m 228ms/step - adhd_output_accuracy: 1.0000 - adhd_output_loss: 1.2329e-05 - loss: 2.2729e-05 - sex_output_accuracy: 1.0000 - sex_output_loss: 1.0397e-05 - val_adhd_output_accuracy: 0.6118 - val_adhd_output_loss: 1.0480 - val_loss: 1.7324 - val_sex_output_accuracy: 0.7412 - val_sex_output_loss: 0.8002\n",
            "Epoch 46/50\n",
            "\u001b[1m22/22\u001b[0m \u001b[32m━━━━━━━━━━━━━━━━━━━━\u001b[0m\u001b[37m\u001b[0m \u001b[1m6s\u001b[0m 278ms/step - adhd_output_accuracy: 1.0000 - adhd_output_loss: 1.2955e-05 - loss: 2.3864e-05 - sex_output_accuracy: 1.0000 - sex_output_loss: 1.0896e-05 - val_adhd_output_accuracy: 0.6118 - val_adhd_output_loss: 1.0506 - val_loss: 1.7362 - val_sex_output_accuracy: 0.7412 - val_sex_output_loss: 0.8018\n",
            "Epoch 47/50\n",
            "\u001b[1m22/22\u001b[0m \u001b[32m━━━━━━━━━━━━━━━━━━━━\u001b[0m\u001b[37m\u001b[0m \u001b[1m12s\u001b[0m 358ms/step - adhd_output_accuracy: 1.0000 - adhd_output_loss: 1.1643e-05 - loss: 2.2203e-05 - sex_output_accuracy: 1.0000 - sex_output_loss: 1.0592e-05 - val_adhd_output_accuracy: 0.6118 - val_adhd_output_loss: 1.0531 - val_loss: 1.7399 - val_sex_output_accuracy: 0.7412 - val_sex_output_loss: 0.8035\n",
            "Epoch 48/50\n",
            "\u001b[1m22/22\u001b[0m \u001b[32m━━━━━━━━━━━━━━━━━━━━\u001b[0m\u001b[37m\u001b[0m \u001b[1m7s\u001b[0m 215ms/step - adhd_output_accuracy: 1.0000 - adhd_output_loss: 1.2517e-05 - loss: 2.2869e-05 - sex_output_accuracy: 1.0000 - sex_output_loss: 1.0351e-05 - val_adhd_output_accuracy: 0.6118 - val_adhd_output_loss: 1.0555 - val_loss: 1.7436 - val_sex_output_accuracy: 0.7412 - val_sex_output_loss: 0.8051\n",
            "Epoch 49/50\n",
            "\u001b[1m22/22\u001b[0m \u001b[32m━━━━━━━━━━━━━━━━━━━━\u001b[0m\u001b[37m\u001b[0m \u001b[1m6s\u001b[0m 269ms/step - adhd_output_accuracy: 1.0000 - adhd_output_loss: 1.1528e-05 - loss: 2.1869e-05 - sex_output_accuracy: 1.0000 - sex_output_loss: 1.0342e-05 - val_adhd_output_accuracy: 0.6118 - val_adhd_output_loss: 1.0580 - val_loss: 1.7472 - val_sex_output_accuracy: 0.7412 - val_sex_output_loss: 0.8067\n",
            "Epoch 50/50\n",
            "\u001b[1m22/22\u001b[0m \u001b[32m━━━━━━━━━━━━━━━━━━━━\u001b[0m\u001b[37m\u001b[0m \u001b[1m9s\u001b[0m 219ms/step - adhd_output_accuracy: 1.0000 - adhd_output_loss: 1.1386e-05 - loss: 1.9864e-05 - sex_output_accuracy: 1.0000 - sex_output_loss: 8.4413e-06 - val_adhd_output_accuracy: 0.6118 - val_adhd_output_loss: 1.0606 - val_loss: 1.7510 - val_sex_output_accuracy: 0.7412 - val_sex_output_loss: 0.8083\n",
            "\u001b[1m12/12\u001b[0m \u001b[32m━━━━━━━━━━━━━━━━━━━━\u001b[0m\u001b[37m\u001b[0m \u001b[1m0s\u001b[0m 25ms/step - adhd_output_accuracy: 0.6324 - adhd_output_loss: 0.8484 - loss: 1.8312 - sex_output_accuracy: 0.6517 - sex_output_loss: 0.9821\n"
          ]
        },
        {
          "output_type": "error",
          "ename": "ValueError",
          "evalue": "too many values to unpack (expected 3)",
          "traceback": [
            "\u001b[0;31m---------------------------------------------------------------------------\u001b[0m",
            "\u001b[0;31mValueError\u001b[0m                                Traceback (most recent call last)",
            "\u001b[0;32m<ipython-input-38-0da34f542325>\u001b[0m in \u001b[0;36m<cell line: 0>\u001b[0;34m()\u001b[0m\n\u001b[1;32m     38\u001b[0m \u001b[0;34m\u001b[0m\u001b[0m\n\u001b[1;32m     39\u001b[0m \u001b[0;31m# Evaluate the model\u001b[0m\u001b[0;34m\u001b[0m\u001b[0;34m\u001b[0m\u001b[0m\n\u001b[0;32m---> 40\u001b[0;31m \u001b[0mtest_loss\u001b[0m\u001b[0;34m,\u001b[0m \u001b[0mtest_adhd_acc\u001b[0m\u001b[0;34m,\u001b[0m \u001b[0mtest_sex_acc\u001b[0m \u001b[0;34m=\u001b[0m \u001b[0mmodel\u001b[0m\u001b[0;34m.\u001b[0m\u001b[0mevaluate\u001b[0m\u001b[0;34m(\u001b[0m\u001b[0mX_test\u001b[0m\u001b[0;34m,\u001b[0m \u001b[0;34m[\u001b[0m\u001b[0my_test_adhd\u001b[0m\u001b[0;34m,\u001b[0m \u001b[0my_test_sex\u001b[0m\u001b[0;34m]\u001b[0m\u001b[0;34m)\u001b[0m\u001b[0;34m\u001b[0m\u001b[0;34m\u001b[0m\u001b[0m\n\u001b[0m\u001b[1;32m     41\u001b[0m \u001b[0;34m\u001b[0m\u001b[0m\n\u001b[1;32m     42\u001b[0m \u001b[0mprint\u001b[0m\u001b[0;34m(\u001b[0m\u001b[0;34mf\"Test Accuracy for ADHD: {test_adhd_acc}\"\u001b[0m\u001b[0;34m)\u001b[0m\u001b[0;34m\u001b[0m\u001b[0;34m\u001b[0m\u001b[0m\n",
            "\u001b[0;31mValueError\u001b[0m: too many values to unpack (expected 3)"
          ]
        }
      ]
    },
    {
      "cell_type": "code",
      "source": [
        "# Evaluate the model\n",
        "result = model.evaluate(X_test, [y_test_adhd, y_test_sex])\n",
        "test_loss = result[0]\n",
        "test_adhd_loss = result[1]\n",
        "test_sex_loss = result[2]\n",
        "test_adhd_acc = result[3]\n",
        "test_sex_acc = result[4]\n",
        "\n",
        "print(f\"Test Loss: {test_loss}\")\n",
        "print(f\"Test Loss for ADHD: {test_adhd_loss}\")\n",
        "print(f\"Test Loss for Sex: {test_sex_loss}\")\n",
        "print(f\"Test Accuracy for ADHD: {test_adhd_acc}\")\n",
        "print(f\"Test Accuracy for Sex: {test_sex_acc}\")"
      ],
      "metadata": {
        "colab": {
          "base_uri": "https://localhost:8080/"
        },
        "id": "ehufy8vXa3Yk",
        "outputId": "7aa6f03e-db4a-43f6-f2c1-fcb33f302e0f"
      },
      "execution_count": null,
      "outputs": [
        {
          "output_type": "stream",
          "name": "stdout",
          "text": [
            "\u001b[1m12/12\u001b[0m \u001b[32m━━━━━━━━━━━━━━━━━━━━\u001b[0m\u001b[37m\u001b[0m \u001b[1m1s\u001b[0m 44ms/step - adhd_output_accuracy: 0.6324 - adhd_output_loss: 0.8484 - loss: 1.8312 - sex_output_accuracy: 0.6517 - sex_output_loss: 0.9821\n",
            "Test Loss: 1.7723755836486816\n",
            "Test Loss for ADHD: 0.8836379051208496\n",
            "Test Loss for Sex: 0.8840306401252747\n",
            "Test Accuracy for ADHD: 0.6483516693115234\n",
            "Test Accuracy for Sex: 0.6648351550102234\n"
          ]
        }
      ]
    },
    {
      "cell_type": "code",
      "source": [
        "from re import A\n",
        "from sklearn.metrics import recall_score, f1_score, accuracy_score, precision_recall_curve\n",
        "\n",
        "y_pred_adhd, y_pred_sex = model.predict(X_test)\n",
        "\n",
        "def best_threshold(y_true, y_pred_prob):\n",
        "    precisions, recalls, thresholds = precision_recall_curve(y_true, y_pred_prob)\n",
        "    f1_scores = 2 * (precisions * recalls) / (precisions + recalls)\n",
        "    best_thresh = thresholds[np.argmax(f1_scores)]  # Threshold with highest F1\n",
        "    return best_thresh\n",
        "\n",
        "# Find optimal thresholds\n",
        "best_thresh_adhd = best_threshold(y_test_adhd, y_pred_adhd)\n",
        "best_thresh_sex = best_threshold(y_test_sex, y_pred_sex)\n",
        "\n",
        "print(f\"Optimal Threshold for ADHD: {best_thresh_adhd:.3f}\")\n",
        "print(f\"Optimal Threshold for Sex: {best_thresh_sex:.3f}\")\n",
        "\n",
        "# Predict on the test set\n",
        "y_pred_adhd_bin = (y_pred_adhd > 0.2).astype(int)\n",
        "y_pred_sex_bin = (y_pred_sex > 0.235).astype(int)\n",
        "\n",
        "# Compute recall\n",
        "recall_adhd = recall_score(y_test_adhd, y_pred_adhd_bin)\n",
        "recall_sex = recall_score(y_test_sex, y_pred_sex_bin)\n",
        "\n",
        "# Compute accuracy\n",
        "A_adhd = accuracy_score(y_test_adhd, y_pred_adhd_bin)\n",
        "A_sex = accuracy_score(y_test_sex, y_pred_sex_bin)\n",
        "\n",
        "# Compute f1\n",
        "f1_adhd = f1_score(y_test_adhd, y_pred_adhd_bin)\n",
        "f1_sex = f1_score(y_test_sex, y_pred_sex_bin)\n",
        "\n",
        "print(f\"Recall for ADHD: {recall_adhd}\")\n",
        "print(f\"Accuracy for ADHD: {A_adhd}\")\n",
        "print(f\"F1 for ADHD: {f1_adhd}\")\n",
        "print('\\n')\n",
        "print(f\"Recall for Sex: {recall_sex}\")\n",
        "print(f\"Accuracy for Sex: {A_sex}\")\n",
        "print(f\"F1 for Sex: {f1_sex}\")\n"
      ],
      "metadata": {
        "colab": {
          "base_uri": "https://localhost:8080/"
        },
        "id": "hWkL6EO-bMwR",
        "outputId": "040d4abe-1438-40f5-b567-02c90b86d517"
      },
      "execution_count": null,
      "outputs": [
        {
          "output_type": "stream",
          "name": "stdout",
          "text": [
            "\u001b[1m12/12\u001b[0m \u001b[32m━━━━━━━━━━━━━━━━━━━━\u001b[0m\u001b[37m\u001b[0m \u001b[1m1s\u001b[0m 40ms/step\n",
            "Optimal Threshold for ADHD: 1.000\n",
            "Optimal Threshold for Sex: 0.235\n",
            "Recall for ADHD: 0.9260700389105059\n",
            "Accuracy for ADHD: 0.6868131868131868\n",
            "F1 for ADHD: 0.8067796610169492\n",
            "\n",
            "\n",
            "Recall for Sex: 0.7258064516129032\n",
            "Accuracy for Sex: 0.6153846153846154\n",
            "F1 for Sex: 0.5625\n"
          ]
        }
      ]
    },
    {
      "cell_type": "code",
      "source": [
        "print(f\"Shape of y_train_adhd: {y_train_adhd.shape}\")\n",
        "print(f\"Shape of y_train_sex: {y_train_sex.shape}\")"
      ],
      "metadata": {
        "colab": {
          "base_uri": "https://localhost:8080/"
        },
        "id": "_hmNLsZ7ZPKH",
        "outputId": "35010bb3-f21c-49d9-e60f-03caa2185097"
      },
      "execution_count": null,
      "outputs": [
        {
          "output_type": "stream",
          "name": "stdout",
          "text": [
            "Shape of y_train_adhd: (849,)\n",
            "Shape of y_train_sex: (849,)\n"
          ]
        }
      ]
    },
    {
      "cell_type": "markdown",
      "source": [
        "### model building (attempt to increase accuracy)\n",
        "- changed relu to leakyReLU to avoid dead neurons\n",
        "- added dropout to prevent overfitting\n",
        "- normalization to improve training stability"
      ],
      "metadata": {
        "id": "O2fP8z6GVMcv"
      }
    },
    {
      "cell_type": "code",
      "source": [
        "from tensorflow.keras.models import Model\n",
        "from tensorflow.keras.layers import Input, Dense, Dropout, BatchNormalization, LeakyReLU\n",
        "from tensorflow.keras.optimizers import Adam\n",
        "from sklearn.preprocessing import StandardScaler\n",
        "from sklearn.model_selection import train_test_split\n",
        "\n",
        "# Standardize the data\n",
        "scaler = StandardScaler()\n",
        "X_scaled = scaler.fit_transform(X)\n",
        "\n",
        "# Split data into training and test sets (70% training, 30% test)\n",
        "X_train, X_test, y_train_adhd, y_test_adhd, y_train_sex, y_test_sex = train_test_split(\n",
        "    X_scaled, y_adhd, y_sex, test_size=0.3, random_state=1234)\n",
        "\n",
        "inputs = Input(shape=(X_train.shape[1],))\n",
        "\n",
        "# Shared hidden layers\n",
        "x = Dense(512)(inputs)\n",
        "x = BatchNormalization()(x)\n",
        "x = LeakyReLU()(x)\n",
        "x = Dropout(0.3)(x)\n",
        "\n",
        "x = Dense(256)(inputs)\n",
        "x = BatchNormalization()(x)\n",
        "x = LeakyReLU()(x)\n",
        "x = Dropout(0.3)(x)\n",
        "\n",
        "x = Dense(128)(inputs)\n",
        "x = BatchNormalization()(x)\n",
        "x = LeakyReLU()(x)\n",
        "x = Dropout(0.3)(x)\n",
        "\n",
        "# Output layers for ADHD and Sex\n",
        "adhd_output = Dense(1, activation='sigmoid', name='adhd_output')(x)\n",
        "sex_output = Dense(1, activation='sigmoid', name='sex_output')(x)\n",
        "\n",
        "# Create the model\n",
        "model = Model(inputs=inputs, outputs=[adhd_output, sex_output])\n",
        "\n",
        "# Compile the model\n",
        "model.compile(optimizer=Adam(),\n",
        "              loss={'adhd_output': 'binary_crossentropy', 'sex_output': 'binary_crossentropy'},\n",
        "              metrics={'adhd_output': 'accuracy', 'sex_output': 'accuracy'})\n",
        "\n",
        "# Train the model\n",
        "history = model.fit(X_train, [y_train_adhd, y_train_sex],\n",
        "                    epochs=50, batch_size=32, validation_split=0.2, verbose=1)"
      ],
      "metadata": {
        "colab": {
          "base_uri": "https://localhost:8080/"
        },
        "id": "SecJrRQ9VLbB",
        "outputId": "3547dfa4-4aa6-426b-f609-3a5f34dbafa8"
      },
      "execution_count": null,
      "outputs": [
        {
          "output_type": "stream",
          "name": "stdout",
          "text": [
            "Epoch 1/50\n",
            "\u001b[1m22/22\u001b[0m \u001b[32m━━━━━━━━━━━━━━━━━━━━\u001b[0m\u001b[37m\u001b[0m \u001b[1m4s\u001b[0m 55ms/step - adhd_output_accuracy: 0.4634 - adhd_output_loss: 1.0305 - loss: 1.9246 - sex_output_accuracy: 0.5310 - sex_output_loss: 0.8912 - val_adhd_output_accuracy: 0.5824 - val_adhd_output_loss: 1.4193 - val_loss: 2.7176 - val_sex_output_accuracy: 0.6765 - val_sex_output_loss: 1.3771\n",
            "Epoch 2/50\n",
            "\u001b[1m22/22\u001b[0m \u001b[32m━━━━━━━━━━━━━━━━━━━━\u001b[0m\u001b[37m\u001b[0m \u001b[1m1s\u001b[0m 40ms/step - adhd_output_accuracy: 0.9148 - adhd_output_loss: 0.2166 - loss: 0.4042 - sex_output_accuracy: 0.9362 - sex_output_loss: 0.1876 - val_adhd_output_accuracy: 0.5588 - val_adhd_output_loss: 0.9124 - val_loss: 1.6954 - val_sex_output_accuracy: 0.7059 - val_sex_output_loss: 0.8317\n",
            "Epoch 3/50\n",
            "\u001b[1m22/22\u001b[0m \u001b[32m━━━━━━━━━━━━━━━━━━━━\u001b[0m\u001b[37m\u001b[0m \u001b[1m1s\u001b[0m 38ms/step - adhd_output_accuracy: 0.9590 - adhd_output_loss: 0.1261 - loss: 0.2391 - sex_output_accuracy: 0.9787 - sex_output_loss: 0.1132 - val_adhd_output_accuracy: 0.5765 - val_adhd_output_loss: 0.7896 - val_loss: 1.4720 - val_sex_output_accuracy: 0.7176 - val_sex_output_loss: 0.7353\n",
            "Epoch 4/50\n",
            "\u001b[1m22/22\u001b[0m \u001b[32m━━━━━━━━━━━━━━━━━━━━\u001b[0m\u001b[37m\u001b[0m \u001b[1m1s\u001b[0m 39ms/step - adhd_output_accuracy: 0.9919 - adhd_output_loss: 0.0709 - loss: 0.1298 - sex_output_accuracy: 1.0000 - sex_output_loss: 0.0587 - val_adhd_output_accuracy: 0.5941 - val_adhd_output_loss: 0.7428 - val_loss: 1.3958 - val_sex_output_accuracy: 0.7059 - val_sex_output_loss: 0.7088\n",
            "Epoch 5/50\n",
            "\u001b[1m22/22\u001b[0m \u001b[32m━━━━━━━━━━━━━━━━━━━━\u001b[0m\u001b[37m\u001b[0m \u001b[1m1s\u001b[0m 37ms/step - adhd_output_accuracy: 0.9999 - adhd_output_loss: 0.0454 - loss: 0.0919 - sex_output_accuracy: 1.0000 - sex_output_loss: 0.0466 - val_adhd_output_accuracy: 0.6000 - val_adhd_output_loss: 0.7281 - val_loss: 1.3649 - val_sex_output_accuracy: 0.7000 - val_sex_output_loss: 0.6955\n",
            "Epoch 6/50\n",
            "\u001b[1m22/22\u001b[0m \u001b[32m━━━━━━━━━━━━━━━━━━━━\u001b[0m\u001b[37m\u001b[0m \u001b[1m1s\u001b[0m 39ms/step - adhd_output_accuracy: 0.9999 - adhd_output_loss: 0.0478 - loss: 0.0839 - sex_output_accuracy: 0.9977 - sex_output_loss: 0.0369 - val_adhd_output_accuracy: 0.6118 - val_adhd_output_loss: 0.7309 - val_loss: 1.3600 - val_sex_output_accuracy: 0.6941 - val_sex_output_loss: 0.6926\n",
            "Epoch 7/50\n",
            "\u001b[1m22/22\u001b[0m \u001b[32m━━━━━━━━━━━━━━━━━━━━\u001b[0m\u001b[37m\u001b[0m \u001b[1m1s\u001b[0m 41ms/step - adhd_output_accuracy: 1.0000 - adhd_output_loss: 0.0341 - loss: 0.0636 - sex_output_accuracy: 1.0000 - sex_output_loss: 0.0296 - val_adhd_output_accuracy: 0.5941 - val_adhd_output_loss: 0.7320 - val_loss: 1.3508 - val_sex_output_accuracy: 0.6882 - val_sex_output_loss: 0.6904\n",
            "Epoch 8/50\n",
            "\u001b[1m22/22\u001b[0m \u001b[32m━━━━━━━━━━━━━━━━━━━━\u001b[0m\u001b[37m\u001b[0m \u001b[1m1s\u001b[0m 37ms/step - adhd_output_accuracy: 0.9978 - adhd_output_loss: 0.0271 - loss: 0.0512 - sex_output_accuracy: 0.9999 - sex_output_loss: 0.0246 - val_adhd_output_accuracy: 0.6176 - val_adhd_output_loss: 0.7329 - val_loss: 1.3507 - val_sex_output_accuracy: 0.6941 - val_sex_output_loss: 0.6908\n",
            "Epoch 9/50\n",
            "\u001b[1m22/22\u001b[0m \u001b[32m━━━━━━━━━━━━━━━━━━━━\u001b[0m\u001b[37m\u001b[0m \u001b[1m2s\u001b[0m 56ms/step - adhd_output_accuracy: 1.0000 - adhd_output_loss: 0.0200 - loss: 0.0433 - sex_output_accuracy: 1.0000 - sex_output_loss: 0.0233 - val_adhd_output_accuracy: 0.6176 - val_adhd_output_loss: 0.7359 - val_loss: 1.3549 - val_sex_output_accuracy: 0.6882 - val_sex_output_loss: 0.6949\n",
            "Epoch 10/50\n",
            "\u001b[1m22/22\u001b[0m \u001b[32m━━━━━━━━━━━━━━━━━━━━\u001b[0m\u001b[37m\u001b[0m \u001b[1m1s\u001b[0m 56ms/step - adhd_output_accuracy: 1.0000 - adhd_output_loss: 0.0180 - loss: 0.0326 - sex_output_accuracy: 1.0000 - sex_output_loss: 0.0147 - val_adhd_output_accuracy: 0.6294 - val_adhd_output_loss: 0.7355 - val_loss: 1.3575 - val_sex_output_accuracy: 0.6824 - val_sex_output_loss: 0.6995\n",
            "Epoch 11/50\n",
            "\u001b[1m22/22\u001b[0m \u001b[32m━━━━━━━━━━━━━━━━━━━━\u001b[0m\u001b[37m\u001b[0m \u001b[1m2s\u001b[0m 39ms/step - adhd_output_accuracy: 1.0000 - adhd_output_loss: 0.0150 - loss: 0.0268 - sex_output_accuracy: 1.0000 - sex_output_loss: 0.0118 - val_adhd_output_accuracy: 0.6235 - val_adhd_output_loss: 0.7365 - val_loss: 1.3613 - val_sex_output_accuracy: 0.6824 - val_sex_output_loss: 0.7034\n",
            "Epoch 12/50\n",
            "\u001b[1m22/22\u001b[0m \u001b[32m━━━━━━━━━━━━━━━━━━━━\u001b[0m\u001b[37m\u001b[0m \u001b[1m1s\u001b[0m 38ms/step - adhd_output_accuracy: 1.0000 - adhd_output_loss: 0.0200 - loss: 0.0300 - sex_output_accuracy: 1.0000 - sex_output_loss: 0.0103 - val_adhd_output_accuracy: 0.6294 - val_adhd_output_loss: 0.7367 - val_loss: 1.3607 - val_sex_output_accuracy: 0.6882 - val_sex_output_loss: 0.7040\n",
            "Epoch 13/50\n",
            "\u001b[1m22/22\u001b[0m \u001b[32m━━━━━━━━━━━━━━━━━━━━\u001b[0m\u001b[37m\u001b[0m \u001b[1m1s\u001b[0m 39ms/step - adhd_output_accuracy: 1.0000 - adhd_output_loss: 0.0127 - loss: 0.0285 - sex_output_accuracy: 1.0000 - sex_output_loss: 0.0159 - val_adhd_output_accuracy: 0.6294 - val_adhd_output_loss: 0.7435 - val_loss: 1.3742 - val_sex_output_accuracy: 0.6765 - val_sex_output_loss: 0.7146\n",
            "Epoch 14/50\n",
            "\u001b[1m22/22\u001b[0m \u001b[32m━━━━━━━━━━━━━━━━━━━━\u001b[0m\u001b[37m\u001b[0m \u001b[1m1s\u001b[0m 40ms/step - adhd_output_accuracy: 0.9997 - adhd_output_loss: 0.0099 - loss: 0.0167 - sex_output_accuracy: 1.0000 - sex_output_loss: 0.0084 - val_adhd_output_accuracy: 0.6294 - val_adhd_output_loss: 0.7463 - val_loss: 1.3782 - val_sex_output_accuracy: 0.6706 - val_sex_output_loss: 0.7177\n",
            "Epoch 15/50\n",
            "\u001b[1m22/22\u001b[0m \u001b[32m━━━━━━━━━━━━━━━━━━━━\u001b[0m\u001b[37m\u001b[0m \u001b[1m1s\u001b[0m 38ms/step - adhd_output_accuracy: 0.9973 - adhd_output_loss: 0.0248 - loss: 0.0341 - sex_output_accuracy: 1.0000 - sex_output_loss: 0.0093 - val_adhd_output_accuracy: 0.6118 - val_adhd_output_loss: 0.7618 - val_loss: 1.3821 - val_sex_output_accuracy: 0.6765 - val_sex_output_loss: 0.7131\n",
            "Epoch 16/50\n",
            "\u001b[1m22/22\u001b[0m \u001b[32m━━━━━━━━━━━━━━━━━━━━\u001b[0m\u001b[37m\u001b[0m \u001b[1m1s\u001b[0m 39ms/step - adhd_output_accuracy: 0.9994 - adhd_output_loss: 0.0109 - loss: 0.0167 - sex_output_accuracy: 1.0000 - sex_output_loss: 0.0058 - val_adhd_output_accuracy: 0.6294 - val_adhd_output_loss: 0.7679 - val_loss: 1.3928 - val_sex_output_accuracy: 0.6765 - val_sex_output_loss: 0.7187\n",
            "Epoch 17/50\n",
            "\u001b[1m22/22\u001b[0m \u001b[32m━━━━━━━━━━━━━━━━━━━━\u001b[0m\u001b[37m\u001b[0m \u001b[1m1s\u001b[0m 39ms/step - adhd_output_accuracy: 0.9999 - adhd_output_loss: 0.0099 - loss: 0.0170 - sex_output_accuracy: 1.0000 - sex_output_loss: 0.0080 - val_adhd_output_accuracy: 0.6294 - val_adhd_output_loss: 0.7759 - val_loss: 1.4047 - val_sex_output_accuracy: 0.6706 - val_sex_output_loss: 0.7247\n",
            "Epoch 18/50\n",
            "\u001b[1m22/22\u001b[0m \u001b[32m━━━━━━━━━━━━━━━━━━━━\u001b[0m\u001b[37m\u001b[0m \u001b[1m1s\u001b[0m 40ms/step - adhd_output_accuracy: 1.0000 - adhd_output_loss: 0.0069 - loss: 0.0131 - sex_output_accuracy: 1.0000 - sex_output_loss: 0.0061 - val_adhd_output_accuracy: 0.6529 - val_adhd_output_loss: 0.7739 - val_loss: 1.4090 - val_sex_output_accuracy: 0.6647 - val_sex_output_loss: 0.7343\n",
            "Epoch 19/50\n",
            "\u001b[1m22/22\u001b[0m \u001b[32m━━━━━━━━━━━━━━━━━━━━\u001b[0m\u001b[37m\u001b[0m \u001b[1m2s\u001b[0m 53ms/step - adhd_output_accuracy: 0.9995 - adhd_output_loss: 0.0093 - loss: 0.0150 - sex_output_accuracy: 1.0000 - sex_output_loss: 0.0058 - val_adhd_output_accuracy: 0.6294 - val_adhd_output_loss: 0.7804 - val_loss: 1.4201 - val_sex_output_accuracy: 0.6647 - val_sex_output_loss: 0.7418\n",
            "Epoch 20/50\n",
            "\u001b[1m22/22\u001b[0m \u001b[32m━━━━━━━━━━━━━━━━━━━━\u001b[0m\u001b[37m\u001b[0m \u001b[1m1s\u001b[0m 54ms/step - adhd_output_accuracy: 1.0000 - adhd_output_loss: 0.0082 - loss: 0.0132 - sex_output_accuracy: 1.0000 - sex_output_loss: 0.0049 - val_adhd_output_accuracy: 0.6294 - val_adhd_output_loss: 0.7879 - val_loss: 1.4272 - val_sex_output_accuracy: 0.6588 - val_sex_output_loss: 0.7414\n",
            "Epoch 21/50\n",
            "\u001b[1m22/22\u001b[0m \u001b[32m━━━━━━━━━━━━━━━━━━━━\u001b[0m\u001b[37m\u001b[0m \u001b[1m1s\u001b[0m 57ms/step - adhd_output_accuracy: 1.0000 - adhd_output_loss: 0.0070 - loss: 0.0109 - sex_output_accuracy: 1.0000 - sex_output_loss: 0.0040 - val_adhd_output_accuracy: 0.6353 - val_adhd_output_loss: 0.7896 - val_loss: 1.4299 - val_sex_output_accuracy: 0.6588 - val_sex_output_loss: 0.7422\n",
            "Epoch 22/50\n",
            "\u001b[1m22/22\u001b[0m \u001b[32m━━━━━━━━━━━━━━━━━━━━\u001b[0m\u001b[37m\u001b[0m \u001b[1m2s\u001b[0m 39ms/step - adhd_output_accuracy: 1.0000 - adhd_output_loss: 0.0043 - loss: 0.0110 - sex_output_accuracy: 1.0000 - sex_output_loss: 0.0067 - val_adhd_output_accuracy: 0.6412 - val_adhd_output_loss: 0.7914 - val_loss: 1.4327 - val_sex_output_accuracy: 0.6588 - val_sex_output_loss: 0.7453\n",
            "Epoch 23/50\n",
            "\u001b[1m22/22\u001b[0m \u001b[32m━━━━━━━━━━━━━━━━━━━━\u001b[0m\u001b[37m\u001b[0m \u001b[1m1s\u001b[0m 40ms/step - adhd_output_accuracy: 1.0000 - adhd_output_loss: 0.0074 - loss: 0.0106 - sex_output_accuracy: 1.0000 - sex_output_loss: 0.0032 - val_adhd_output_accuracy: 0.6412 - val_adhd_output_loss: 0.7957 - val_loss: 1.4420 - val_sex_output_accuracy: 0.6529 - val_sex_output_loss: 0.7523\n",
            "Epoch 24/50\n",
            "\u001b[1m22/22\u001b[0m \u001b[32m━━━━━━━━━━━━━━━━━━━━\u001b[0m\u001b[37m\u001b[0m \u001b[1m1s\u001b[0m 39ms/step - adhd_output_accuracy: 0.9994 - adhd_output_loss: 0.0079 - loss: 0.0127 - sex_output_accuracy: 1.0000 - sex_output_loss: 0.0047 - val_adhd_output_accuracy: 0.6412 - val_adhd_output_loss: 0.8006 - val_loss: 1.4464 - val_sex_output_accuracy: 0.6529 - val_sex_output_loss: 0.7536\n",
            "Epoch 25/50\n",
            "\u001b[1m22/22\u001b[0m \u001b[32m━━━━━━━━━━━━━━━━━━━━\u001b[0m\u001b[37m\u001b[0m \u001b[1m1s\u001b[0m 39ms/step - adhd_output_accuracy: 1.0000 - adhd_output_loss: 0.0042 - loss: 0.0068 - sex_output_accuracy: 1.0000 - sex_output_loss: 0.0026 - val_adhd_output_accuracy: 0.6412 - val_adhd_output_loss: 0.8032 - val_loss: 1.4502 - val_sex_output_accuracy: 0.6529 - val_sex_output_loss: 0.7555\n",
            "Epoch 26/50\n",
            "\u001b[1m22/22\u001b[0m \u001b[32m━━━━━━━━━━━━━━━━━━━━\u001b[0m\u001b[37m\u001b[0m \u001b[1m1s\u001b[0m 39ms/step - adhd_output_accuracy: 1.0000 - adhd_output_loss: 0.0048 - loss: 0.0090 - sex_output_accuracy: 1.0000 - sex_output_loss: 0.0044 - val_adhd_output_accuracy: 0.6412 - val_adhd_output_loss: 0.8126 - val_loss: 1.4617 - val_sex_output_accuracy: 0.6529 - val_sex_output_loss: 0.7594\n",
            "Epoch 27/50\n",
            "\u001b[1m22/22\u001b[0m \u001b[32m━━━━━━━━━━━━━━━━━━━━\u001b[0m\u001b[37m\u001b[0m \u001b[1m1s\u001b[0m 38ms/step - adhd_output_accuracy: 1.0000 - adhd_output_loss: 0.0031 - loss: 0.0073 - sex_output_accuracy: 0.9997 - sex_output_loss: 0.0043 - val_adhd_output_accuracy: 0.6412 - val_adhd_output_loss: 0.8177 - val_loss: 1.4781 - val_sex_output_accuracy: 0.6529 - val_sex_output_loss: 0.7705\n",
            "Epoch 28/50\n",
            "\u001b[1m22/22\u001b[0m \u001b[32m━━━━━━━━━━━━━━━━━━━━\u001b[0m\u001b[37m\u001b[0m \u001b[1m1s\u001b[0m 38ms/step - adhd_output_accuracy: 1.0000 - adhd_output_loss: 0.0037 - loss: 0.0087 - sex_output_accuracy: 1.0000 - sex_output_loss: 0.0053 - val_adhd_output_accuracy: 0.6588 - val_adhd_output_loss: 0.8207 - val_loss: 1.4913 - val_sex_output_accuracy: 0.6588 - val_sex_output_loss: 0.7802\n",
            "Epoch 29/50\n",
            "\u001b[1m22/22\u001b[0m \u001b[32m━━━━━━━━━━━━━━━━━━━━\u001b[0m\u001b[37m\u001b[0m \u001b[1m1s\u001b[0m 39ms/step - adhd_output_accuracy: 1.0000 - adhd_output_loss: 0.0051 - loss: 0.0096 - sex_output_accuracy: 0.9995 - sex_output_loss: 0.0046 - val_adhd_output_accuracy: 0.6529 - val_adhd_output_loss: 0.8222 - val_loss: 1.4966 - val_sex_output_accuracy: 0.6706 - val_sex_output_loss: 0.7820\n",
            "Epoch 30/50\n",
            "\u001b[1m22/22\u001b[0m \u001b[32m━━━━━━━━━━━━━━━━━━━━\u001b[0m\u001b[37m\u001b[0m \u001b[1m1s\u001b[0m 48ms/step - adhd_output_accuracy: 1.0000 - adhd_output_loss: 0.0031 - loss: 0.0055 - sex_output_accuracy: 1.0000 - sex_output_loss: 0.0024 - val_adhd_output_accuracy: 0.6529 - val_adhd_output_loss: 0.8286 - val_loss: 1.5051 - val_sex_output_accuracy: 0.6647 - val_sex_output_loss: 0.7848\n",
            "Epoch 31/50\n",
            "\u001b[1m22/22\u001b[0m \u001b[32m━━━━━━━━━━━━━━━━━━━━\u001b[0m\u001b[37m\u001b[0m \u001b[1m1s\u001b[0m 58ms/step - adhd_output_accuracy: 1.0000 - adhd_output_loss: 0.0041 - loss: 0.0069 - sex_output_accuracy: 1.0000 - sex_output_loss: 0.0029 - val_adhd_output_accuracy: 0.6529 - val_adhd_output_loss: 0.8293 - val_loss: 1.5108 - val_sex_output_accuracy: 0.6647 - val_sex_output_loss: 0.7895\n",
            "Epoch 32/50\n",
            "\u001b[1m22/22\u001b[0m \u001b[32m━━━━━━━━━━━━━━━━━━━━\u001b[0m\u001b[37m\u001b[0m \u001b[1m1s\u001b[0m 57ms/step - adhd_output_accuracy: 1.0000 - adhd_output_loss: 0.0085 - loss: 0.0100 - sex_output_accuracy: 1.0000 - sex_output_loss: 0.0016 - val_adhd_output_accuracy: 0.6529 - val_adhd_output_loss: 0.8394 - val_loss: 1.5241 - val_sex_output_accuracy: 0.6647 - val_sex_output_loss: 0.7947\n",
            "Epoch 33/50\n",
            "\u001b[1m22/22\u001b[0m \u001b[32m━━━━━━━━━━━━━━━━━━━━\u001b[0m\u001b[37m\u001b[0m \u001b[1m2s\u001b[0m 39ms/step - adhd_output_accuracy: 1.0000 - adhd_output_loss: 0.0032 - loss: 0.0050 - sex_output_accuracy: 1.0000 - sex_output_loss: 0.0018 - val_adhd_output_accuracy: 0.6412 - val_adhd_output_loss: 0.8358 - val_loss: 1.5252 - val_sex_output_accuracy: 0.6588 - val_sex_output_loss: 0.7947\n",
            "Epoch 34/50\n",
            "\u001b[1m22/22\u001b[0m \u001b[32m━━━━━━━━━━━━━━━━━━━━\u001b[0m\u001b[37m\u001b[0m \u001b[1m1s\u001b[0m 39ms/step - adhd_output_accuracy: 1.0000 - adhd_output_loss: 0.0022 - loss: 0.0043 - sex_output_accuracy: 1.0000 - sex_output_loss: 0.0021 - val_adhd_output_accuracy: 0.6529 - val_adhd_output_loss: 0.8313 - val_loss: 1.5229 - val_sex_output_accuracy: 0.6588 - val_sex_output_loss: 0.7963\n",
            "Epoch 35/50\n",
            "\u001b[1m22/22\u001b[0m \u001b[32m━━━━━━━━━━━━━━━━━━━━\u001b[0m\u001b[37m\u001b[0m \u001b[1m1s\u001b[0m 36ms/step - adhd_output_accuracy: 1.0000 - adhd_output_loss: 0.0026 - loss: 0.0042 - sex_output_accuracy: 1.0000 - sex_output_loss: 0.0017 - val_adhd_output_accuracy: 0.6529 - val_adhd_output_loss: 0.8376 - val_loss: 1.5281 - val_sex_output_accuracy: 0.6647 - val_sex_output_loss: 0.7977\n",
            "Epoch 36/50\n",
            "\u001b[1m22/22\u001b[0m \u001b[32m━━━━━━━━━━━━━━━━━━━━\u001b[0m\u001b[37m\u001b[0m \u001b[1m1s\u001b[0m 39ms/step - adhd_output_accuracy: 1.0000 - adhd_output_loss: 0.0021 - loss: 0.0037 - sex_output_accuracy: 1.0000 - sex_output_loss: 0.0017 - val_adhd_output_accuracy: 0.6529 - val_adhd_output_loss: 0.8454 - val_loss: 1.5483 - val_sex_output_accuracy: 0.6647 - val_sex_output_loss: 0.8148\n",
            "Epoch 37/50\n",
            "\u001b[1m22/22\u001b[0m \u001b[32m━━━━━━━━━━━━━━━━━━━━\u001b[0m\u001b[37m\u001b[0m \u001b[1m1s\u001b[0m 38ms/step - adhd_output_accuracy: 1.0000 - adhd_output_loss: 0.0018 - loss: 0.0057 - sex_output_accuracy: 0.9988 - sex_output_loss: 0.0039 - val_adhd_output_accuracy: 0.6529 - val_adhd_output_loss: 0.8408 - val_loss: 1.5406 - val_sex_output_accuracy: 0.6647 - val_sex_output_loss: 0.8067\n",
            "Epoch 38/50\n",
            "\u001b[1m22/22\u001b[0m \u001b[32m━━━━━━━━━━━━━━━━━━━━\u001b[0m\u001b[37m\u001b[0m \u001b[1m1s\u001b[0m 40ms/step - adhd_output_accuracy: 1.0000 - adhd_output_loss: 0.0026 - loss: 0.0052 - sex_output_accuracy: 1.0000 - sex_output_loss: 0.0026 - val_adhd_output_accuracy: 0.6588 - val_adhd_output_loss: 0.8444 - val_loss: 1.5465 - val_sex_output_accuracy: 0.6647 - val_sex_output_loss: 0.8102\n",
            "Epoch 39/50\n",
            "\u001b[1m22/22\u001b[0m \u001b[32m━━━━━━━━━━━━━━━━━━━━\u001b[0m\u001b[37m\u001b[0m \u001b[1m1s\u001b[0m 38ms/step - adhd_output_accuracy: 1.0000 - adhd_output_loss: 0.0025 - loss: 0.0052 - sex_output_accuracy: 1.0000 - sex_output_loss: 0.0027 - val_adhd_output_accuracy: 0.6471 - val_adhd_output_loss: 0.8457 - val_loss: 1.5508 - val_sex_output_accuracy: 0.6647 - val_sex_output_loss: 0.8143\n",
            "Epoch 40/50\n",
            "\u001b[1m22/22\u001b[0m \u001b[32m━━━━━━━━━━━━━━━━━━━━\u001b[0m\u001b[37m\u001b[0m \u001b[1m1s\u001b[0m 38ms/step - adhd_output_accuracy: 1.0000 - adhd_output_loss: 0.0025 - loss: 0.0065 - sex_output_accuracy: 1.0000 - sex_output_loss: 0.0039 - val_adhd_output_accuracy: 0.6529 - val_adhd_output_loss: 0.8482 - val_loss: 1.5540 - val_sex_output_accuracy: 0.6588 - val_sex_output_loss: 0.8152\n",
            "Epoch 41/50\n",
            "\u001b[1m22/22\u001b[0m \u001b[32m━━━━━━━━━━━━━━━━━━━━\u001b[0m\u001b[37m\u001b[0m \u001b[1m2s\u001b[0m 88ms/step - adhd_output_accuracy: 1.0000 - adhd_output_loss: 0.0023 - loss: 0.0036 - sex_output_accuracy: 1.0000 - sex_output_loss: 0.0012 - val_adhd_output_accuracy: 0.6471 - val_adhd_output_loss: 0.8476 - val_loss: 1.5616 - val_sex_output_accuracy: 0.6588 - val_sex_output_loss: 0.8229\n",
            "Epoch 42/50\n",
            "\u001b[1m22/22\u001b[0m \u001b[32m━━━━━━━━━━━━━━━━━━━━\u001b[0m\u001b[37m\u001b[0m \u001b[1m1s\u001b[0m 58ms/step - adhd_output_accuracy: 1.0000 - adhd_output_loss: 0.0011 - loss: 0.0029 - sex_output_accuracy: 1.0000 - sex_output_loss: 0.0019 - val_adhd_output_accuracy: 0.6471 - val_adhd_output_loss: 0.8524 - val_loss: 1.5730 - val_sex_output_accuracy: 0.6529 - val_sex_output_loss: 0.8308\n",
            "Epoch 43/50\n",
            "\u001b[1m22/22\u001b[0m \u001b[32m━━━━━━━━━━━━━━━━━━━━\u001b[0m\u001b[37m\u001b[0m \u001b[1m2s\u001b[0m 39ms/step - adhd_output_accuracy: 1.0000 - adhd_output_loss: 0.0018 - loss: 0.0040 - sex_output_accuracy: 1.0000 - sex_output_loss: 0.0022 - val_adhd_output_accuracy: 0.6471 - val_adhd_output_loss: 0.8542 - val_loss: 1.5730 - val_sex_output_accuracy: 0.6588 - val_sex_output_loss: 0.8294\n",
            "Epoch 44/50\n",
            "\u001b[1m22/22\u001b[0m \u001b[32m━━━━━━━━━━━━━━━━━━━━\u001b[0m\u001b[37m\u001b[0m \u001b[1m1s\u001b[0m 39ms/step - adhd_output_accuracy: 1.0000 - adhd_output_loss: 0.0023 - loss: 0.0034 - sex_output_accuracy: 1.0000 - sex_output_loss: 0.0012 - val_adhd_output_accuracy: 0.6412 - val_adhd_output_loss: 0.8594 - val_loss: 1.5837 - val_sex_output_accuracy: 0.6588 - val_sex_output_loss: 0.8360\n",
            "Epoch 45/50\n",
            "\u001b[1m22/22\u001b[0m \u001b[32m━━━━━━━━━━━━━━━━━━━━\u001b[0m\u001b[37m\u001b[0m \u001b[1m1s\u001b[0m 41ms/step - adhd_output_accuracy: 1.0000 - adhd_output_loss: 0.0025 - loss: 0.0038 - sex_output_accuracy: 1.0000 - sex_output_loss: 0.0012 - val_adhd_output_accuracy: 0.6412 - val_adhd_output_loss: 0.8615 - val_loss: 1.5811 - val_sex_output_accuracy: 0.6647 - val_sex_output_loss: 0.8308\n",
            "Epoch 46/50\n",
            "\u001b[1m22/22\u001b[0m \u001b[32m━━━━━━━━━━━━━━━━━━━━\u001b[0m\u001b[37m\u001b[0m \u001b[1m1s\u001b[0m 38ms/step - adhd_output_accuracy: 1.0000 - adhd_output_loss: 0.0013 - loss: 0.0024 - sex_output_accuracy: 1.0000 - sex_output_loss: 0.0012 - val_adhd_output_accuracy: 0.6471 - val_adhd_output_loss: 0.8688 - val_loss: 1.5964 - val_sex_output_accuracy: 0.6588 - val_sex_output_loss: 0.8415\n",
            "Epoch 47/50\n",
            "\u001b[1m22/22\u001b[0m \u001b[32m━━━━━━━━━━━━━━━━━━━━\u001b[0m\u001b[37m\u001b[0m \u001b[1m1s\u001b[0m 38ms/step - adhd_output_accuracy: 1.0000 - adhd_output_loss: 9.3105e-04 - loss: 0.0020 - sex_output_accuracy: 1.0000 - sex_output_loss: 0.0011 - val_adhd_output_accuracy: 0.6471 - val_adhd_output_loss: 0.8723 - val_loss: 1.5969 - val_sex_output_accuracy: 0.6529 - val_sex_output_loss: 0.8418\n",
            "Epoch 48/50\n",
            "\u001b[1m22/22\u001b[0m \u001b[32m━━━━━━━━━━━━━━━━━━━━\u001b[0m\u001b[37m\u001b[0m \u001b[1m1s\u001b[0m 39ms/step - adhd_output_accuracy: 1.0000 - adhd_output_loss: 8.8865e-04 - loss: 0.0022 - sex_output_accuracy: 1.0000 - sex_output_loss: 0.0013 - val_adhd_output_accuracy: 0.6412 - val_adhd_output_loss: 0.8687 - val_loss: 1.5968 - val_sex_output_accuracy: 0.6588 - val_sex_output_loss: 0.8453\n",
            "Epoch 49/50\n",
            "\u001b[1m22/22\u001b[0m \u001b[32m━━━━━━━━━━━━━━━━━━━━\u001b[0m\u001b[37m\u001b[0m \u001b[1m1s\u001b[0m 39ms/step - adhd_output_accuracy: 1.0000 - adhd_output_loss: 0.0014 - loss: 0.0022 - sex_output_accuracy: 1.0000 - sex_output_loss: 0.0011 - val_adhd_output_accuracy: 0.6471 - val_adhd_output_loss: 0.8605 - val_loss: 1.5978 - val_sex_output_accuracy: 0.6647 - val_sex_output_loss: 0.8542\n",
            "Epoch 50/50\n",
            "\u001b[1m22/22\u001b[0m \u001b[32m━━━━━━━━━━━━━━━━━━━━\u001b[0m\u001b[37m\u001b[0m \u001b[1m1s\u001b[0m 39ms/step - adhd_output_accuracy: 0.9983 - adhd_output_loss: 0.0077 - loss: 0.0090 - sex_output_accuracy: 1.0000 - sex_output_loss: 0.0013 - val_adhd_output_accuracy: 0.6412 - val_adhd_output_loss: 0.8317 - val_loss: 1.5692 - val_sex_output_accuracy: 0.6588 - val_sex_output_loss: 0.8503\n"
          ]
        }
      ]
    },
    {
      "cell_type": "code",
      "source": [
        "# Evaluate the model\n",
        "result = model.evaluate(X_test, [y_test_adhd, y_test_sex])\n",
        "test_loss = result[0]\n",
        "test_adhd_loss = result[1]\n",
        "test_sex_loss = result[2]\n",
        "test_adhd_acc = result[3]\n",
        "test_sex_acc = result[4]\n",
        "\n",
        "print(f\"Test Loss: {test_loss}\")\n",
        "print(f\"Test Loss for ADHD: {test_adhd_loss}\")\n",
        "print(f\"Test Loss for Sex: {test_sex_loss}\")\n",
        "print(f\"Test Accuracy for ADHD: {test_adhd_acc}\")\n",
        "print(f\"Test Accuracy for Sex: {test_sex_acc}\")"
      ],
      "metadata": {
        "colab": {
          "base_uri": "https://localhost:8080/"
        },
        "id": "Pb3MsuEuV4O0",
        "outputId": "84c7be29-d822-4d69-9a2b-3edd4af467d1"
      },
      "execution_count": null,
      "outputs": [
        {
          "output_type": "stream",
          "name": "stdout",
          "text": [
            "\u001b[1m12/12\u001b[0m \u001b[32m━━━━━━━━━━━━━━━━━━━━\u001b[0m\u001b[37m\u001b[0m \u001b[1m0s\u001b[0m 11ms/step - adhd_output_accuracy: 0.6443 - adhd_output_loss: 0.7962 - loss: 1.5547 - sex_output_accuracy: 0.6742 - sex_output_loss: 0.7567\n",
            "Test Loss: 1.5082907676696777\n",
            "Test Loss for ADHD: 0.8078203797340393\n",
            "Test Loss for Sex: 0.6883458495140076\n",
            "Test Accuracy for ADHD: 0.6620879173278809\n",
            "Test Accuracy for Sex: 0.7060439586639404\n"
          ]
        }
      ]
    },
    {
      "cell_type": "code",
      "source": [
        "from re import A\n",
        "from sklearn.metrics import recall_score, f1_score, accuracy_score, precision_recall_curve\n",
        "\n",
        "y_pred_adhd, y_pred_sex = model.predict(X_test)\n",
        "\n",
        "def best_threshold(y_true, y_pred_prob):\n",
        "    precisions, recalls, thresholds = precision_recall_curve(y_true, y_pred_prob)\n",
        "    f1_scores = 2 * (precisions * recalls) / (precisions + recalls)\n",
        "    best_thresh = thresholds[np.argmax(f1_scores)]  # Threshold with highest F1\n",
        "    return best_thresh\n",
        "\n",
        "# Find optimal thresholds\n",
        "best_thresh_adhd = best_threshold(y_test_adhd, y_pred_adhd)\n",
        "best_thresh_sex = best_threshold(y_test_sex, y_pred_sex)\n",
        "\n",
        "print(f\"Optimal Threshold for ADHD: {best_thresh_adhd:.3f}\")\n",
        "print(f\"Optimal Threshold for Sex: {best_thresh_sex:.3f}\")\n",
        "\n",
        "# Predict on the test set\n",
        "y_pred_adhd_bin = (y_pred_adhd > 0.2).astype(int)\n",
        "y_pred_sex_bin = (y_pred_sex > 0.235).astype(int)\n",
        "\n",
        "# Compute recall\n",
        "recall_adhd = recall_score(y_test_adhd, y_pred_adhd_bin)\n",
        "recall_sex = recall_score(y_test_sex, y_pred_sex_bin)\n",
        "\n",
        "# Compute accuracy\n",
        "A_adhd = accuracy_score(y_test_adhd, y_pred_adhd_bin)\n",
        "A_sex = accuracy_score(y_test_sex, y_pred_sex_bin)\n",
        "\n",
        "# Compute f1\n",
        "f1_adhd = f1_score(y_test_adhd, y_pred_adhd_bin)\n",
        "f1_sex = f1_score(y_test_sex, y_pred_sex_bin)\n",
        "\n",
        "print(f\"Recall for ADHD: {recall_adhd}\")\n",
        "print(f\"Accuracy for ADHD: {A_adhd}\")\n",
        "print(f\"F1 for ADHD: {f1_adhd}\")\n",
        "print('\\n')\n",
        "print(f\"Recall for Sex: {recall_sex}\")\n",
        "print(f\"Accuracy for Sex: {A_sex}\")\n",
        "print(f\"F1 for Sex: {f1_sex}\")\n"
      ],
      "metadata": {
        "colab": {
          "base_uri": "https://localhost:8080/"
        },
        "id": "nxWmSYKXV6Ae",
        "outputId": "8b3c0551-fc20-4190-b1f7-b64652e521dc"
      },
      "execution_count": null,
      "outputs": [
        {
          "output_type": "stream",
          "name": "stdout",
          "text": [
            "\u001b[1m12/12\u001b[0m \u001b[32m━━━━━━━━━━━━━━━━━━━━\u001b[0m\u001b[37m\u001b[0m \u001b[1m0s\u001b[0m 13ms/step\n",
            "Optimal Threshold for ADHD: 0.121\n",
            "Optimal Threshold for Sex: 0.070\n",
            "Recall for ADHD: 0.9727626459143969\n",
            "Accuracy for ADHD: 0.7005494505494505\n",
            "F1 for ADHD: 0.8210180623973727\n",
            "\n",
            "\n",
            "Recall for Sex: 0.6209677419354839\n",
            "Accuracy for Sex: 0.6538461538461539\n",
            "F1 for Sex: 0.55\n"
          ]
        }
      ]
    },
    {
      "cell_type": "markdown",
      "source": [
        "### Model Building seperate model for ADHD\n"
      ],
      "metadata": {
        "id": "VVhJuIa1-TPP"
      }
    },
    {
      "cell_type": "code",
      "source": [
        "import tensorflow as tf\n",
        "from tensorflow.keras.models import Sequential\n",
        "from tensorflow.keras.layers import Dense\n",
        "from sklearn.model_selection import train_test_split\n",
        "from sklearn.preprocessing import StandardScaler"
      ],
      "metadata": {
        "id": "qX1g2woBATC6"
      },
      "execution_count": 41,
      "outputs": []
    },
    {
      "cell_type": "code",
      "source": [
        "from tensorflow.keras.models import Model\n",
        "from tensorflow.keras.layers import Input, Dense, Dropout, BatchNormalization, LeakyReLU\n",
        "from tensorflow.keras.optimizers import Adam\n",
        "from sklearn.preprocessing import StandardScaler\n",
        "from sklearn.model_selection import train_test_split"
      ],
      "metadata": {
        "id": "o9wNKuIV-bfJ"
      },
      "execution_count": 42,
      "outputs": []
    },
    {
      "cell_type": "code",
      "source": [
        "participant_list = X['participant_id']\n",
        "X = X.drop('participant_id', axis=1)"
      ],
      "metadata": {
        "id": "GrFG9N8GAKZC"
      },
      "execution_count": 43,
      "outputs": []
    },
    {
      "cell_type": "code",
      "source": [
        "from tensorflow.keras.callbacks import EarlyStopping\n",
        "\n",
        "early_stop = EarlyStopping(\n",
        "    monitor='val_loss',   # or 'val_pr_auc' if you track AUC-PR\n",
        "    patience=5,           # Number of epochs with no improvement before stopping\n",
        "    restore_best_weights=True  # Restore the best model weights\n",
        ")"
      ],
      "metadata": {
        "id": "vt-LIuGAOuCZ"
      },
      "execution_count": 152,
      "outputs": []
    },
    {
      "cell_type": "code",
      "source": [
        "scaler = StandardScaler()\n",
        "X_scaled = scaler.fit_transform(X)\n",
        "\n",
        "X_train_adhd, X_test_adhd, y_train_adhd, y_test_adhd = train_test_split(\n",
        "    X_scaled, y_adhd, test_size=0.3, random_state=1234)\n",
        "\n",
        "inputs = Input(shape=(X_train_adhd.shape[1],))\n",
        "\n",
        "# Shared hidden layers\n",
        "x = Dense(512)(inputs)\n",
        "x = BatchNormalization()(x)\n",
        "x = LeakyReLU()(x)\n",
        "x = Dropout(0.3)(x)\n",
        "\n",
        "x = Dense(256)(inputs)\n",
        "x = BatchNormalization()(x)\n",
        "x = LeakyReLU()(x)\n",
        "x = Dropout(0.3)(x)\n",
        "\n",
        "x = Dense(128)(inputs)\n",
        "x = BatchNormalization()(x)\n",
        "x = LeakyReLU()(x)\n",
        "x = Dropout(0.3)(x)\n",
        "\n",
        "# Output layer for ADHD\n",
        "adhd_output = Dense(1, activation='sigmoid', name='adhd_output')(x)\n",
        "\n",
        "model_adhd = Model(inputs=inputs, outputs=adhd_output)\n",
        "\n",
        "model_adhd.compile(optimizer=Adam(),\n",
        "              loss={'adhd_output': 'binary_crossentropy'},\n",
        "              metrics={'adhd_output': 'accuracy'})\n",
        "\n",
        "history_adhd = model_adhd.fit(X_train_adhd, y_train_adhd,\n",
        "                    epochs=50, batch_size=32, validation_split=0.2, verbose=1, callbacks=[early_stop])"
      ],
      "metadata": {
        "colab": {
          "base_uri": "https://localhost:8080/"
        },
        "id": "mX5D7d3E-gT8",
        "outputId": "bbcd01e0-7aa6-4ba1-b9c5-561138f2eaed"
      },
      "execution_count": 160,
      "outputs": [
        {
          "output_type": "stream",
          "name": "stdout",
          "text": [
            "Epoch 1/50\n",
            "\u001b[1m22/22\u001b[0m \u001b[32m━━━━━━━━━━━━━━━━━━━━\u001b[0m\u001b[37m\u001b[0m \u001b[1m4s\u001b[0m 79ms/step - accuracy: 0.5140 - loss: 0.9704 - val_accuracy: 0.5647 - val_loss: 1.5747\n",
            "Epoch 2/50\n",
            "\u001b[1m22/22\u001b[0m \u001b[32m━━━━━━━━━━━━━━━━━━━━\u001b[0m\u001b[37m\u001b[0m \u001b[1m1s\u001b[0m 64ms/step - accuracy: 0.9614 - loss: 0.1532 - val_accuracy: 0.5412 - val_loss: 1.0223\n",
            "Epoch 3/50\n",
            "\u001b[1m22/22\u001b[0m \u001b[32m━━━━━━━━━━━━━━━━━━━━\u001b[0m\u001b[37m\u001b[0m \u001b[1m1s\u001b[0m 60ms/step - accuracy: 0.9766 - loss: 0.0931 - val_accuracy: 0.5471 - val_loss: 0.8744\n",
            "Epoch 4/50\n",
            "\u001b[1m22/22\u001b[0m \u001b[32m━━━━━━━━━━━━━━━━━━━━\u001b[0m\u001b[37m\u001b[0m \u001b[1m3s\u001b[0m 59ms/step - accuracy: 0.9997 - loss: 0.0508 - val_accuracy: 0.5706 - val_loss: 0.8205\n",
            "Epoch 5/50\n",
            "\u001b[1m22/22\u001b[0m \u001b[32m━━━━━━━━━━━━━━━━━━━━\u001b[0m\u001b[37m\u001b[0m \u001b[1m2s\u001b[0m 73ms/step - accuracy: 0.9997 - loss: 0.0421 - val_accuracy: 0.5706 - val_loss: 0.7973\n",
            "Epoch 6/50\n",
            "\u001b[1m22/22\u001b[0m \u001b[32m━━━━━━━━━━━━━━━━━━━━\u001b[0m\u001b[37m\u001b[0m \u001b[1m3s\u001b[0m 82ms/step - accuracy: 1.0000 - loss: 0.0300 - val_accuracy: 0.5824 - val_loss: 0.7766\n",
            "Epoch 7/50\n",
            "\u001b[1m22/22\u001b[0m \u001b[32m━━━━━━━━━━━━━━━━━━━━\u001b[0m\u001b[37m\u001b[0m \u001b[1m1s\u001b[0m 64ms/step - accuracy: 1.0000 - loss: 0.0214 - val_accuracy: 0.5824 - val_loss: 0.7703\n",
            "Epoch 8/50\n",
            "\u001b[1m22/22\u001b[0m \u001b[32m━━━━━━━━━━━━━━━━━━━━\u001b[0m\u001b[37m\u001b[0m \u001b[1m2s\u001b[0m 53ms/step - accuracy: 1.0000 - loss: 0.0256 - val_accuracy: 0.5824 - val_loss: 0.7679\n",
            "Epoch 9/50\n",
            "\u001b[1m22/22\u001b[0m \u001b[32m━━━━━━━━━━━━━━━━━━━━\u001b[0m\u001b[37m\u001b[0m \u001b[1m1s\u001b[0m 56ms/step - accuracy: 1.0000 - loss: 0.0158 - val_accuracy: 0.5824 - val_loss: 0.7664\n",
            "Epoch 10/50\n",
            "\u001b[1m22/22\u001b[0m \u001b[32m━━━━━━━━━━━━━━━━━━━━\u001b[0m\u001b[37m\u001b[0m \u001b[1m1s\u001b[0m 53ms/step - accuracy: 1.0000 - loss: 0.0128 - val_accuracy: 0.6059 - val_loss: 0.7675\n",
            "Epoch 11/50\n",
            "\u001b[1m22/22\u001b[0m \u001b[32m━━━━━━━━━━━━━━━━━━━━\u001b[0m\u001b[37m\u001b[0m \u001b[1m1s\u001b[0m 55ms/step - accuracy: 1.0000 - loss: 0.0110 - val_accuracy: 0.6118 - val_loss: 0.7721\n",
            "Epoch 12/50\n",
            "\u001b[1m22/22\u001b[0m \u001b[32m━━━━━━━━━━━━━━━━━━━━\u001b[0m\u001b[37m\u001b[0m \u001b[1m1s\u001b[0m 57ms/step - accuracy: 1.0000 - loss: 0.0071 - val_accuracy: 0.6235 - val_loss: 0.7765\n",
            "Epoch 13/50\n",
            "\u001b[1m22/22\u001b[0m \u001b[32m━━━━━━━━━━━━━━━━━━━━\u001b[0m\u001b[37m\u001b[0m \u001b[1m1s\u001b[0m 53ms/step - accuracy: 0.9999 - loss: 0.0064 - val_accuracy: 0.6235 - val_loss: 0.7802\n",
            "Epoch 14/50\n",
            "\u001b[1m22/22\u001b[0m \u001b[32m━━━━━━━━━━━━━━━━━━━━\u001b[0m\u001b[37m\u001b[0m \u001b[1m2s\u001b[0m 75ms/step - accuracy: 1.0000 - loss: 0.0062 - val_accuracy: 0.6294 - val_loss: 0.7960\n"
          ]
        }
      ]
    },
    {
      "cell_type": "code",
      "source": [
        "results_adhd = model_adhd.evaluate(X_test_adhd, y_test_adhd)\n",
        "test_adhd_loss = results_adhd[0]\n",
        "test_adhd_acc = results_adhd[1]\n",
        "\n",
        "print(f\"Test Loss for ADHD: {test_adhd_loss}\")\n",
        "print(f\"Test Accuracy for ADHD: {test_adhd_acc}\")"
      ],
      "metadata": {
        "colab": {
          "base_uri": "https://localhost:8080/"
        },
        "id": "22dx2vpnAblO",
        "outputId": "d821cb94-473a-45d6-9380-20086a2128de"
      },
      "execution_count": 161,
      "outputs": [
        {
          "output_type": "stream",
          "name": "stdout",
          "text": [
            "\u001b[1m12/12\u001b[0m \u001b[32m━━━━━━━━━━━━━━━━━━━━\u001b[0m\u001b[37m\u001b[0m \u001b[1m0s\u001b[0m 16ms/step - accuracy: 0.6465 - loss: 0.6962\n",
            "Test Loss for ADHD: 0.6887765526771545\n",
            "Test Accuracy for ADHD: 0.6703296899795532\n"
          ]
        }
      ]
    },
    {
      "cell_type": "code",
      "source": [
        "from re import A\n",
        "from sklearn.metrics import recall_score, f1_score, accuracy_score, precision_recall_curve\n",
        "\n",
        "y_pred_adhd = model_adhd.predict(X_test_adhd)\n",
        "\n",
        "def best_threshold(y_true, y_pred_prob):\n",
        "    precisions, recalls, thresholds = precision_recall_curve(y_true, y_pred_prob)\n",
        "    f1_scores = 2 * (precisions * recalls) / (precisions + recalls)\n",
        "    best_thresh = thresholds[np.argmax(f1_scores)]  # Threshold with highest F1\n",
        "    return best_thresh\n",
        "\n",
        "# Find optimal thresholds\n",
        "best_thresh_adhd = best_threshold(y_test_adhd, y_pred_adhd)\n",
        "\n",
        "print(f\"Optimal Threshold for ADHD: {best_thresh_adhd:.3f}\")\n",
        "\n",
        "# Predict on the test set\n",
        "y_pred_adhd_bin = (y_pred_adhd > 0.044).astype(int)\n",
        "\n",
        "# Compute recall\n",
        "recall_adhd = recall_score(y_test_adhd, y_pred_adhd_bin)\n",
        "\n",
        "# Compute accuracy\n",
        "A_adhd = accuracy_score(y_test_adhd, y_pred_adhd_bin)\n",
        "\n",
        "# Compute f1\n",
        "f1_adhd = f1_score(y_test_adhd, y_pred_adhd_bin)\n",
        "\n",
        "print(f\"Recall for ADHD: {recall_adhd}\")\n",
        "print(f\"Accuracy for ADHD: {A_adhd}\")\n",
        "print(f\"F1 for ADHD: {f1_adhd}\")"
      ],
      "metadata": {
        "colab": {
          "base_uri": "https://localhost:8080/"
        },
        "id": "AeYYOhS-Avdv",
        "outputId": "0a5ef574-1bae-47b6-dea0-caa0648a79d1"
      },
      "execution_count": 163,
      "outputs": [
        {
          "output_type": "stream",
          "name": "stdout",
          "text": [
            "\u001b[1m12/12\u001b[0m \u001b[32m━━━━━━━━━━━━━━━━━━━━\u001b[0m\u001b[37m\u001b[0m \u001b[1m0s\u001b[0m 14ms/step\n",
            "Optimal Threshold for ADHD: 0.044\n",
            "Recall for ADHD: 1.0\n",
            "Accuracy for ADHD: 0.7060439560439561\n",
            "F1 for ADHD: 0.8276972624798712\n"
          ]
        }
      ]
    },
    {
      "cell_type": "markdown",
      "source": [
        "### neural network model for sex"
      ],
      "metadata": {
        "id": "ulaPV3kMBYg-"
      }
    },
    {
      "cell_type": "code",
      "source": [
        "from sklearn.utils import class_weight\n",
        "\n",
        "X_train_sex, X_test_sex, y_train_sex, y_test_sex = train_test_split(\n",
        "    X_scaled, y_sex, test_size=0.3, random_state=1234)\n",
        "\n",
        "class_weights = class_weight.compute_class_weight(\n",
        "    class_weight='balanced',\n",
        "    classes=np.unique(y_train_sex),\n",
        "    y=y_train_sex\n",
        ")\n",
        "\n",
        "class_weights = dict(enumerate(class_weights))\n",
        "print(class_weights)"
      ],
      "metadata": {
        "colab": {
          "base_uri": "https://localhost:8080/"
        },
        "id": "MtYSzyeFDeEm",
        "outputId": "dd2a0192-2444-4566-9249-3fe352820d10"
      },
      "execution_count": 134,
      "outputs": [
        {
          "output_type": "stream",
          "name": "stdout",
          "text": [
            "{0: np.float64(0.7621184919210053), 1: np.float64(1.4537671232876712)}\n"
          ]
        }
      ]
    },
    {
      "cell_type": "code",
      "source": [
        "# focal loss implemented to handle hard-to-classify data\n",
        "import tensorflow.keras.backend as K\n",
        "\n",
        "def focal_loss(gamma=2., alpha=.25):\n",
        "    def focal_loss_fixed(y_true, y_pred):\n",
        "        bce = K.binary_crossentropy(y_true, y_pred)\n",
        "        bce_exp = K.exp(-bce)\n",
        "        return K.mean(alpha * (1 - bce_exp) ** gamma * bce)\n",
        "    return focal_loss_fixed"
      ],
      "metadata": {
        "id": "ULsro3uaFdIo"
      },
      "execution_count": 133,
      "outputs": []
    },
    {
      "cell_type": "code",
      "source": [
        "from tensorflow.keras.callbacks import EarlyStopping\n",
        "\n",
        "early_stop = EarlyStopping(\n",
        "    monitor='val_loss',   # or 'val_pr_auc' if you track AUC-PR\n",
        "    patience=5,           # Number of epochs with no improvement before stopping\n",
        "    restore_best_weights=True  # Restore the best model weights\n",
        ")"
      ],
      "metadata": {
        "id": "FLnLmoSaMccU"
      },
      "execution_count": 135,
      "outputs": []
    },
    {
      "cell_type": "code",
      "source": [
        "from tensorflow.keras.callbacks import ReduceLROnPlateau\n",
        "\n",
        "reduce_lr = ReduceLROnPlateau(\n",
        "    monitor='val_loss',\n",
        "    factor=0.5,\n",
        "    patience=3,\n",
        "    min_lr=1e-6\n",
        ")"
      ],
      "metadata": {
        "id": "40Ylx8TVNBvJ"
      },
      "execution_count": 123,
      "outputs": []
    },
    {
      "cell_type": "code",
      "source": [
        "X_train_sex, X_test_sex, y_train_sex, y_test_sex = train_test_split(\n",
        "    X_scaled, y_sex, test_size=0.3, random_state=1234)\n",
        "\n",
        "inputs_sex = Input(shape=(X_train_sex.shape[1],))\n",
        "\n",
        "# Shared hidden layers\n",
        "\n",
        "x_sex = Dense(512)(inputs_sex)\n",
        "x_sex = BatchNormalization()(x_sex)\n",
        "x_sex = LeakyReLU()(x_sex)\n",
        "x_sex = Dropout(0.3)(x_sex)\n",
        "\n",
        "x_sex = Dense(256)(inputs_sex)\n",
        "x_sex = BatchNormalization()(x_sex)\n",
        "x_sex = LeakyReLU()(x_sex)\n",
        "x_sex = Dropout(0.3)(x_sex)\n",
        "\n",
        "x_sex = Dense(128)(inputs_sex)\n",
        "x_sex = BatchNormalization()(x_sex)\n",
        "x_sex = LeakyReLU()(x_sex)\n",
        "x_sex = Dropout(0.3)(x_sex)\n",
        "\n",
        "sex_output = Dense(1, activation='sigmoid', name='sex_output')(x_sex)\n",
        "\n",
        "model_sex = Model(inputs=inputs_sex, outputs=sex_output)\n",
        "\n",
        "model_sex.compile(optimizer=Adam(),\n",
        "              loss={'sex_output': 'binary_crossentropy'},\n",
        "              metrics={'sex_output': 'accuracy'})\n",
        "\n",
        "history_sex = model_sex.fit(X_train_sex, y_train_sex,\n",
        "                    epochs=50, batch_size=32, validation_split=0.2, verbose=1, callbacks=[early_stop])"
      ],
      "metadata": {
        "colab": {
          "base_uri": "https://localhost:8080/"
        },
        "id": "UOvjqY-zBbep",
        "outputId": "c455af20-901b-4a55-cd67-0054c564da6c"
      },
      "execution_count": 136,
      "outputs": [
        {
          "output_type": "stream",
          "name": "stdout",
          "text": [
            "Epoch 1/50\n",
            "\u001b[1m22/22\u001b[0m \u001b[32m━━━━━━━━━━━━━━━━━━━━\u001b[0m\u001b[37m\u001b[0m \u001b[1m3s\u001b[0m 48ms/step - accuracy: 0.6353 - loss: 0.7842 - val_accuracy: 0.6529 - val_loss: 1.2731\n",
            "Epoch 2/50\n",
            "\u001b[1m22/22\u001b[0m \u001b[32m━━━━━━━━━━━━━━━━━━━━\u001b[0m\u001b[37m\u001b[0m \u001b[1m1s\u001b[0m 42ms/step - accuracy: 0.9259 - loss: 0.1888 - val_accuracy: 0.6529 - val_loss: 0.7840\n",
            "Epoch 3/50\n",
            "\u001b[1m22/22\u001b[0m \u001b[32m━━━━━━━━━━━━━━━━━━━━\u001b[0m\u001b[37m\u001b[0m \u001b[1m1s\u001b[0m 52ms/step - accuracy: 0.9720 - loss: 0.1090 - val_accuracy: 0.6882 - val_loss: 0.6865\n",
            "Epoch 4/50\n",
            "\u001b[1m22/22\u001b[0m \u001b[32m━━━━━━━━━━━━━━━━━━━━\u001b[0m\u001b[37m\u001b[0m \u001b[1m1s\u001b[0m 58ms/step - accuracy: 0.9915 - loss: 0.0610 - val_accuracy: 0.6882 - val_loss: 0.6580\n",
            "Epoch 5/50\n",
            "\u001b[1m22/22\u001b[0m \u001b[32m━━━━━━━━━━━━━━━━━━━━\u001b[0m\u001b[37m\u001b[0m \u001b[1m2s\u001b[0m 38ms/step - accuracy: 0.9991 - loss: 0.0270 - val_accuracy: 0.6824 - val_loss: 0.6436\n",
            "Epoch 6/50\n",
            "\u001b[1m22/22\u001b[0m \u001b[32m━━━━━━━━━━━━━━━━━━━━\u001b[0m\u001b[37m\u001b[0m \u001b[1m1s\u001b[0m 37ms/step - accuracy: 1.0000 - loss: 0.0289 - val_accuracy: 0.6824 - val_loss: 0.6353\n",
            "Epoch 7/50\n",
            "\u001b[1m22/22\u001b[0m \u001b[32m━━━━━━━━━━━━━━━━━━━━\u001b[0m\u001b[37m\u001b[0m \u001b[1m1s\u001b[0m 38ms/step - accuracy: 1.0000 - loss: 0.0223 - val_accuracy: 0.6882 - val_loss: 0.6364\n",
            "Epoch 8/50\n",
            "\u001b[1m22/22\u001b[0m \u001b[32m━━━━━━━━━━━━━━━━━━━━\u001b[0m\u001b[37m\u001b[0m \u001b[1m1s\u001b[0m 38ms/step - accuracy: 1.0000 - loss: 0.0167 - val_accuracy: 0.7000 - val_loss: 0.6371\n",
            "Epoch 9/50\n",
            "\u001b[1m22/22\u001b[0m \u001b[32m━━━━━━━━━━━━━━━━━━━━\u001b[0m\u001b[37m\u001b[0m \u001b[1m1s\u001b[0m 38ms/step - accuracy: 1.0000 - loss: 0.0113 - val_accuracy: 0.6882 - val_loss: 0.6412\n",
            "Epoch 10/50\n",
            "\u001b[1m22/22\u001b[0m \u001b[32m━━━━━━━━━━━━━━━━━━━━\u001b[0m\u001b[37m\u001b[0m \u001b[1m1s\u001b[0m 37ms/step - accuracy: 1.0000 - loss: 0.0093 - val_accuracy: 0.6882 - val_loss: 0.6450\n",
            "Epoch 11/50\n",
            "\u001b[1m22/22\u001b[0m \u001b[32m━━━━━━━━━━━━━━━━━━━━\u001b[0m\u001b[37m\u001b[0m \u001b[1m1s\u001b[0m 37ms/step - accuracy: 1.0000 - loss: 0.0095 - val_accuracy: 0.6882 - val_loss: 0.6456\n"
          ]
        }
      ]
    },
    {
      "cell_type": "code",
      "source": [
        "results_sex = model_adhd.evaluate(X_test_sex, y_test_sex)\n",
        "test_sex_loss = results_sex[0]\n",
        "test_sex_acc = results_sex[1]\n",
        "\n",
        "print(f\"Test Loss for ADHD: {test_sex_loss}\")\n",
        "print(f\"Test Accuracy for ADHD: {test_sex_acc}\")"
      ],
      "metadata": {
        "colab": {
          "base_uri": "https://localhost:8080/"
        },
        "id": "eBlUBKavCN2S",
        "outputId": "f0af2063-b302-46d0-f06e-9489e0ee3e2b"
      },
      "execution_count": 130,
      "outputs": [
        {
          "output_type": "stream",
          "name": "stdout",
          "text": [
            "\u001b[1m12/12\u001b[0m \u001b[32m━━━━━━━━━━━━━━━━━━━━\u001b[0m\u001b[37m\u001b[0m \u001b[1m0s\u001b[0m 9ms/step - accuracy: 0.3643 - loss: 1.8243\n",
            "Test Loss for ADHD: 1.8552056550979614\n",
            "Test Accuracy for ADHD: 0.3681318759918213\n"
          ]
        }
      ]
    },
    {
      "cell_type": "code",
      "source": [
        "from re import A\n",
        "from sklearn.metrics import recall_score, f1_score, accuracy_score, precision_recall_curve\n",
        "\n",
        "y_pred_sex = model_sex.predict(X_test_sex)\n",
        "\n",
        "def best_threshold(y_true, y_pred_prob):\n",
        "    precisions, recalls, thresholds = precision_recall_curve(y_true, y_pred_prob)\n",
        "    f1_scores = 2 * (precisions * recalls) / (precisions + recalls)\n",
        "    best_thresh = thresholds[np.argmax(f1_scores)]  # Threshold with highest F1\n",
        "    return best_thresh\n",
        "\n",
        "# Find optimal thresholds\n",
        "best_thresh_adhd = best_threshold(y_test_sex, y_pred_sex)\n",
        "\n",
        "print(f\"Optimal Threshold for sex: {best_thresh_adhd:.3f}\")"
      ],
      "metadata": {
        "colab": {
          "base_uri": "https://localhost:8080/"
        },
        "id": "KOD2QKixCVwi",
        "outputId": "634062ba-77d9-46fe-84d5-ef9682c50983"
      },
      "execution_count": 137,
      "outputs": [
        {
          "output_type": "stream",
          "name": "stdout",
          "text": [
            "\u001b[1m12/12\u001b[0m \u001b[32m━━━━━━━━━━━━━━━━━━━━\u001b[0m\u001b[37m\u001b[0m \u001b[1m0s\u001b[0m 17ms/step\n",
            "Optimal Threshold for sex: 0.246\n"
          ]
        }
      ]
    },
    {
      "cell_type": "code",
      "source": [
        "# Predict on the test set\n",
        "y_pred_sex_bin = (y_pred_sex > 0.246).astype(int)\n",
        "\n",
        "# Compute recall\n",
        "recall_sex = recall_score(y_test_sex, y_pred_sex_bin)\n",
        "\n",
        "# Compute accuracy\n",
        "A_sex = accuracy_score(y_test_sex, y_pred_sex_bin)\n",
        "\n",
        "# Compute f1\n",
        "f1_sex = f1_score(y_test_sex, y_pred_sex_bin)\n",
        "\n",
        "print(f\"Recall for ADHD: {recall_sex}\")\n",
        "print(f\"Accuracy for ADHD: {A_sex}\")\n",
        "print(f\"F1 for ADHD: {f1_sex}\")"
      ],
      "metadata": {
        "colab": {
          "base_uri": "https://localhost:8080/"
        },
        "id": "5mv_OJYAEb4G",
        "outputId": "76afd7e3-0be0-4873-de8a-d812240b8fc2"
      },
      "execution_count": 138,
      "outputs": [
        {
          "output_type": "stream",
          "name": "stdout",
          "text": [
            "Recall for ADHD: 0.782258064516129\n",
            "Accuracy for ADHD: 0.6043956043956044\n",
            "F1 for ADHD: 0.5739644970414202\n"
          ]
        }
      ]
    },
    {
      "cell_type": "markdown",
      "source": [
        "### Test Dataset Import"
      ],
      "metadata": {
        "id": "uPYO0Uf0nD_-"
      }
    },
    {
      "cell_type": "code",
      "source": [
        "df_categorical_test = pd.read_excel('/content/drive/MyDrive/WiDS/TEST_CATEGORICAL.xlsx')\n",
        "df_functional_test = pd.read_csv('/content/drive/MyDrive/WiDS/TEST_FUNCTIONAL_CONNECTOME_MATRICES.csv')\n",
        "df_quantitative_test = pd.read_excel('/content/drive/MyDrive/WiDS/TEST_QUANTITATIVE_METADATA.xlsx')"
      ],
      "metadata": {
        "id": "gRwt0nClbHFG"
      },
      "execution_count": 164,
      "outputs": []
    },
    {
      "cell_type": "markdown",
      "source": [
        "### Test Dataset Feature Engineering"
      ],
      "metadata": {
        "id": "Uc_BNj1RbLIX"
      }
    },
    {
      "cell_type": "code",
      "source": [
        "df_categorical.columns"
      ],
      "metadata": {
        "colab": {
          "base_uri": "https://localhost:8080/"
        },
        "id": "Xq0K_VuCcUSH",
        "outputId": "c5caa204-82c6-4ccb-d6b8-e731975adc3e"
      },
      "execution_count": 140,
      "outputs": [
        {
          "output_type": "execute_result",
          "data": {
            "text/plain": [
              "Index(['participant_id', 'PreInt_Demos_Fam_Child_Ethnicity',\n",
              "       'PreInt_Demos_Fam_Child_Race'],\n",
              "      dtype='object')"
            ]
          },
          "metadata": {},
          "execution_count": 140
        }
      ]
    },
    {
      "cell_type": "code",
      "source": [
        "#df_categorical check\n",
        "df_categorical_test.isna().sum()"
      ],
      "metadata": {
        "colab": {
          "base_uri": "https://localhost:8080/",
          "height": 398
        },
        "id": "NFdDnbUXbPMe",
        "outputId": "a492d8d3-9c4f-4e2f-cb67-8dcf5e669048"
      },
      "execution_count": 141,
      "outputs": [
        {
          "output_type": "execute_result",
          "data": {
            "text/plain": [
              "participant_id                       0\n",
              "Basic_Demos_Enroll_Year              0\n",
              "Basic_Demos_Study_Site               0\n",
              "PreInt_Demos_Fam_Child_Ethnicity     3\n",
              "PreInt_Demos_Fam_Child_Race          6\n",
              "MRI_Track_Scan_Location              0\n",
              "Barratt_Barratt_P1_Edu               1\n",
              "Barratt_Barratt_P1_Occ               1\n",
              "Barratt_Barratt_P2_Edu              36\n",
              "Barratt_Barratt_P2_Occ              42\n",
              "dtype: int64"
            ],
            "text/html": [
              "<div>\n",
              "<style scoped>\n",
              "    .dataframe tbody tr th:only-of-type {\n",
              "        vertical-align: middle;\n",
              "    }\n",
              "\n",
              "    .dataframe tbody tr th {\n",
              "        vertical-align: top;\n",
              "    }\n",
              "\n",
              "    .dataframe thead th {\n",
              "        text-align: right;\n",
              "    }\n",
              "</style>\n",
              "<table border=\"1\" class=\"dataframe\">\n",
              "  <thead>\n",
              "    <tr style=\"text-align: right;\">\n",
              "      <th></th>\n",
              "      <th>0</th>\n",
              "    </tr>\n",
              "  </thead>\n",
              "  <tbody>\n",
              "    <tr>\n",
              "      <th>participant_id</th>\n",
              "      <td>0</td>\n",
              "    </tr>\n",
              "    <tr>\n",
              "      <th>Basic_Demos_Enroll_Year</th>\n",
              "      <td>0</td>\n",
              "    </tr>\n",
              "    <tr>\n",
              "      <th>Basic_Demos_Study_Site</th>\n",
              "      <td>0</td>\n",
              "    </tr>\n",
              "    <tr>\n",
              "      <th>PreInt_Demos_Fam_Child_Ethnicity</th>\n",
              "      <td>3</td>\n",
              "    </tr>\n",
              "    <tr>\n",
              "      <th>PreInt_Demos_Fam_Child_Race</th>\n",
              "      <td>6</td>\n",
              "    </tr>\n",
              "    <tr>\n",
              "      <th>MRI_Track_Scan_Location</th>\n",
              "      <td>0</td>\n",
              "    </tr>\n",
              "    <tr>\n",
              "      <th>Barratt_Barratt_P1_Edu</th>\n",
              "      <td>1</td>\n",
              "    </tr>\n",
              "    <tr>\n",
              "      <th>Barratt_Barratt_P1_Occ</th>\n",
              "      <td>1</td>\n",
              "    </tr>\n",
              "    <tr>\n",
              "      <th>Barratt_Barratt_P2_Edu</th>\n",
              "      <td>36</td>\n",
              "    </tr>\n",
              "    <tr>\n",
              "      <th>Barratt_Barratt_P2_Occ</th>\n",
              "      <td>42</td>\n",
              "    </tr>\n",
              "  </tbody>\n",
              "</table>\n",
              "</div><br><label><b>dtype:</b> int64</label>"
            ]
          },
          "metadata": {},
          "execution_count": 141
        }
      ]
    },
    {
      "cell_type": "code",
      "source": [
        "df_categorical_test = df_categorical_test[df_categorical.columns]\n",
        "print(df_categorical_test.columns)\n",
        "df_categorical_test.isna().sum()"
      ],
      "metadata": {
        "colab": {
          "base_uri": "https://localhost:8080/",
          "height": 230
        },
        "id": "_djRiMUHcd76",
        "outputId": "f1ba87b3-a368-4c89-9c42-0cfc83146011"
      },
      "execution_count": null,
      "outputs": [
        {
          "output_type": "stream",
          "name": "stdout",
          "text": [
            "Index(['participant_id', 'PreInt_Demos_Fam_Child_Ethnicity',\n",
            "       'PreInt_Demos_Fam_Child_Race'],\n",
            "      dtype='object')\n"
          ]
        },
        {
          "output_type": "execute_result",
          "data": {
            "text/plain": [
              "participant_id                      0\n",
              "PreInt_Demos_Fam_Child_Ethnicity    3\n",
              "PreInt_Demos_Fam_Child_Race         6\n",
              "dtype: int64"
            ],
            "text/html": [
              "<div>\n",
              "<style scoped>\n",
              "    .dataframe tbody tr th:only-of-type {\n",
              "        vertical-align: middle;\n",
              "    }\n",
              "\n",
              "    .dataframe tbody tr th {\n",
              "        vertical-align: top;\n",
              "    }\n",
              "\n",
              "    .dataframe thead th {\n",
              "        text-align: right;\n",
              "    }\n",
              "</style>\n",
              "<table border=\"1\" class=\"dataframe\">\n",
              "  <thead>\n",
              "    <tr style=\"text-align: right;\">\n",
              "      <th></th>\n",
              "      <th>0</th>\n",
              "    </tr>\n",
              "  </thead>\n",
              "  <tbody>\n",
              "    <tr>\n",
              "      <th>participant_id</th>\n",
              "      <td>0</td>\n",
              "    </tr>\n",
              "    <tr>\n",
              "      <th>PreInt_Demos_Fam_Child_Ethnicity</th>\n",
              "      <td>3</td>\n",
              "    </tr>\n",
              "    <tr>\n",
              "      <th>PreInt_Demos_Fam_Child_Race</th>\n",
              "      <td>6</td>\n",
              "    </tr>\n",
              "  </tbody>\n",
              "</table>\n",
              "</div><br><label><b>dtype:</b> int64</label>"
            ]
          },
          "metadata": {},
          "execution_count": 57
        }
      ]
    },
    {
      "cell_type": "code",
      "source": [
        "#handle the ethnicity the same way as training model\n",
        "df_categorical_test['PreInt_Demos_Fam_Child_Ethnicity'].replace(2, 3, inplace=True)\n",
        "df_categorical_test['PreInt_Demos_Fam_Child_Ethnicity'].fillna(3, inplace=True)"
      ],
      "metadata": {
        "id": "xFEZT_jVdG15"
      },
      "execution_count": null,
      "outputs": []
    },
    {
      "cell_type": "code",
      "source": [
        "print(df_categorical_test['PreInt_Demos_Fam_Child_Race'].unique())\n",
        "print(df_categorical_test['PreInt_Demos_Fam_Child_Race'].value_counts())"
      ],
      "metadata": {
        "colab": {
          "base_uri": "https://localhost:8080/"
        },
        "id": "5lk1Q2D9dU2C",
        "outputId": "240f9691-75ba-4075-9851-17c636ca6763"
      },
      "execution_count": null,
      "outputs": [
        {
          "output_type": "stream",
          "name": "stdout",
          "text": [
            "[ 0.  1.  2.  8.  3. 11.  4.  9.  7.]\n",
            "PreInt_Demos_Fam_Child_Race\n",
            "0.0     174\n",
            "8.0      55\n",
            "1.0      28\n",
            "2.0      23\n",
            "3.0      12\n",
            "11.0      7\n",
            "9.0       3\n",
            "4.0       1\n",
            "7.0       1\n",
            "Name: count, dtype: int64\n"
          ]
        }
      ]
    },
    {
      "cell_type": "code",
      "source": [
        "non_na_race = df_categorical_test['PreInt_Demos_Fam_Child_Race'].dropna()\n",
        "\n",
        "plt.hist(non_na_race, bins=20, edgecolor='black')\n",
        "plt.xlabel('race')\n",
        "plt.ylabel('Frequency')\n",
        "plt.title('Distribution of race')\n",
        "plt.show()"
      ],
      "metadata": {
        "colab": {
          "base_uri": "https://localhost:8080/",
          "height": 472
        },
        "id": "IU1g3PWrdZ9Q",
        "outputId": "10ae0ec5-8593-4285-bb33-3547853843bf"
      },
      "execution_count": null,
      "outputs": [
        {
          "output_type": "display_data",
          "data": {
            "text/plain": [
              "<Figure size 640x480 with 1 Axes>"
            ],
            "image/png": "[encoded data removed]"
          },
          "metadata": {}
        }
      ]
    },
    {
      "cell_type": "code",
      "source": [
        "print(\"median of race: \", non_na_race.median())\n",
        "print(\"mean of race: \", non_na_race.mean())"
      ],
      "metadata": {
        "colab": {
          "base_uri": "https://localhost:8080/"
        },
        "id": "3FsENr7CezV-",
        "outputId": "2c3a6336-0eaf-4cea-f3e4-018af5a2e022"
      },
      "execution_count": null,
      "outputs": [
        {
          "output_type": "stream",
          "name": "stdout",
          "text": [
            "median of race:  0.0\n",
            "mean of race:  2.1875\n"
          ]
        }
      ]
    },
    {
      "cell_type": "code",
      "source": [
        "df_categorical_test['PreInt_Demos_Fam_Child_Race'].fillna(0, inplace=True)"
      ],
      "metadata": {
        "id": "rZPtVFEse6q9"
      },
      "execution_count": null,
      "outputs": []
    },
    {
      "cell_type": "code",
      "source": [
        "df_categorical_test.isna().sum()"
      ],
      "metadata": {
        "colab": {
          "base_uri": "https://localhost:8080/",
          "height": 178
        },
        "id": "5NWnEi8LfAM6",
        "outputId": "16a12bdf-8a4c-4d2a-8bb5-09486b74fa73"
      },
      "execution_count": null,
      "outputs": [
        {
          "output_type": "execute_result",
          "data": {
            "text/plain": [
              "participant_id                      0\n",
              "PreInt_Demos_Fam_Child_Ethnicity    0\n",
              "PreInt_Demos_Fam_Child_Race         0\n",
              "dtype: int64"
            ],
            "text/html": [
              "<div>\n",
              "<style scoped>\n",
              "    .dataframe tbody tr th:only-of-type {\n",
              "        vertical-align: middle;\n",
              "    }\n",
              "\n",
              "    .dataframe tbody tr th {\n",
              "        vertical-align: top;\n",
              "    }\n",
              "\n",
              "    .dataframe thead th {\n",
              "        text-align: right;\n",
              "    }\n",
              "</style>\n",
              "<table border=\"1\" class=\"dataframe\">\n",
              "  <thead>\n",
              "    <tr style=\"text-align: right;\">\n",
              "      <th></th>\n",
              "      <th>0</th>\n",
              "    </tr>\n",
              "  </thead>\n",
              "  <tbody>\n",
              "    <tr>\n",
              "      <th>participant_id</th>\n",
              "      <td>0</td>\n",
              "    </tr>\n",
              "    <tr>\n",
              "      <th>PreInt_Demos_Fam_Child_Ethnicity</th>\n",
              "      <td>0</td>\n",
              "    </tr>\n",
              "    <tr>\n",
              "      <th>PreInt_Demos_Fam_Child_Race</th>\n",
              "      <td>0</td>\n",
              "    </tr>\n",
              "  </tbody>\n",
              "</table>\n",
              "</div><br><label><b>dtype:</b> int64</label>"
            ]
          },
          "metadata": {},
          "execution_count": 76
        }
      ]
    },
    {
      "cell_type": "code",
      "source": [
        "#fixing quantitative null\n",
        "df_quantitative_test.isna().sum()"
      ],
      "metadata": {
        "colab": {
          "base_uri": "https://localhost:8080/",
          "height": 680
        },
        "id": "sV9Q4yFzcGwt",
        "outputId": "1aeb0fdf-60bc-453d-a07d-16f38bd9df55"
      },
      "execution_count": null,
      "outputs": [
        {
          "output_type": "execute_result",
          "data": {
            "text/plain": [
              "participant_id                 0\n",
              "EHQ_EHQ_Total                  1\n",
              "ColorVision_CV_Score           9\n",
              "APQ_P_APQ_P_CP                15\n",
              "APQ_P_APQ_P_ID                15\n",
              "APQ_P_APQ_P_INV               15\n",
              "APQ_P_APQ_P_OPD               15\n",
              "APQ_P_APQ_P_PM                15\n",
              "APQ_P_APQ_P_PP                15\n",
              "SDQ_SDQ_Conduct_Problems      30\n",
              "SDQ_SDQ_Difficulties_Total    30\n",
              "SDQ_SDQ_Emotional_Problems    30\n",
              "SDQ_SDQ_Externalizing         30\n",
              "SDQ_SDQ_Generating_Impact     30\n",
              "SDQ_SDQ_Hyperactivity         30\n",
              "SDQ_SDQ_Internalizing         30\n",
              "SDQ_SDQ_Peer_Problems         30\n",
              "SDQ_SDQ_Prosocial             30\n",
              "MRI_Track_Age_at_Scan          0\n",
              "dtype: int64"
            ],
            "text/html": [
              "<div>\n",
              "<style scoped>\n",
              "    .dataframe tbody tr th:only-of-type {\n",
              "        vertical-align: middle;\n",
              "    }\n",
              "\n",
              "    .dataframe tbody tr th {\n",
              "        vertical-align: top;\n",
              "    }\n",
              "\n",
              "    .dataframe thead th {\n",
              "        text-align: right;\n",
              "    }\n",
              "</style>\n",
              "<table border=\"1\" class=\"dataframe\">\n",
              "  <thead>\n",
              "    <tr style=\"text-align: right;\">\n",
              "      <th></th>\n",
              "      <th>0</th>\n",
              "    </tr>\n",
              "  </thead>\n",
              "  <tbody>\n",
              "    <tr>\n",
              "      <th>participant_id</th>\n",
              "      <td>0</td>\n",
              "    </tr>\n",
              "    <tr>\n",
              "      <th>EHQ_EHQ_Total</th>\n",
              "      <td>1</td>\n",
              "    </tr>\n",
              "    <tr>\n",
              "      <th>ColorVision_CV_Score</th>\n",
              "      <td>9</td>\n",
              "    </tr>\n",
              "    <tr>\n",
              "      <th>APQ_P_APQ_P_CP</th>\n",
              "      <td>15</td>\n",
              "    </tr>\n",
              "    <tr>\n",
              "      <th>APQ_P_APQ_P_ID</th>\n",
              "      <td>15</td>\n",
              "    </tr>\n",
              "    <tr>\n",
              "      <th>APQ_P_APQ_P_INV</th>\n",
              "      <td>15</td>\n",
              "    </tr>\n",
              "    <tr>\n",
              "      <th>APQ_P_APQ_P_OPD</th>\n",
              "      <td>15</td>\n",
              "    </tr>\n",
              "    <tr>\n",
              "      <th>APQ_P_APQ_P_PM</th>\n",
              "      <td>15</td>\n",
              "    </tr>\n",
              "    <tr>\n",
              "      <th>APQ_P_APQ_P_PP</th>\n",
              "      <td>15</td>\n",
              "    </tr>\n",
              "    <tr>\n",
              "      <th>SDQ_SDQ_Conduct_Problems</th>\n",
              "      <td>30</td>\n",
              "    </tr>\n",
              "    <tr>\n",
              "      <th>SDQ_SDQ_Difficulties_Total</th>\n",
              "      <td>30</td>\n",
              "    </tr>\n",
              "    <tr>\n",
              "      <th>SDQ_SDQ_Emotional_Problems</th>\n",
              "      <td>30</td>\n",
              "    </tr>\n",
              "    <tr>\n",
              "      <th>SDQ_SDQ_Externalizing</th>\n",
              "      <td>30</td>\n",
              "    </tr>\n",
              "    <tr>\n",
              "      <th>SDQ_SDQ_Generating_Impact</th>\n",
              "      <td>30</td>\n",
              "    </tr>\n",
              "    <tr>\n",
              "      <th>SDQ_SDQ_Hyperactivity</th>\n",
              "      <td>30</td>\n",
              "    </tr>\n",
              "    <tr>\n",
              "      <th>SDQ_SDQ_Internalizing</th>\n",
              "      <td>30</td>\n",
              "    </tr>\n",
              "    <tr>\n",
              "      <th>SDQ_SDQ_Peer_Problems</th>\n",
              "      <td>30</td>\n",
              "    </tr>\n",
              "    <tr>\n",
              "      <th>SDQ_SDQ_Prosocial</th>\n",
              "      <td>30</td>\n",
              "    </tr>\n",
              "    <tr>\n",
              "      <th>MRI_Track_Age_at_Scan</th>\n",
              "      <td>0</td>\n",
              "    </tr>\n",
              "  </tbody>\n",
              "</table>\n",
              "</div><br><label><b>dtype:</b> int64</label>"
            ]
          },
          "metadata": {},
          "execution_count": 53
        }
      ]
    },
    {
      "cell_type": "code",
      "source": [
        "print(df_quantitative_test['EHQ_EHQ_Total'].value_counts())\n",
        "print(df_quantitative_test['EHQ_EHQ_Total'].unique())\n",
        "non_na_EHQ = df_quantitative_test['EHQ_EHQ_Total'].dropna()\n",
        "plt.hist(non_na_EHQ, bins=20, edgecolor='black')\n",
        "plt.xlabel('EHQ_EHQ_Total')\n",
        "plt.ylabel('Frequency')\n",
        "plt.title('Distribution of EHQ_EHQ_Total')\n",
        "plt.show()"
      ],
      "metadata": {
        "colab": {
          "base_uri": "https://localhost:8080/",
          "height": 871
        },
        "id": "Nlr48-Z6fWi6",
        "outputId": "591b6d31-cc50-45bc-8bfc-ff7bae246fc1"
      },
      "execution_count": null,
      "outputs": [
        {
          "output_type": "stream",
          "name": "stdout",
          "text": [
            "EHQ_EHQ_Total\n",
            " 100.05    49\n",
            " 93.38     27\n",
            " 66.70     18\n",
            " 86.71     16\n",
            " 73.37     15\n",
            "           ..\n",
            " 14.47      1\n",
            " 76.77      1\n",
            " 13.34      1\n",
            " 23.34      1\n",
            "-26.68      1\n",
            "Name: count, Length: 87, dtype: int64\n",
            "[  60.03   86.71   26.68   93.38  -93.38   95.65   46.69  100.05  -66.7\n",
            "   67.83   62.3    96.72   48.96   73.37   72.3     0.     33.35   92.31\n",
            "   83.44   46.76  -68.97 -100.05   58.96   56.7    70.03   84.51   91.18\n",
            "  -75.64   63.37   66.7    90.05   53.36    4.47   88.98   51.16  -43.35\n",
            "   80.04  -13.34   54.49  -52.29   64.5    76.7    38.95   20.01   71.17\n",
            "   77.84  -83.38  -73.37   78.97   47.82   82.24   40.02   12.21   -6.67\n",
            "   75.64   61.23  -53.36   14.47   76.77   13.34   23.34  -16.68    6.67\n",
            "   83.38  -65.63     nan  -80.04  -70.03   94.51   80.11   74.5    56.76\n",
            "  -20.01   82.31  -82.31  -60.03  -71.17   61.16   41.15   43.35   55.69\n",
            "  -97.85    1.13   37.82   57.83  -24.48   87.84  -26.68]\n"
          ]
        },
        {
          "output_type": "display_data",
          "data": {
            "text/plain": [
              "<Figure size 640x480 with 1 Axes>"
            ],
            "image/png": "[encoded data removed]"
          },
          "metadata": {}
        }
      ]
    },
    {
      "cell_type": "code",
      "source": [
        "df_quantitative_test['EHQ_EHQ_Total'].fillna(non_na_EHQ.median(), inplace=True)"
      ],
      "metadata": {
        "id": "2nxVmFTMhEIz"
      },
      "execution_count": null,
      "outputs": []
    },
    {
      "cell_type": "code",
      "source": [
        "df_quantitative_test['ColorVision_CV_Score'].value_counts()\n"
      ],
      "metadata": {
        "colab": {
          "base_uri": "https://localhost:8080/",
          "height": 460
        },
        "id": "KPlEbQ-4hMc_",
        "outputId": "5f1b541b-c09b-4f18-be36-f0ffc0845588"
      },
      "execution_count": null,
      "outputs": [
        {
          "output_type": "execute_result",
          "data": {
            "text/plain": [
              "ColorVision_CV_Score\n",
              "14.0    194\n",
              "13.0     62\n",
              "12.0     27\n",
              "1.0       3\n",
              "11.0      2\n",
              "9.0       2\n",
              "2.0       1\n",
              "5.0       1\n",
              "4.0       1\n",
              "0.0       1\n",
              "6.0       1\n",
              "Name: count, dtype: int64"
            ],
            "text/html": [
              "<div>\n",
              "<style scoped>\n",
              "    .dataframe tbody tr th:only-of-type {\n",
              "        vertical-align: middle;\n",
              "    }\n",
              "\n",
              "    .dataframe tbody tr th {\n",
              "        vertical-align: top;\n",
              "    }\n",
              "\n",
              "    .dataframe thead th {\n",
              "        text-align: right;\n",
              "    }\n",
              "</style>\n",
              "<table border=\"1\" class=\"dataframe\">\n",
              "  <thead>\n",
              "    <tr style=\"text-align: right;\">\n",
              "      <th></th>\n",
              "      <th>count</th>\n",
              "    </tr>\n",
              "    <tr>\n",
              "      <th>ColorVision_CV_Score</th>\n",
              "      <th></th>\n",
              "    </tr>\n",
              "  </thead>\n",
              "  <tbody>\n",
              "    <tr>\n",
              "      <th>14.0</th>\n",
              "      <td>194</td>\n",
              "    </tr>\n",
              "    <tr>\n",
              "      <th>13.0</th>\n",
              "      <td>62</td>\n",
              "    </tr>\n",
              "    <tr>\n",
              "      <th>12.0</th>\n",
              "      <td>27</td>\n",
              "    </tr>\n",
              "    <tr>\n",
              "      <th>1.0</th>\n",
              "      <td>3</td>\n",
              "    </tr>\n",
              "    <tr>\n",
              "      <th>11.0</th>\n",
              "      <td>2</td>\n",
              "    </tr>\n",
              "    <tr>\n",
              "      <th>9.0</th>\n",
              "      <td>2</td>\n",
              "    </tr>\n",
              "    <tr>\n",
              "      <th>2.0</th>\n",
              "      <td>1</td>\n",
              "    </tr>\n",
              "    <tr>\n",
              "      <th>5.0</th>\n",
              "      <td>1</td>\n",
              "    </tr>\n",
              "    <tr>\n",
              "      <th>4.0</th>\n",
              "      <td>1</td>\n",
              "    </tr>\n",
              "    <tr>\n",
              "      <th>0.0</th>\n",
              "      <td>1</td>\n",
              "    </tr>\n",
              "    <tr>\n",
              "      <th>6.0</th>\n",
              "      <td>1</td>\n",
              "    </tr>\n",
              "  </tbody>\n",
              "</table>\n",
              "</div><br><label><b>dtype:</b> int64</label>"
            ]
          },
          "metadata": {},
          "execution_count": 82
        }
      ]
    },
    {
      "cell_type": "code",
      "source": [
        "plt.hist(df_quantitative_test['ColorVision_CV_Score'].dropna(), bins=20, edgecolor='black')\n",
        "plt.xlabel('ColorVision_CV_Score')\n",
        "plt.ylabel('Frequency')\n",
        "plt.title('Distribution of ColorVision_CV_Score')\n",
        "plt.show()"
      ],
      "metadata": {
        "colab": {
          "base_uri": "https://localhost:8080/",
          "height": 472
        },
        "id": "hg-_1tkYhelg",
        "outputId": "842f4aa5-55c4-48e9-8f52-2a5016e267b8"
      },
      "execution_count": null,
      "outputs": [
        {
          "output_type": "display_data",
          "data": {
            "text/plain": [
              "<Figure size 640x480 with 1 Axes>"
            ],
            "image/png": "[encoded data removed]"
          },
          "metadata": {}
        }
      ]
    },
    {
      "cell_type": "code",
      "source": [
        "df_quantitative_test['ColorVision_CV_Score'].fillna(df_quantitative_test['ColorVision_CV_Score'].median(), inplace=True)"
      ],
      "metadata": {
        "id": "LywTxs37hkfI"
      },
      "execution_count": null,
      "outputs": []
    },
    {
      "cell_type": "code",
      "source": [
        "df_quantitative_test.isna().sum()"
      ],
      "metadata": {
        "colab": {
          "base_uri": "https://localhost:8080/",
          "height": 680
        },
        "id": "J0ESf0NOiALp",
        "outputId": "1d143b1a-a48f-41bd-a293-0bfb7c2536c8"
      },
      "execution_count": null,
      "outputs": [
        {
          "output_type": "execute_result",
          "data": {
            "text/plain": [
              "participant_id                 0\n",
              "EHQ_EHQ_Total                  0\n",
              "ColorVision_CV_Score           0\n",
              "APQ_P_APQ_P_CP                15\n",
              "APQ_P_APQ_P_ID                15\n",
              "APQ_P_APQ_P_INV               15\n",
              "APQ_P_APQ_P_OPD               15\n",
              "APQ_P_APQ_P_PM                15\n",
              "APQ_P_APQ_P_PP                15\n",
              "SDQ_SDQ_Conduct_Problems      30\n",
              "SDQ_SDQ_Difficulties_Total    30\n",
              "SDQ_SDQ_Emotional_Problems    30\n",
              "SDQ_SDQ_Externalizing         30\n",
              "SDQ_SDQ_Generating_Impact     30\n",
              "SDQ_SDQ_Hyperactivity         30\n",
              "SDQ_SDQ_Internalizing         30\n",
              "SDQ_SDQ_Peer_Problems         30\n",
              "SDQ_SDQ_Prosocial             30\n",
              "MRI_Track_Age_at_Scan          0\n",
              "dtype: int64"
            ],
            "text/html": [
              "<div>\n",
              "<style scoped>\n",
              "    .dataframe tbody tr th:only-of-type {\n",
              "        vertical-align: middle;\n",
              "    }\n",
              "\n",
              "    .dataframe tbody tr th {\n",
              "        vertical-align: top;\n",
              "    }\n",
              "\n",
              "    .dataframe thead th {\n",
              "        text-align: right;\n",
              "    }\n",
              "</style>\n",
              "<table border=\"1\" class=\"dataframe\">\n",
              "  <thead>\n",
              "    <tr style=\"text-align: right;\">\n",
              "      <th></th>\n",
              "      <th>0</th>\n",
              "    </tr>\n",
              "  </thead>\n",
              "  <tbody>\n",
              "    <tr>\n",
              "      <th>participant_id</th>\n",
              "      <td>0</td>\n",
              "    </tr>\n",
              "    <tr>\n",
              "      <th>EHQ_EHQ_Total</th>\n",
              "      <td>0</td>\n",
              "    </tr>\n",
              "    <tr>\n",
              "      <th>ColorVision_CV_Score</th>\n",
              "      <td>0</td>\n",
              "    </tr>\n",
              "    <tr>\n",
              "      <th>APQ_P_APQ_P_CP</th>\n",
              "      <td>15</td>\n",
              "    </tr>\n",
              "    <tr>\n",
              "      <th>APQ_P_APQ_P_ID</th>\n",
              "      <td>15</td>\n",
              "    </tr>\n",
              "    <tr>\n",
              "      <th>APQ_P_APQ_P_INV</th>\n",
              "      <td>15</td>\n",
              "    </tr>\n",
              "    <tr>\n",
              "      <th>APQ_P_APQ_P_OPD</th>\n",
              "      <td>15</td>\n",
              "    </tr>\n",
              "    <tr>\n",
              "      <th>APQ_P_APQ_P_PM</th>\n",
              "      <td>15</td>\n",
              "    </tr>\n",
              "    <tr>\n",
              "      <th>APQ_P_APQ_P_PP</th>\n",
              "      <td>15</td>\n",
              "    </tr>\n",
              "    <tr>\n",
              "      <th>SDQ_SDQ_Conduct_Problems</th>\n",
              "      <td>30</td>\n",
              "    </tr>\n",
              "    <tr>\n",
              "      <th>SDQ_SDQ_Difficulties_Total</th>\n",
              "      <td>30</td>\n",
              "    </tr>\n",
              "    <tr>\n",
              "      <th>SDQ_SDQ_Emotional_Problems</th>\n",
              "      <td>30</td>\n",
              "    </tr>\n",
              "    <tr>\n",
              "      <th>SDQ_SDQ_Externalizing</th>\n",
              "      <td>30</td>\n",
              "    </tr>\n",
              "    <tr>\n",
              "      <th>SDQ_SDQ_Generating_Impact</th>\n",
              "      <td>30</td>\n",
              "    </tr>\n",
              "    <tr>\n",
              "      <th>SDQ_SDQ_Hyperactivity</th>\n",
              "      <td>30</td>\n",
              "    </tr>\n",
              "    <tr>\n",
              "      <th>SDQ_SDQ_Internalizing</th>\n",
              "      <td>30</td>\n",
              "    </tr>\n",
              "    <tr>\n",
              "      <th>SDQ_SDQ_Peer_Problems</th>\n",
              "      <td>30</td>\n",
              "    </tr>\n",
              "    <tr>\n",
              "      <th>SDQ_SDQ_Prosocial</th>\n",
              "      <td>30</td>\n",
              "    </tr>\n",
              "    <tr>\n",
              "      <th>MRI_Track_Age_at_Scan</th>\n",
              "      <td>0</td>\n",
              "    </tr>\n",
              "  </tbody>\n",
              "</table>\n",
              "</div><br><label><b>dtype:</b> int64</label>"
            ]
          },
          "metadata": {},
          "execution_count": 88
        }
      ]
    },
    {
      "cell_type": "code",
      "source": [
        "quantitative_na_cols = df_quantitative_test.columns[df_quantitative_test.isna().any()]\n",
        "print(quantitative_na_cols)"
      ],
      "metadata": {
        "colab": {
          "base_uri": "https://localhost:8080/"
        },
        "id": "2SeiD8vPieLh",
        "outputId": "f981db04-1b97-41ab-849a-450396bc34e9"
      },
      "execution_count": null,
      "outputs": [
        {
          "output_type": "stream",
          "name": "stdout",
          "text": [
            "Index(['APQ_P_APQ_P_CP', 'APQ_P_APQ_P_ID', 'APQ_P_APQ_P_INV',\n",
            "       'APQ_P_APQ_P_OPD', 'APQ_P_APQ_P_PM', 'APQ_P_APQ_P_PP',\n",
            "       'SDQ_SDQ_Conduct_Problems', 'SDQ_SDQ_Difficulties_Total',\n",
            "       'SDQ_SDQ_Emotional_Problems', 'SDQ_SDQ_Externalizing',\n",
            "       'SDQ_SDQ_Generating_Impact', 'SDQ_SDQ_Hyperactivity',\n",
            "       'SDQ_SDQ_Internalizing', 'SDQ_SDQ_Peer_Problems', 'SDQ_SDQ_Prosocial'],\n",
            "      dtype='object')\n"
          ]
        }
      ]
    },
    {
      "cell_type": "code",
      "source": [
        "for col in quantitative_na_cols:\n",
        "  df_quantitative_test[col].fillna(df_quantitative_test[col].median(), inplace=True)"
      ],
      "metadata": {
        "id": "OffydKljiiMD"
      },
      "execution_count": null,
      "outputs": []
    },
    {
      "cell_type": "code",
      "source": [
        "df_quantitative_test.isna().sum()"
      ],
      "metadata": {
        "colab": {
          "base_uri": "https://localhost:8080/",
          "height": 680
        },
        "id": "q_TnzU1RinDR",
        "outputId": "3da419e3-e459-4535-a2fd-e6ca25c8c7cf"
      },
      "execution_count": null,
      "outputs": [
        {
          "output_type": "execute_result",
          "data": {
            "text/plain": [
              "participant_id                0\n",
              "EHQ_EHQ_Total                 0\n",
              "ColorVision_CV_Score          0\n",
              "APQ_P_APQ_P_CP                0\n",
              "APQ_P_APQ_P_ID                0\n",
              "APQ_P_APQ_P_INV               0\n",
              "APQ_P_APQ_P_OPD               0\n",
              "APQ_P_APQ_P_PM                0\n",
              "APQ_P_APQ_P_PP                0\n",
              "SDQ_SDQ_Conduct_Problems      0\n",
              "SDQ_SDQ_Difficulties_Total    0\n",
              "SDQ_SDQ_Emotional_Problems    0\n",
              "SDQ_SDQ_Externalizing         0\n",
              "SDQ_SDQ_Generating_Impact     0\n",
              "SDQ_SDQ_Hyperactivity         0\n",
              "SDQ_SDQ_Internalizing         0\n",
              "SDQ_SDQ_Peer_Problems         0\n",
              "SDQ_SDQ_Prosocial             0\n",
              "MRI_Track_Age_at_Scan         0\n",
              "dtype: int64"
            ],
            "text/html": [
              "<div>\n",
              "<style scoped>\n",
              "    .dataframe tbody tr th:only-of-type {\n",
              "        vertical-align: middle;\n",
              "    }\n",
              "\n",
              "    .dataframe tbody tr th {\n",
              "        vertical-align: top;\n",
              "    }\n",
              "\n",
              "    .dataframe thead th {\n",
              "        text-align: right;\n",
              "    }\n",
              "</style>\n",
              "<table border=\"1\" class=\"dataframe\">\n",
              "  <thead>\n",
              "    <tr style=\"text-align: right;\">\n",
              "      <th></th>\n",
              "      <th>0</th>\n",
              "    </tr>\n",
              "  </thead>\n",
              "  <tbody>\n",
              "    <tr>\n",
              "      <th>participant_id</th>\n",
              "      <td>0</td>\n",
              "    </tr>\n",
              "    <tr>\n",
              "      <th>EHQ_EHQ_Total</th>\n",
              "      <td>0</td>\n",
              "    </tr>\n",
              "    <tr>\n",
              "      <th>ColorVision_CV_Score</th>\n",
              "      <td>0</td>\n",
              "    </tr>\n",
              "    <tr>\n",
              "      <th>APQ_P_APQ_P_CP</th>\n",
              "      <td>0</td>\n",
              "    </tr>\n",
              "    <tr>\n",
              "      <th>APQ_P_APQ_P_ID</th>\n",
              "      <td>0</td>\n",
              "    </tr>\n",
              "    <tr>\n",
              "      <th>APQ_P_APQ_P_INV</th>\n",
              "      <td>0</td>\n",
              "    </tr>\n",
              "    <tr>\n",
              "      <th>APQ_P_APQ_P_OPD</th>\n",
              "      <td>0</td>\n",
              "    </tr>\n",
              "    <tr>\n",
              "      <th>APQ_P_APQ_P_PM</th>\n",
              "      <td>0</td>\n",
              "    </tr>\n",
              "    <tr>\n",
              "      <th>APQ_P_APQ_P_PP</th>\n",
              "      <td>0</td>\n",
              "    </tr>\n",
              "    <tr>\n",
              "      <th>SDQ_SDQ_Conduct_Problems</th>\n",
              "      <td>0</td>\n",
              "    </tr>\n",
              "    <tr>\n",
              "      <th>SDQ_SDQ_Difficulties_Total</th>\n",
              "      <td>0</td>\n",
              "    </tr>\n",
              "    <tr>\n",
              "      <th>SDQ_SDQ_Emotional_Problems</th>\n",
              "      <td>0</td>\n",
              "    </tr>\n",
              "    <tr>\n",
              "      <th>SDQ_SDQ_Externalizing</th>\n",
              "      <td>0</td>\n",
              "    </tr>\n",
              "    <tr>\n",
              "      <th>SDQ_SDQ_Generating_Impact</th>\n",
              "      <td>0</td>\n",
              "    </tr>\n",
              "    <tr>\n",
              "      <th>SDQ_SDQ_Hyperactivity</th>\n",
              "      <td>0</td>\n",
              "    </tr>\n",
              "    <tr>\n",
              "      <th>SDQ_SDQ_Internalizing</th>\n",
              "      <td>0</td>\n",
              "    </tr>\n",
              "    <tr>\n",
              "      <th>SDQ_SDQ_Peer_Problems</th>\n",
              "      <td>0</td>\n",
              "    </tr>\n",
              "    <tr>\n",
              "      <th>SDQ_SDQ_Prosocial</th>\n",
              "      <td>0</td>\n",
              "    </tr>\n",
              "    <tr>\n",
              "      <th>MRI_Track_Age_at_Scan</th>\n",
              "      <td>0</td>\n",
              "    </tr>\n",
              "  </tbody>\n",
              "</table>\n",
              "</div><br><label><b>dtype:</b> int64</label>"
            ]
          },
          "metadata": {},
          "execution_count": 91
        }
      ]
    },
    {
      "cell_type": "markdown",
      "source": [
        "### Test dataset merging + model fitting"
      ],
      "metadata": {
        "id": "7yMn5xyRiqZB"
      }
    },
    {
      "cell_type": "code",
      "source": [
        "merged_test_df = pd.merge(df_quantitative_test, df_categorical_test, on='participant_id', how='outer')\n",
        "merged_test_df = pd.merge(merged_test_df, df_functional_test, on='participant_id', how='outer')\n",
        "participant_ids_test = merged_test_df['participant_id']"
      ],
      "metadata": {
        "id": "WS_tFBDDb1Pe"
      },
      "execution_count": 143,
      "outputs": []
    },
    {
      "cell_type": "code",
      "source": [
        "X_test_set = merged_test_df[X.columns]"
      ],
      "metadata": {
        "id": "n_QOFMBce4HM"
      },
      "execution_count": 144,
      "outputs": []
    },
    {
      "cell_type": "code",
      "source": [
        "X_test_set.shape"
      ],
      "metadata": {
        "colab": {
          "base_uri": "https://localhost:8080/"
        },
        "id": "kT5E5hSIfWkH",
        "outputId": "796bd40d-2959-432e-bedc-f9ad72c5d782"
      },
      "execution_count": 145,
      "outputs": [
        {
          "output_type": "execute_result",
          "data": {
            "text/plain": [
              "(304, 19920)"
            ]
          },
          "metadata": {},
          "execution_count": 145
        }
      ]
    },
    {
      "cell_type": "code",
      "source": [
        "X_test.shape"
      ],
      "metadata": {
        "colab": {
          "base_uri": "https://localhost:8080/",
          "height": 144
        },
        "id": "HIao5cuyfZ0V",
        "outputId": "6bf79f85-6379-4bba-b89b-69c355eaa7c4"
      },
      "execution_count": 147,
      "outputs": [
        {
          "output_type": "error",
          "ename": "NameError",
          "evalue": "name 'X_test' is not defined",
          "traceback": [
            "\u001b[0;31m---------------------------------------------------------------------------\u001b[0m",
            "\u001b[0;31mNameError\u001b[0m                                 Traceback (most recent call last)",
            "\u001b[0;32m<ipython-input-147-cf290153e199>\u001b[0m in \u001b[0;36m<cell line: 0>\u001b[0;34m()\u001b[0m\n\u001b[0;32m----> 1\u001b[0;31m \u001b[0mX_test\u001b[0m\u001b[0;34m.\u001b[0m\u001b[0mshape\u001b[0m\u001b[0;34m\u001b[0m\u001b[0;34m\u001b[0m\u001b[0m\n\u001b[0m",
            "\u001b[0;31mNameError\u001b[0m: name 'X_test' is not defined"
          ]
        }
      ]
    },
    {
      "cell_type": "code",
      "source": [
        "X_test_set.isna().sum()"
      ],
      "metadata": {
        "colab": {
          "base_uri": "https://localhost:8080/",
          "height": 458
        },
        "collapsed": true,
        "id": "gP2kCi1di23T",
        "outputId": "2a957207-7f33-461d-9f76-6f298048b706"
      },
      "execution_count": null,
      "outputs": [
        {
          "output_type": "execute_result",
          "data": {
            "text/plain": [
              "EHQ_EHQ_Total           0\n",
              "ColorVision_CV_Score    0\n",
              "APQ_P_APQ_P_CP          0\n",
              "APQ_P_APQ_P_ID          0\n",
              "APQ_P_APQ_P_INV         0\n",
              "                       ..\n",
              "196throw_198thcolumn    0\n",
              "196throw_199thcolumn    0\n",
              "197throw_198thcolumn    0\n",
              "197throw_199thcolumn    0\n",
              "198throw_199thcolumn    0\n",
              "Length: 19920, dtype: int64"
            ],
            "text/html": [
              "<div>\n",
              "<style scoped>\n",
              "    .dataframe tbody tr th:only-of-type {\n",
              "        vertical-align: middle;\n",
              "    }\n",
              "\n",
              "    .dataframe tbody tr th {\n",
              "        vertical-align: top;\n",
              "    }\n",
              "\n",
              "    .dataframe thead th {\n",
              "        text-align: right;\n",
              "    }\n",
              "</style>\n",
              "<table border=\"1\" class=\"dataframe\">\n",
              "  <thead>\n",
              "    <tr style=\"text-align: right;\">\n",
              "      <th></th>\n",
              "      <th>0</th>\n",
              "    </tr>\n",
              "  </thead>\n",
              "  <tbody>\n",
              "    <tr>\n",
              "      <th>EHQ_EHQ_Total</th>\n",
              "      <td>0</td>\n",
              "    </tr>\n",
              "    <tr>\n",
              "      <th>ColorVision_CV_Score</th>\n",
              "      <td>0</td>\n",
              "    </tr>\n",
              "    <tr>\n",
              "      <th>APQ_P_APQ_P_CP</th>\n",
              "      <td>0</td>\n",
              "    </tr>\n",
              "    <tr>\n",
              "      <th>APQ_P_APQ_P_ID</th>\n",
              "      <td>0</td>\n",
              "    </tr>\n",
              "    <tr>\n",
              "      <th>APQ_P_APQ_P_INV</th>\n",
              "      <td>0</td>\n",
              "    </tr>\n",
              "    <tr>\n",
              "      <th>...</th>\n",
              "      <td>...</td>\n",
              "    </tr>\n",
              "    <tr>\n",
              "      <th>196throw_198thcolumn</th>\n",
              "      <td>0</td>\n",
              "    </tr>\n",
              "    <tr>\n",
              "      <th>196throw_199thcolumn</th>\n",
              "      <td>0</td>\n",
              "    </tr>\n",
              "    <tr>\n",
              "      <th>197throw_198thcolumn</th>\n",
              "      <td>0</td>\n",
              "    </tr>\n",
              "    <tr>\n",
              "      <th>197throw_199thcolumn</th>\n",
              "      <td>0</td>\n",
              "    </tr>\n",
              "    <tr>\n",
              "      <th>198throw_199thcolumn</th>\n",
              "      <td>0</td>\n",
              "    </tr>\n",
              "  </tbody>\n",
              "</table>\n",
              "<p>19920 rows × 1 columns</p>\n",
              "</div><br><label><b>dtype:</b> int64</label>"
            ]
          },
          "metadata": {},
          "execution_count": 102
        }
      ]
    },
    {
      "cell_type": "code",
      "source": [
        "X_test_set_scaled = scaler.fit_transform(X_test_set)\n",
        "adhd_test_predictions, sex_test_predictions = model.predict(X_test_set_scaled)"
      ],
      "metadata": {
        "colab": {
          "base_uri": "https://localhost:8080/"
        },
        "id": "OHMIdArNi_Az",
        "outputId": "26b6505b-eb06-4b93-87e1-7bb2b93e6566"
      },
      "execution_count": null,
      "outputs": [
        {
          "output_type": "stream",
          "name": "stdout",
          "text": [
            "\u001b[1m10/10\u001b[0m \u001b[32m━━━━━━━━━━━━━━━━━━━━\u001b[0m\u001b[37m\u001b[0m \u001b[1m0s\u001b[0m 7ms/step \n"
          ]
        }
      ]
    },
    {
      "cell_type": "code",
      "source": [
        "adhd_test_predictions_label = (adhd_test_predictions > 0.121).astype(int)\n",
        "sex_test_predictions_label = (sex_test_predictions > 0.07).astype(int)"
      ],
      "metadata": {
        "id": "zpvzsK0OjAsG"
      },
      "execution_count": null,
      "outputs": []
    },
    {
      "cell_type": "code",
      "source": [
        "print(len(adhd_test_predictions))\n",
        "print(len(sex_test_predictions))\n",
        "print(len(participant_ids_test))"
      ],
      "metadata": {
        "colab": {
          "base_uri": "https://localhost:8080/"
        },
        "id": "1-5kL8vGjCO4",
        "outputId": "5fa95772-8d6d-4a8a-fbe1-60d86bca7ea5"
      },
      "execution_count": null,
      "outputs": [
        {
          "output_type": "stream",
          "name": "stdout",
          "text": [
            "304\n",
            "304\n",
            "304\n"
          ]
        }
      ]
    },
    {
      "cell_type": "code",
      "source": [
        "test_results_df = pd.DataFrame({\n",
        "    'participant_id': participant_ids_test,\n",
        "    'ADHD_Outcome': adhd_test_predictions_label.flatten(),\n",
        "    'Sex_F': sex_test_predictions_label.flatten()\n",
        "})"
      ],
      "metadata": {
        "id": "IhsVMObFjDmw"
      },
      "execution_count": null,
      "outputs": []
    },
    {
      "cell_type": "code",
      "source": [
        "test_results_df.head(30)"
      ],
      "metadata": {
        "colab": {
          "base_uri": "https://localhost:8080/",
          "height": 990
        },
        "id": "kI4AZu8rjFWe",
        "outputId": "9e9aab90-2a24-4ceb-a2f1-59d16217ff32"
      },
      "execution_count": null,
      "outputs": [
        {
          "output_type": "execute_result",
          "data": {
            "text/plain": [
              "   participant_id  ADHD_Outcome  Sex_F\n",
              "0    06HFIpqKfXy9             1      1\n",
              "1    0Dua0TUw4sNZ             1      0\n",
              "2    0ImS6uhE3Ie9             1      1\n",
              "3    0VHL9SCh2TfC             1      1\n",
              "4    0X2H4LroxZcw             1      0\n",
              "5    0idudG3MZeOR             1      0\n",
              "6    0joIpvJZmHlM             1      0\n",
              "7    0wdp92SlZ6os             1      1\n",
              "8    19mb5yGJigtw             1      0\n",
              "9    1j28gfEoCQ3o             1      1\n",
              "10   1lqQa6Bvsvgo             1      0\n",
              "11   1nuCB3iu56Ao             1      1\n",
              "12   1zYwUOsWtWUO             1      0\n",
              "13   22mg5880yUSV             1      1\n",
              "14   3CHeLp88N9PU             1      0\n",
              "15   3GuHHSzexdrD             1      1\n",
              "16   3VbkvJ22j9Fu             1      1\n",
              "17   3ex9wBx3bXzf             1      1\n",
              "18   3ymvGMbsXkDa             1      1\n",
              "19   47cpL5bSIaes             1      1\n",
              "20   4QBTjDoVpVt6             1      1\n",
              "21   4SP0VjzBYTnA             1      1\n",
              "22   4TfoOtVqQGIS             1      0\n",
              "23   5F9KuchRWc28             1      1\n",
              "24   5gde2X56TEaV             1      0\n",
              "25   5irK4m6otW7R             1      0\n",
              "26   5nPxL5XWeWqT             1      0\n",
              "27   66ATazbm1n2H             1      1\n",
              "28   6g9qhyTboWDX             1      0\n",
              "29   6mGSjnkluhCm             0      1"
            ],
            "text/html": [
              "\n",
              "  <div id=\"df-73f75c40-58ab-4b21-a9f5-34dc9f435a36\" class=\"colab-df-container\">\n",
              "    <div>\n",
              "<style scoped>\n",
              "    .dataframe tbody tr th:only-of-type {\n",
              "        vertical-align: middle;\n",
              "    }\n",
              "\n",
              "    .dataframe tbody tr th {\n",
              "        vertical-align: top;\n",
              "    }\n",
              "\n",
              "    .dataframe thead th {\n",
              "        text-align: right;\n",
              "    }\n",
              "</style>\n",
              "<table border=\"1\" class=\"dataframe\">\n",
              "  <thead>\n",
              "    <tr style=\"text-align: right;\">\n",
              "      <th></th>\n",
              "      <th>participant_id</th>\n",
              "      <th>ADHD_Outcome</th>\n",
              "      <th>Sex_F</th>\n",
              "    </tr>\n",
              "  </thead>\n",
              "  <tbody>\n",
              "    <tr>\n",
              "      <th>0</th>\n",
              "      <td>06HFIpqKfXy9</td>\n",
              "      <td>1</td>\n",
              "      <td>1</td>\n",
              "    </tr>\n",
              "    <tr>\n",
              "      <th>1</th>\n",
              "      <td>0Dua0TUw4sNZ</td>\n",
              "      <td>1</td>\n",
              "      <td>0</td>\n",
              "    </tr>\n",
              "    <tr>\n",
              "      <th>2</th>\n",
              "      <td>0ImS6uhE3Ie9</td>\n",
              "      <td>1</td>\n",
              "      <td>1</td>\n",
              "    </tr>\n",
              "    <tr>\n",
              "      <th>3</th>\n",
              "      <td>0VHL9SCh2TfC</td>\n",
              "      <td>1</td>\n",
              "      <td>1</td>\n",
              "    </tr>\n",
              "    <tr>\n",
              "      <th>4</th>\n",
              "      <td>0X2H4LroxZcw</td>\n",
              "      <td>1</td>\n",
              "      <td>0</td>\n",
              "    </tr>\n",
              "    <tr>\n",
              "      <th>5</th>\n",
              "      <td>0idudG3MZeOR</td>\n",
              "      <td>1</td>\n",
              "      <td>0</td>\n",
              "    </tr>\n",
              "    <tr>\n",
              "      <th>6</th>\n",
              "      <td>0joIpvJZmHlM</td>\n",
              "      <td>1</td>\n",
              "      <td>0</td>\n",
              "    </tr>\n",
              "    <tr>\n",
              "      <th>7</th>\n",
              "      <td>0wdp92SlZ6os</td>\n",
              "      <td>1</td>\n",
              "      <td>1</td>\n",
              "    </tr>\n",
              "    <tr>\n",
              "      <th>8</th>\n",
              "      <td>19mb5yGJigtw</td>\n",
              "      <td>1</td>\n",
              "      <td>0</td>\n",
              "    </tr>\n",
              "    <tr>\n",
              "      <th>9</th>\n",
              "      <td>1j28gfEoCQ3o</td>\n",
              "      <td>1</td>\n",
              "      <td>1</td>\n",
              "    </tr>\n",
              "    <tr>\n",
              "      <th>10</th>\n",
              "      <td>1lqQa6Bvsvgo</td>\n",
              "      <td>1</td>\n",
              "      <td>0</td>\n",
              "    </tr>\n",
              "    <tr>\n",
              "      <th>11</th>\n",
              "      <td>1nuCB3iu56Ao</td>\n",
              "      <td>1</td>\n",
              "      <td>1</td>\n",
              "    </tr>\n",
              "    <tr>\n",
              "      <th>12</th>\n",
              "      <td>1zYwUOsWtWUO</td>\n",
              "      <td>1</td>\n",
              "      <td>0</td>\n",
              "    </tr>\n",
              "    <tr>\n",
              "      <th>13</th>\n",
              "      <td>22mg5880yUSV</td>\n",
              "      <td>1</td>\n",
              "      <td>1</td>\n",
              "    </tr>\n",
              "    <tr>\n",
              "      <th>14</th>\n",
              "      <td>3CHeLp88N9PU</td>\n",
              "      <td>1</td>\n",
              "      <td>0</td>\n",
              "    </tr>\n",
              "    <tr>\n",
              "      <th>15</th>\n",
              "      <td>3GuHHSzexdrD</td>\n",
              "      <td>1</td>\n",
              "      <td>1</td>\n",
              "    </tr>\n",
              "    <tr>\n",
              "      <th>16</th>\n",
              "      <td>3VbkvJ22j9Fu</td>\n",
              "      <td>1</td>\n",
              "      <td>1</td>\n",
              "    </tr>\n",
              "    <tr>\n",
              "      <th>17</th>\n",
              "      <td>3ex9wBx3bXzf</td>\n",
              "      <td>1</td>\n",
              "      <td>1</td>\n",
              "    </tr>\n",
              "    <tr>\n",
              "      <th>18</th>\n",
              "      <td>3ymvGMbsXkDa</td>\n",
              "      <td>1</td>\n",
              "      <td>1</td>\n",
              "    </tr>\n",
              "    <tr>\n",
              "      <th>19</th>\n",
              "      <td>47cpL5bSIaes</td>\n",
              "      <td>1</td>\n",
              "      <td>1</td>\n",
              "    </tr>\n",
              "    <tr>\n",
              "      <th>20</th>\n",
              "      <td>4QBTjDoVpVt6</td>\n",
              "      <td>1</td>\n",
              "      <td>1</td>\n",
              "    </tr>\n",
              "    <tr>\n",
              "      <th>21</th>\n",
              "      <td>4SP0VjzBYTnA</td>\n",
              "      <td>1</td>\n",
              "      <td>1</td>\n",
              "    </tr>\n",
              "    <tr>\n",
              "      <th>22</th>\n",
              "      <td>4TfoOtVqQGIS</td>\n",
              "      <td>1</td>\n",
              "      <td>0</td>\n",
              "    </tr>\n",
              "    <tr>\n",
              "      <th>23</th>\n",
              "      <td>5F9KuchRWc28</td>\n",
              "      <td>1</td>\n",
              "      <td>1</td>\n",
              "    </tr>\n",
              "    <tr>\n",
              "      <th>24</th>\n",
              "      <td>5gde2X56TEaV</td>\n",
              "      <td>1</td>\n",
              "      <td>0</td>\n",
              "    </tr>\n",
              "    <tr>\n",
              "      <th>25</th>\n",
              "      <td>5irK4m6otW7R</td>\n",
              "      <td>1</td>\n",
              "      <td>0</td>\n",
              "    </tr>\n",
              "    <tr>\n",
              "      <th>26</th>\n",
              "      <td>5nPxL5XWeWqT</td>\n",
              "      <td>1</td>\n",
              "      <td>0</td>\n",
              "    </tr>\n",
              "    <tr>\n",
              "      <th>27</th>\n",
              "      <td>66ATazbm1n2H</td>\n",
              "      <td>1</td>\n",
              "      <td>1</td>\n",
              "    </tr>\n",
              "    <tr>\n",
              "      <th>28</th>\n",
              "      <td>6g9qhyTboWDX</td>\n",
              "      <td>1</td>\n",
              "      <td>0</td>\n",
              "    </tr>\n",
              "    <tr>\n",
              "      <th>29</th>\n",
              "      <td>6mGSjnkluhCm</td>\n",
              "      <td>0</td>\n",
              "      <td>1</td>\n",
              "    </tr>\n",
              "  </tbody>\n",
              "</table>\n",
              "</div>\n",
              "    <div class=\"colab-df-buttons\">\n",
              "\n",
              "  <div class=\"colab-df-container\">\n",
              "    <button class=\"colab-df-convert\" onclick=\"convertToInteractive('df-73f75c40-58ab-4b21-a9f5-34dc9f435a36')\"\n",
              "            title=\"Convert this dataframe to an interactive table.\"\n",
              "            style=\"display:none;\">\n",
              "\n",
              "  <svg xmlns=\"http://www.w3.org/2000/svg\" height=\"24px\" viewBox=\"0 -960 960 960\">\n",
              "    <path d=\"M120-120v-720h720v720H120Zm60-500h600v-160H180v160Zm220 220h160v-160H400v160Zm0 220h160v-160H400v160ZM180-400h160v-160H180v160Zm440 0h160v-160H620v160ZM180-180h160v-160H180v160Zm440 0h160v-160H620v160Z\"/>\n",
              "  </svg>\n",
              "    </button>\n",
              "\n",
              "  <style>\n",
              "    .colab-df-container {\n",
              "      display:flex;\n",
              "      gap: 12px;\n",
              "    }\n",
              "\n",
              "    .colab-df-convert {\n",
              "      background-color: #E8F0FE;\n",
              "      border: none;\n",
              "      border-radius: 50%;\n",
              "      cursor: pointer;\n",
              "      display: none;\n",
              "      fill: #1967D2;\n",
              "      height: 32px;\n",
              "      padding: 0 0 0 0;\n",
              "      width: 32px;\n",
              "    }\n",
              "\n",
              "    .colab-df-convert:hover {\n",
              "      background-color: #E2EBFA;\n",
              "      box-shadow: 0px 1px 2px rgba(60, 64, 67, 0.3), 0px 1px 3px 1px rgba(60, 64, 67, 0.15);\n",
              "      fill: #174EA6;\n",
              "    }\n",
              "\n",
              "    .colab-df-buttons div {\n",
              "      margin-bottom: 4px;\n",
              "    }\n",
              "\n",
              "    [theme=dark] .colab-df-convert {\n",
              "      background-color: #3B4455;\n",
              "      fill: #D2E3FC;\n",
              "    }\n",
              "\n",
              "    [theme=dark] .colab-df-convert:hover {\n",
              "      background-color: #434B5C;\n",
              "      box-shadow: 0px 1px 3px 1px rgba(0, 0, 0, 0.15);\n",
              "      filter: drop-shadow(0px 1px 2px rgba(0, 0, 0, 0.3));\n",
              "      fill: #FFFFFF;\n",
              "    }\n",
              "  </style>\n",
              "\n",
              "    <script>\n",
              "      const buttonEl =\n",
              "        document.querySelector('#df-73f75c40-58ab-4b21-a9f5-34dc9f435a36 button.colab-df-convert');\n",
              "      buttonEl.style.display =\n",
              "        google.colab.kernel.accessAllowed ? 'block' : 'none';\n",
              "\n",
              "      async function convertToInteractive(key) {\n",
              "        const element = document.querySelector('#df-73f75c40-58ab-4b21-a9f5-34dc9f435a36');\n",
              "        const dataTable =\n",
              "          await google.colab.kernel.invokeFunction('convertToInteractive',\n",
              "                                                    [key], {});\n",
              "        if (!dataTable) return;\n",
              "\n",
              "        const docLinkHtml = 'Like what you see? Visit the ' +\n",
              "          '<a target=\"_blank\" href=https://colab.research.google.com/notebooks/data_table.ipynb>data table notebook</a>'\n",
              "          + ' to learn more about interactive tables.';\n",
              "        element.innerHTML = '';\n",
              "        dataTable['output_type'] = 'display_data';\n",
              "        await google.colab.output.renderOutput(dataTable, element);\n",
              "        const docLink = document.createElement('div');\n",
              "        docLink.innerHTML = docLinkHtml;\n",
              "        element.appendChild(docLink);\n",
              "      }\n",
              "    </script>\n",
              "  </div>\n",
              "\n",
              "\n",
              "<div id=\"df-61027832-9d7b-4047-a406-635b3fe5d567\">\n",
              "  <button class=\"colab-df-quickchart\" onclick=\"quickchart('df-61027832-9d7b-4047-a406-635b3fe5d567')\"\n",
              "            title=\"Suggest charts\"\n",
              "            style=\"display:none;\">\n",
              "\n",
              "<svg xmlns=\"http://www.w3.org/2000/svg\" height=\"24px\"viewBox=\"0 0 24 24\"\n",
              "     width=\"24px\">\n",
              "    <g>\n",
              "        <path d=\"M19 3H5c-1.1 0-2 .9-2 2v14c0 1.1.9 2 2 2h14c1.1 0 2-.9 2-2V5c0-1.1-.9-2-2-2zM9 17H7v-7h2v7zm4 0h-2V7h2v10zm4 0h-2v-4h2v4z\"/>\n",
              "    </g>\n",
              "</svg>\n",
              "  </button>\n",
              "\n",
              "<style>\n",
              "  .colab-df-quickchart {\n",
              "      --bg-color: #E8F0FE;\n",
              "      --fill-color: #1967D2;\n",
              "      --hover-bg-color: #E2EBFA;\n",
              "      --hover-fill-color: #174EA6;\n",
              "      --disabled-fill-color: #AAA;\n",
              "      --disabled-bg-color: #DDD;\n",
              "  }\n",
              "\n",
              "  [theme=dark] .colab-df-quickchart {\n",
              "      --bg-color: #3B4455;\n",
              "      --fill-color: #D2E3FC;\n",
              "      --hover-bg-color: #434B5C;\n",
              "      --hover-fill-color: #FFFFFF;\n",
              "      --disabled-bg-color: #3B4455;\n",
              "      --disabled-fill-color: #666;\n",
              "  }\n",
              "\n",
              "  .colab-df-quickchart {\n",
              "    background-color: var(--bg-color);\n",
              "    border: none;\n",
              "    border-radius: 50%;\n",
              "    cursor: pointer;\n",
              "    display: none;\n",
              "    fill: var(--fill-color);\n",
              "    height: 32px;\n",
              "    padding: 0;\n",
              "    width: 32px;\n",
              "  }\n",
              "\n",
              "  .colab-df-quickchart:hover {\n",
              "    background-color: var(--hover-bg-color);\n",
              "    box-shadow: 0 1px 2px rgba(60, 64, 67, 0.3), 0 1px 3px 1px rgba(60, 64, 67, 0.15);\n",
              "    fill: var(--button-hover-fill-color);\n",
              "  }\n",
              "\n",
              "  .colab-df-quickchart-complete:disabled,\n",
              "  .colab-df-quickchart-complete:disabled:hover {\n",
              "    background-color: var(--disabled-bg-color);\n",
              "    fill: var(--disabled-fill-color);\n",
              "    box-shadow: none;\n",
              "  }\n",
              "\n",
              "  .colab-df-spinner {\n",
              "    border: 2px solid var(--fill-color);\n",
              "    border-color: transparent;\n",
              "    border-bottom-color: var(--fill-color);\n",
              "    animation:\n",
              "      spin 1s steps(1) infinite;\n",
              "  }\n",
              "\n",
              "  @keyframes spin {\n",
              "    0% {\n",
              "      border-color: transparent;\n",
              "      border-bottom-color: var(--fill-color);\n",
              "      border-left-color: var(--fill-color);\n",
              "    }\n",
              "    20% {\n",
              "      border-color: transparent;\n",
              "      border-left-color: var(--fill-color);\n",
              "      border-top-color: var(--fill-color);\n",
              "    }\n",
              "    30% {\n",
              "      border-color: transparent;\n",
              "      border-left-color: var(--fill-color);\n",
              "      border-top-color: var(--fill-color);\n",
              "      border-right-color: var(--fill-color);\n",
              "    }\n",
              "    40% {\n",
              "      border-color: transparent;\n",
              "      border-right-color: var(--fill-color);\n",
              "      border-top-color: var(--fill-color);\n",
              "    }\n",
              "    60% {\n",
              "      border-color: transparent;\n",
              "      border-right-color: var(--fill-color);\n",
              "    }\n",
              "    80% {\n",
              "      border-color: transparent;\n",
              "      border-right-color: var(--fill-color);\n",
              "      border-bottom-color: var(--fill-color);\n",
              "    }\n",
              "    90% {\n",
              "      border-color: transparent;\n",
              "      border-bottom-color: var(--fill-color);\n",
              "    }\n",
              "  }\n",
              "</style>\n",
              "\n",
              "  <script>\n",
              "    async function quickchart(key) {\n",
              "      const quickchartButtonEl =\n",
              "        document.querySelector('#' + key + ' button');\n",
              "      quickchartButtonEl.disabled = true;  // To prevent multiple clicks.\n",
              "      quickchartButtonEl.classList.add('colab-df-spinner');\n",
              "      try {\n",
              "        const charts = await google.colab.kernel.invokeFunction(\n",
              "            'suggestCharts', [key], {});\n",
              "      } catch (error) {\n",
              "        console.error('Error during call to suggestCharts:', error);\n",
              "      }\n",
              "      quickchartButtonEl.classList.remove('colab-df-spinner');\n",
              "      quickchartButtonEl.classList.add('colab-df-quickchart-complete');\n",
              "    }\n",
              "    (() => {\n",
              "      let quickchartButtonEl =\n",
              "        document.querySelector('#df-61027832-9d7b-4047-a406-635b3fe5d567 button');\n",
              "      quickchartButtonEl.style.display =\n",
              "        google.colab.kernel.accessAllowed ? 'block' : 'none';\n",
              "    })();\n",
              "  </script>\n",
              "</div>\n",
              "\n",
              "    </div>\n",
              "  </div>\n"
            ],
            "application/vnd.google.colaboratory.intrinsic+json": {
              "type": "dataframe",
              "variable_name": "test_results_df",
              "summary": "{\n  \"name\": \"test_results_df\",\n  \"rows\": 304,\n  \"fields\": [\n    {\n      \"column\": \"participant_id\",\n      \"properties\": {\n        \"dtype\": \"string\",\n        \"num_unique_values\": 304,\n        \"samples\": [\n          \"cRySmCadYFRO\",\n          \"WDaVjmgqDtdH\",\n          \"Ljvrs76QJuI5\"\n        ],\n        \"semantic_type\": \"\",\n        \"description\": \"\"\n      }\n    },\n    {\n      \"column\": \"ADHD_Outcome\",\n      \"properties\": {\n        \"dtype\": \"number\",\n        \"std\": 0,\n        \"min\": 0,\n        \"max\": 1,\n        \"num_unique_values\": 2,\n        \"samples\": [\n          0,\n          1\n        ],\n        \"semantic_type\": \"\",\n        \"description\": \"\"\n      }\n    },\n    {\n      \"column\": \"Sex_F\",\n      \"properties\": {\n        \"dtype\": \"number\",\n        \"std\": 0,\n        \"min\": 0,\n        \"max\": 1,\n        \"num_unique_values\": 2,\n        \"samples\": [\n          0,\n          1\n        ],\n        \"semantic_type\": \"\",\n        \"description\": \"\"\n      }\n    }\n  ]\n}"
            }
          },
          "metadata": {},
          "execution_count": 107
        }
      ]
    },
    {
      "cell_type": "markdown",
      "source": [
        "### Orignal test dataset handling"
      ],
      "metadata": {
        "id": "DGRG5Ljnixu-"
      }
    },
    {
      "cell_type": "code",
      "source": [
        "merged_test_df = pd.merge(df_quantitative_test, df_categorical_test, on='participant_id', how='outer')\n",
        "merged_test_df = pd.merge(merged_test_df, df_functional_test, on='participant_id', how='outer')\n",
        "participant_ids_test = merged_test_df['participant_id']"
      ],
      "metadata": {
        "id": "WMrr78BdixSB"
      },
      "execution_count": 165,
      "outputs": []
    },
    {
      "cell_type": "code",
      "source": [
        "# QUICK FIX OF FILL NA\n",
        "X_test_set = X_test_set.fillna(X_test_set.mean())\n",
        "\n",
        "X_test_set.fillna({'MRI_Track_Age_at_Scan': X['MRI_Track_Age_at_Scan'].median()}, inplace = True)\n",
        "X_test_set.fillna({'PreInt_Demos_Fam_Child_Ethnicity': X['PreInt_Demos_Fam_Child_Ethnicity'].mean()}, inplace = True)\n",
        "\n",
        "X_test_set.head()\n",
        "X_test_set.isna().sum()"
      ],
      "metadata": {
        "colab": {
          "base_uri": "https://localhost:8080/",
          "height": 458
        },
        "id": "0reXG2-tety3",
        "outputId": "bc48b785-9359-4986-fc9b-66bd22db5088"
      },
      "execution_count": 166,
      "outputs": [
        {
          "output_type": "execute_result",
          "data": {
            "text/plain": [
              "EHQ_EHQ_Total           0\n",
              "ColorVision_CV_Score    0\n",
              "APQ_P_APQ_P_CP          0\n",
              "APQ_P_APQ_P_ID          0\n",
              "APQ_P_APQ_P_INV         0\n",
              "                       ..\n",
              "196throw_198thcolumn    0\n",
              "196throw_199thcolumn    0\n",
              "197throw_198thcolumn    0\n",
              "197throw_199thcolumn    0\n",
              "198throw_199thcolumn    0\n",
              "Length: 19920, dtype: int64"
            ],
            "text/html": [
              "<div>\n",
              "<style scoped>\n",
              "    .dataframe tbody tr th:only-of-type {\n",
              "        vertical-align: middle;\n",
              "    }\n",
              "\n",
              "    .dataframe tbody tr th {\n",
              "        vertical-align: top;\n",
              "    }\n",
              "\n",
              "    .dataframe thead th {\n",
              "        text-align: right;\n",
              "    }\n",
              "</style>\n",
              "<table border=\"1\" class=\"dataframe\">\n",
              "  <thead>\n",
              "    <tr style=\"text-align: right;\">\n",
              "      <th></th>\n",
              "      <th>0</th>\n",
              "    </tr>\n",
              "  </thead>\n",
              "  <tbody>\n",
              "    <tr>\n",
              "      <th>EHQ_EHQ_Total</th>\n",
              "      <td>0</td>\n",
              "    </tr>\n",
              "    <tr>\n",
              "      <th>ColorVision_CV_Score</th>\n",
              "      <td>0</td>\n",
              "    </tr>\n",
              "    <tr>\n",
              "      <th>APQ_P_APQ_P_CP</th>\n",
              "      <td>0</td>\n",
              "    </tr>\n",
              "    <tr>\n",
              "      <th>APQ_P_APQ_P_ID</th>\n",
              "      <td>0</td>\n",
              "    </tr>\n",
              "    <tr>\n",
              "      <th>APQ_P_APQ_P_INV</th>\n",
              "      <td>0</td>\n",
              "    </tr>\n",
              "    <tr>\n",
              "      <th>...</th>\n",
              "      <td>...</td>\n",
              "    </tr>\n",
              "    <tr>\n",
              "      <th>196throw_198thcolumn</th>\n",
              "      <td>0</td>\n",
              "    </tr>\n",
              "    <tr>\n",
              "      <th>196throw_199thcolumn</th>\n",
              "      <td>0</td>\n",
              "    </tr>\n",
              "    <tr>\n",
              "      <th>197throw_198thcolumn</th>\n",
              "      <td>0</td>\n",
              "    </tr>\n",
              "    <tr>\n",
              "      <th>197throw_199thcolumn</th>\n",
              "      <td>0</td>\n",
              "    </tr>\n",
              "    <tr>\n",
              "      <th>198throw_199thcolumn</th>\n",
              "      <td>0</td>\n",
              "    </tr>\n",
              "  </tbody>\n",
              "</table>\n",
              "<p>19920 rows × 1 columns</p>\n",
              "</div><br><label><b>dtype:</b> int64</label>"
            ]
          },
          "metadata": {},
          "execution_count": 166
        }
      ]
    },
    {
      "cell_type": "code",
      "source": [
        "X_test_set_scaled = scaler.fit_transform(X_test_set)\n",
        "\n",
        "adhd_test_predictions = model_adhd.predict(X_test_set_scaled)\n",
        "sex_test_predictions = model_sex.predict(X_test_set_scaled)"
      ],
      "metadata": {
        "colab": {
          "base_uri": "https://localhost:8080/"
        },
        "id": "8jre905AdIMm",
        "outputId": "ae699aa1-2e7b-4358-8a0b-3248fb763d25"
      },
      "execution_count": 167,
      "outputs": [
        {
          "output_type": "stream",
          "name": "stdout",
          "text": [
            "\u001b[1m10/10\u001b[0m \u001b[32m━━━━━━━━━━━━━━━━━━━━\u001b[0m\u001b[37m\u001b[0m \u001b[1m0s\u001b[0m 10ms/step\n",
            "\u001b[1m10/10\u001b[0m \u001b[32m━━━━━━━━━━━━━━━━━━━━\u001b[0m\u001b[37m\u001b[0m \u001b[1m0s\u001b[0m 11ms/step\n"
          ]
        }
      ]
    },
    {
      "cell_type": "code",
      "source": [
        "adhd_test_predictions_label = (adhd_test_predictions > 0.044).astype(int)\n",
        "sex_test_predictions_label = (sex_test_predictions > 0.246).astype(int)"
      ],
      "metadata": {
        "id": "7kO-X5Osdptp"
      },
      "execution_count": 168,
      "outputs": []
    },
    {
      "cell_type": "code",
      "source": [
        "print(len(adhd_test_predictions))\n",
        "print(len(sex_test_predictions))\n",
        "print(len(participant_ids_test))"
      ],
      "metadata": {
        "colab": {
          "base_uri": "https://localhost:8080/"
        },
        "id": "Y_3uo2qvdykX",
        "outputId": "f3c5e0a5-8ea4-4ba8-de19-893c2c67cd47"
      },
      "execution_count": 169,
      "outputs": [
        {
          "output_type": "stream",
          "name": "stdout",
          "text": [
            "304\n",
            "304\n",
            "304\n"
          ]
        }
      ]
    },
    {
      "cell_type": "code",
      "source": [
        "test_results_df = pd.DataFrame({\n",
        "    'participant_id': participant_ids_test,\n",
        "    'ADHD_Outcome': adhd_test_predictions_label.flatten(),\n",
        "    'Sex_F': sex_test_predictions_label.flatten()\n",
        "})"
      ],
      "metadata": {
        "id": "df1qOxyydcND"
      },
      "execution_count": 170,
      "outputs": []
    },
    {
      "cell_type": "code",
      "source": [
        "test_results_df.head(30)"
      ],
      "metadata": {
        "colab": {
          "base_uri": "https://localhost:8080/",
          "height": 990
        },
        "id": "htBAIefjgClb",
        "outputId": "c844ab95-76fc-43d1-cd1b-098663855b3e"
      },
      "execution_count": 171,
      "outputs": [
        {
          "output_type": "execute_result",
          "data": {
            "text/plain": [
              "   participant_id  ADHD_Outcome  Sex_F\n",
              "0    06HFIpqKfXy9             1      1\n",
              "1    0Dua0TUw4sNZ             1      0\n",
              "2    0ImS6uhE3Ie9             1      1\n",
              "3    0VHL9SCh2TfC             1      1\n",
              "4    0X2H4LroxZcw             1      0\n",
              "5    0idudG3MZeOR             1      0\n",
              "6    0joIpvJZmHlM             1      0\n",
              "7    0wdp92SlZ6os             1      1\n",
              "8    19mb5yGJigtw             1      0\n",
              "9    1j28gfEoCQ3o             1      1\n",
              "10   1lqQa6Bvsvgo             1      0\n",
              "11   1nuCB3iu56Ao             1      1\n",
              "12   1zYwUOsWtWUO             1      0\n",
              "13   22mg5880yUSV             1      1\n",
              "14   3CHeLp88N9PU             1      0\n",
              "15   3GuHHSzexdrD             1      0\n",
              "16   3VbkvJ22j9Fu             1      1\n",
              "17   3ex9wBx3bXzf             1      1\n",
              "18   3ymvGMbsXkDa             1      1\n",
              "19   47cpL5bSIaes             1      1\n",
              "20   4QBTjDoVpVt6             1      1\n",
              "21   4SP0VjzBYTnA             1      0\n",
              "22   4TfoOtVqQGIS             1      0\n",
              "23   5F9KuchRWc28             1      1\n",
              "24   5gde2X56TEaV             1      0\n",
              "25   5irK4m6otW7R             1      0\n",
              "26   5nPxL5XWeWqT             1      0\n",
              "27   66ATazbm1n2H             1      1\n",
              "28   6g9qhyTboWDX             1      1\n",
              "29   6mGSjnkluhCm             0      1"
            ],
            "text/html": [
              "\n",
              "  <div id=\"df-5d41f6df-3941-4797-8c94-b29b57ab1dd6\" class=\"colab-df-container\">\n",
              "    <div>\n",
              "<style scoped>\n",
              "    .dataframe tbody tr th:only-of-type {\n",
              "        vertical-align: middle;\n",
              "    }\n",
              "\n",
              "    .dataframe tbody tr th {\n",
              "        vertical-align: top;\n",
              "    }\n",
              "\n",
              "    .dataframe thead th {\n",
              "        text-align: right;\n",
              "    }\n",
              "</style>\n",
              "<table border=\"1\" class=\"dataframe\">\n",
              "  <thead>\n",
              "    <tr style=\"text-align: right;\">\n",
              "      <th></th>\n",
              "      <th>participant_id</th>\n",
              "      <th>ADHD_Outcome</th>\n",
              "      <th>Sex_F</th>\n",
              "    </tr>\n",
              "  </thead>\n",
              "  <tbody>\n",
              "    <tr>\n",
              "      <th>0</th>\n",
              "      <td>06HFIpqKfXy9</td>\n",
              "      <td>1</td>\n",
              "      <td>1</td>\n",
              "    </tr>\n",
              "    <tr>\n",
              "      <th>1</th>\n",
              "      <td>0Dua0TUw4sNZ</td>\n",
              "      <td>1</td>\n",
              "      <td>0</td>\n",
              "    </tr>\n",
              "    <tr>\n",
              "      <th>2</th>\n",
              "      <td>0ImS6uhE3Ie9</td>\n",
              "      <td>1</td>\n",
              "      <td>1</td>\n",
              "    </tr>\n",
              "    <tr>\n",
              "      <th>3</th>\n",
              "      <td>0VHL9SCh2TfC</td>\n",
              "      <td>1</td>\n",
              "      <td>1</td>\n",
              "    </tr>\n",
              "    <tr>\n",
              "      <th>4</th>\n",
              "      <td>0X2H4LroxZcw</td>\n",
              "      <td>1</td>\n",
              "      <td>0</td>\n",
              "    </tr>\n",
              "    <tr>\n",
              "      <th>5</th>\n",
              "      <td>0idudG3MZeOR</td>\n",
              "      <td>1</td>\n",
              "      <td>0</td>\n",
              "    </tr>\n",
              "    <tr>\n",
              "      <th>6</th>\n",
              "      <td>0joIpvJZmHlM</td>\n",
              "      <td>1</td>\n",
              "      <td>0</td>\n",
              "    </tr>\n",
              "    <tr>\n",
              "      <th>7</th>\n",
              "      <td>0wdp92SlZ6os</td>\n",
              "      <td>1</td>\n",
              "      <td>1</td>\n",
              "    </tr>\n",
              "    <tr>\n",
              "      <th>8</th>\n",
              "      <td>19mb5yGJigtw</td>\n",
              "      <td>1</td>\n",
              "      <td>0</td>\n",
              "    </tr>\n",
              "    <tr>\n",
              "      <th>9</th>\n",
              "      <td>1j28gfEoCQ3o</td>\n",
              "      <td>1</td>\n",
              "      <td>1</td>\n",
              "    </tr>\n",
              "    <tr>\n",
              "      <th>10</th>\n",
              "      <td>1lqQa6Bvsvgo</td>\n",
              "      <td>1</td>\n",
              "      <td>0</td>\n",
              "    </tr>\n",
              "    <tr>\n",
              "      <th>11</th>\n",
              "      <td>1nuCB3iu56Ao</td>\n",
              "      <td>1</td>\n",
              "      <td>1</td>\n",
              "    </tr>\n",
              "    <tr>\n",
              "      <th>12</th>\n",
              "      <td>1zYwUOsWtWUO</td>\n",
              "      <td>1</td>\n",
              "      <td>0</td>\n",
              "    </tr>\n",
              "    <tr>\n",
              "      <th>13</th>\n",
              "      <td>22mg5880yUSV</td>\n",
              "      <td>1</td>\n",
              "      <td>1</td>\n",
              "    </tr>\n",
              "    <tr>\n",
              "      <th>14</th>\n",
              "      <td>3CHeLp88N9PU</td>\n",
              "      <td>1</td>\n",
              "      <td>0</td>\n",
              "    </tr>\n",
              "    <tr>\n",
              "      <th>15</th>\n",
              "      <td>3GuHHSzexdrD</td>\n",
              "      <td>1</td>\n",
              "      <td>0</td>\n",
              "    </tr>\n",
              "    <tr>\n",
              "      <th>16</th>\n",
              "      <td>3VbkvJ22j9Fu</td>\n",
              "      <td>1</td>\n",
              "      <td>1</td>\n",
              "    </tr>\n",
              "    <tr>\n",
              "      <th>17</th>\n",
              "      <td>3ex9wBx3bXzf</td>\n",
              "      <td>1</td>\n",
              "      <td>1</td>\n",
              "    </tr>\n",
              "    <tr>\n",
              "      <th>18</th>\n",
              "      <td>3ymvGMbsXkDa</td>\n",
              "      <td>1</td>\n",
              "      <td>1</td>\n",
              "    </tr>\n",
              "    <tr>\n",
              "      <th>19</th>\n",
              "      <td>47cpL5bSIaes</td>\n",
              "      <td>1</td>\n",
              "      <td>1</td>\n",
              "    </tr>\n",
              "    <tr>\n",
              "      <th>20</th>\n",
              "      <td>4QBTjDoVpVt6</td>\n",
              "      <td>1</td>\n",
              "      <td>1</td>\n",
              "    </tr>\n",
              "    <tr>\n",
              "      <th>21</th>\n",
              "      <td>4SP0VjzBYTnA</td>\n",
              "      <td>1</td>\n",
              "      <td>0</td>\n",
              "    </tr>\n",
              "    <tr>\n",
              "      <th>22</th>\n",
              "      <td>4TfoOtVqQGIS</td>\n",
              "      <td>1</td>\n",
              "      <td>0</td>\n",
              "    </tr>\n",
              "    <tr>\n",
              "      <th>23</th>\n",
              "      <td>5F9KuchRWc28</td>\n",
              "      <td>1</td>\n",
              "      <td>1</td>\n",
              "    </tr>\n",
              "    <tr>\n",
              "      <th>24</th>\n",
              "      <td>5gde2X56TEaV</td>\n",
              "      <td>1</td>\n",
              "      <td>0</td>\n",
              "    </tr>\n",
              "    <tr>\n",
              "      <th>25</th>\n",
              "      <td>5irK4m6otW7R</td>\n",
              "      <td>1</td>\n",
              "      <td>0</td>\n",
              "    </tr>\n",
              "    <tr>\n",
              "      <th>26</th>\n",
              "      <td>5nPxL5XWeWqT</td>\n",
              "      <td>1</td>\n",
              "      <td>0</td>\n",
              "    </tr>\n",
              "    <tr>\n",
              "      <th>27</th>\n",
              "      <td>66ATazbm1n2H</td>\n",
              "      <td>1</td>\n",
              "      <td>1</td>\n",
              "    </tr>\n",
              "    <tr>\n",
              "      <th>28</th>\n",
              "      <td>6g9qhyTboWDX</td>\n",
              "      <td>1</td>\n",
              "      <td>1</td>\n",
              "    </tr>\n",
              "    <tr>\n",
              "      <th>29</th>\n",
              "      <td>6mGSjnkluhCm</td>\n",
              "      <td>0</td>\n",
              "      <td>1</td>\n",
              "    </tr>\n",
              "  </tbody>\n",
              "</table>\n",
              "</div>\n",
              "    <div class=\"colab-df-buttons\">\n",
              "\n",
              "  <div class=\"colab-df-container\">\n",
              "    <button class=\"colab-df-convert\" onclick=\"convertToInteractive('df-5d41f6df-3941-4797-8c94-b29b57ab1dd6')\"\n",
              "            title=\"Convert this dataframe to an interactive table.\"\n",
              "            style=\"display:none;\">\n",
              "\n",
              "  <svg xmlns=\"http://www.w3.org/2000/svg\" height=\"24px\" viewBox=\"0 -960 960 960\">\n",
              "    <path d=\"M120-120v-720h720v720H120Zm60-500h600v-160H180v160Zm220 220h160v-160H400v160Zm0 220h160v-160H400v160ZM180-400h160v-160H180v160Zm440 0h160v-160H620v160ZM180-180h160v-160H180v160Zm440 0h160v-160H620v160Z\"/>\n",
              "  </svg>\n",
              "    </button>\n",
              "\n",
              "  <style>\n",
              "    .colab-df-container {\n",
              "      display:flex;\n",
              "      gap: 12px;\n",
              "    }\n",
              "\n",
              "    .colab-df-convert {\n",
              "      background-color: #E8F0FE;\n",
              "      border: none;\n",
              "      border-radius: 50%;\n",
              "      cursor: pointer;\n",
              "      display: none;\n",
              "      fill: #1967D2;\n",
              "      height: 32px;\n",
              "      padding: 0 0 0 0;\n",
              "      width: 32px;\n",
              "    }\n",
              "\n",
              "    .colab-df-convert:hover {\n",
              "      background-color: #E2EBFA;\n",
              "      box-shadow: 0px 1px 2px rgba(60, 64, 67, 0.3), 0px 1px 3px 1px rgba(60, 64, 67, 0.15);\n",
              "      fill: #174EA6;\n",
              "    }\n",
              "\n",
              "    .colab-df-buttons div {\n",
              "      margin-bottom: 4px;\n",
              "    }\n",
              "\n",
              "    [theme=dark] .colab-df-convert {\n",
              "      background-color: #3B4455;\n",
              "      fill: #D2E3FC;\n",
              "    }\n",
              "\n",
              "    [theme=dark] .colab-df-convert:hover {\n",
              "      background-color: #434B5C;\n",
              "      box-shadow: 0px 1px 3px 1px rgba(0, 0, 0, 0.15);\n",
              "      filter: drop-shadow(0px 1px 2px rgba(0, 0, 0, 0.3));\n",
              "      fill: #FFFFFF;\n",
              "    }\n",
              "  </style>\n",
              "\n",
              "    <script>\n",
              "      const buttonEl =\n",
              "        document.querySelector('#df-5d41f6df-3941-4797-8c94-b29b57ab1dd6 button.colab-df-convert');\n",
              "      buttonEl.style.display =\n",
              "        google.colab.kernel.accessAllowed ? 'block' : 'none';\n",
              "\n",
              "      async function convertToInteractive(key) {\n",
              "        const element = document.querySelector('#df-5d41f6df-3941-4797-8c94-b29b57ab1dd6');\n",
              "        const dataTable =\n",
              "          await google.colab.kernel.invokeFunction('convertToInteractive',\n",
              "                                                    [key], {});\n",
              "        if (!dataTable) return;\n",
              "\n",
              "        const docLinkHtml = 'Like what you see? Visit the ' +\n",
              "          '<a target=\"_blank\" href=https://colab.research.google.com/notebooks/data_table.ipynb>data table notebook</a>'\n",
              "          + ' to learn more about interactive tables.';\n",
              "        element.innerHTML = '';\n",
              "        dataTable['output_type'] = 'display_data';\n",
              "        await google.colab.output.renderOutput(dataTable, element);\n",
              "        const docLink = document.createElement('div');\n",
              "        docLink.innerHTML = docLinkHtml;\n",
              "        element.appendChild(docLink);\n",
              "      }\n",
              "    </script>\n",
              "  </div>\n",
              "\n",
              "\n",
              "<div id=\"df-c94e69b6-fa0c-4389-9a03-3f59f4b5ac93\">\n",
              "  <button class=\"colab-df-quickchart\" onclick=\"quickchart('df-c94e69b6-fa0c-4389-9a03-3f59f4b5ac93')\"\n",
              "            title=\"Suggest charts\"\n",
              "            style=\"display:none;\">\n",
              "\n",
              "<svg xmlns=\"http://www.w3.org/2000/svg\" height=\"24px\"viewBox=\"0 0 24 24\"\n",
              "     width=\"24px\">\n",
              "    <g>\n",
              "        <path d=\"M19 3H5c-1.1 0-2 .9-2 2v14c0 1.1.9 2 2 2h14c1.1 0 2-.9 2-2V5c0-1.1-.9-2-2-2zM9 17H7v-7h2v7zm4 0h-2V7h2v10zm4 0h-2v-4h2v4z\"/>\n",
              "    </g>\n",
              "</svg>\n",
              "  </button>\n",
              "\n",
              "<style>\n",
              "  .colab-df-quickchart {\n",
              "      --bg-color: #E8F0FE;\n",
              "      --fill-color: #1967D2;\n",
              "      --hover-bg-color: #E2EBFA;\n",
              "      --hover-fill-color: #174EA6;\n",
              "      --disabled-fill-color: #AAA;\n",
              "      --disabled-bg-color: #DDD;\n",
              "  }\n",
              "\n",
              "  [theme=dark] .colab-df-quickchart {\n",
              "      --bg-color: #3B4455;\n",
              "      --fill-color: #D2E3FC;\n",
              "      --hover-bg-color: #434B5C;\n",
              "      --hover-fill-color: #FFFFFF;\n",
              "      --disabled-bg-color: #3B4455;\n",
              "      --disabled-fill-color: #666;\n",
              "  }\n",
              "\n",
              "  .colab-df-quickchart {\n",
              "    background-color: var(--bg-color);\n",
              "    border: none;\n",
              "    border-radius: 50%;\n",
              "    cursor: pointer;\n",
              "    display: none;\n",
              "    fill: var(--fill-color);\n",
              "    height: 32px;\n",
              "    padding: 0;\n",
              "    width: 32px;\n",
              "  }\n",
              "\n",
              "  .colab-df-quickchart:hover {\n",
              "    background-color: var(--hover-bg-color);\n",
              "    box-shadow: 0 1px 2px rgba(60, 64, 67, 0.3), 0 1px 3px 1px rgba(60, 64, 67, 0.15);\n",
              "    fill: var(--button-hover-fill-color);\n",
              "  }\n",
              "\n",
              "  .colab-df-quickchart-complete:disabled,\n",
              "  .colab-df-quickchart-complete:disabled:hover {\n",
              "    background-color: var(--disabled-bg-color);\n",
              "    fill: var(--disabled-fill-color);\n",
              "    box-shadow: none;\n",
              "  }\n",
              "\n",
              "  .colab-df-spinner {\n",
              "    border: 2px solid var(--fill-color);\n",
              "    border-color: transparent;\n",
              "    border-bottom-color: var(--fill-color);\n",
              "    animation:\n",
              "      spin 1s steps(1) infinite;\n",
              "  }\n",
              "\n",
              "  @keyframes spin {\n",
              "    0% {\n",
              "      border-color: transparent;\n",
              "      border-bottom-color: var(--fill-color);\n",
              "      border-left-color: var(--fill-color);\n",
              "    }\n",
              "    20% {\n",
              "      border-color: transparent;\n",
              "      border-left-color: var(--fill-color);\n",
              "      border-top-color: var(--fill-color);\n",
              "    }\n",
              "    30% {\n",
              "      border-color: transparent;\n",
              "      border-left-color: var(--fill-color);\n",
              "      border-top-color: var(--fill-color);\n",
              "      border-right-color: var(--fill-color);\n",
              "    }\n",
              "    40% {\n",
              "      border-color: transparent;\n",
              "      border-right-color: var(--fill-color);\n",
              "      border-top-color: var(--fill-color);\n",
              "    }\n",
              "    60% {\n",
              "      border-color: transparent;\n",
              "      border-right-color: var(--fill-color);\n",
              "    }\n",
              "    80% {\n",
              "      border-color: transparent;\n",
              "      border-right-color: var(--fill-color);\n",
              "      border-bottom-color: var(--fill-color);\n",
              "    }\n",
              "    90% {\n",
              "      border-color: transparent;\n",
              "      border-bottom-color: var(--fill-color);\n",
              "    }\n",
              "  }\n",
              "</style>\n",
              "\n",
              "  <script>\n",
              "    async function quickchart(key) {\n",
              "      const quickchartButtonEl =\n",
              "        document.querySelector('#' + key + ' button');\n",
              "      quickchartButtonEl.disabled = true;  // To prevent multiple clicks.\n",
              "      quickchartButtonEl.classList.add('colab-df-spinner');\n",
              "      try {\n",
              "        const charts = await google.colab.kernel.invokeFunction(\n",
              "            'suggestCharts', [key], {});\n",
              "      } catch (error) {\n",
              "        console.error('Error during call to suggestCharts:', error);\n",
              "      }\n",
              "      quickchartButtonEl.classList.remove('colab-df-spinner');\n",
              "      quickchartButtonEl.classList.add('colab-df-quickchart-complete');\n",
              "    }\n",
              "    (() => {\n",
              "      let quickchartButtonEl =\n",
              "        document.querySelector('#df-c94e69b6-fa0c-4389-9a03-3f59f4b5ac93 button');\n",
              "      quickchartButtonEl.style.display =\n",
              "        google.colab.kernel.accessAllowed ? 'block' : 'none';\n",
              "    })();\n",
              "  </script>\n",
              "</div>\n",
              "\n",
              "    </div>\n",
              "  </div>\n"
            ],
            "application/vnd.google.colaboratory.intrinsic+json": {
              "type": "dataframe",
              "variable_name": "test_results_df",
              "summary": "{\n  \"name\": \"test_results_df\",\n  \"rows\": 304,\n  \"fields\": [\n    {\n      \"column\": \"participant_id\",\n      \"properties\": {\n        \"dtype\": \"string\",\n        \"num_unique_values\": 304,\n        \"samples\": [\n          \"cRySmCadYFRO\",\n          \"WDaVjmgqDtdH\",\n          \"Ljvrs76QJuI5\"\n        ],\n        \"semantic_type\": \"\",\n        \"description\": \"\"\n      }\n    },\n    {\n      \"column\": \"ADHD_Outcome\",\n      \"properties\": {\n        \"dtype\": \"number\",\n        \"std\": 0,\n        \"min\": 0,\n        \"max\": 1,\n        \"num_unique_values\": 2,\n        \"samples\": [\n          0,\n          1\n        ],\n        \"semantic_type\": \"\",\n        \"description\": \"\"\n      }\n    },\n    {\n      \"column\": \"Sex_F\",\n      \"properties\": {\n        \"dtype\": \"number\",\n        \"std\": 0,\n        \"min\": 0,\n        \"max\": 1,\n        \"num_unique_values\": 2,\n        \"samples\": [\n          0,\n          1\n        ],\n        \"semantic_type\": \"\",\n        \"description\": \"\"\n      }\n    }\n  ]\n}"
            }
          },
          "metadata": {},
          "execution_count": 171
        }
      ]
    },
    {
      "cell_type": "markdown",
      "source": [
        "### Outputting result"
      ],
      "metadata": {
        "id": "v_R37m1GjHi0"
      }
    },
    {
      "cell_type": "code",
      "source": [
        "test_results_df.to_csv('/content/drive/MyDrive/WiDS/neuralNetwork_seperate_model_forADHD_SEX.csv', index=False)"
      ],
      "metadata": {
        "id": "MXruOHzokTrq"
      },
      "execution_count": 172,
      "outputs": []
    }
  ]
}